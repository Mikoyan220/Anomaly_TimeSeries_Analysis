{
 "cells": [
  {
   "cell_type": "code",
   "id": "b9c86301d7d84d6d",
   "metadata": {
    "ExecuteTime": {
     "end_time": "2024-04-17T09:14:32.707860Z",
     "start_time": "2024-04-17T09:14:32.702505Z"
    }
   },
   "source": [
    "# use ee from Google Earth Engine API for Authentification and Initialization\n",
    "# import ee\n",
    "\n",
    "# use plotly as base map\n",
    "\"\"\"\n",
    "Geemap has six plotting backends, including folium, ipyleaflet, plotly, pydeck, kepler.gl, and heremap. \n",
    "An interactive map created using one of the plotting backends can be displayed in a Jupyter environment, such as Google Colab, Jupyter Notebook, and JupyterLab. \n",
    "By default, import geemap will use the ipyleaflet plotting backend.\n",
    "\"\"\"\n",
    "# import geemap # cancelled\n",
    "# import geemap.geemap as geemap # cancelled\n",
    "# import geemap.core as geemap  # -- priority 3\n",
    "# import geemap.foliumap as geemap # -- priority 2 -- javascript\n",
    "# import geemap.deck as geemap -- # by CARTO \n",
    "# import geemap.kepler as geemap # cancelled\n",
    "import geemap.plotlymap as geemap # -- priority 1 <-- banned me from using this\n",
    "# import geemap.heremap as geemap # -- invalid "
   ],
   "outputs": [
    {
     "data": {
      "text/plain": [
       "<IPython.core.display.HTML object>"
      ],
      "text/html": [
       "\n",
       "            <style>\n",
       "                .geemap-dark {\n",
       "                    --jp-widgets-color: white;\n",
       "                    --jp-widgets-label-color: white;\n",
       "                    --jp-ui-font-color1: white;\n",
       "                    --jp-layout-color2: #454545;\n",
       "                    background-color: #383838;\n",
       "                }\n",
       "\n",
       "                .geemap-dark .jupyter-button {\n",
       "                    --jp-layout-color3: #383838;\n",
       "                }\n",
       "\n",
       "                .geemap-colab {\n",
       "                    background-color: var(--colab-primary-surface-color, white);\n",
       "                }\n",
       "\n",
       "                .geemap-colab .jupyter-button {\n",
       "                    --jp-layout-color3: var(--colab-primary-surface-color, white);\n",
       "                }\n",
       "            </style>\n",
       "            "
      ]
     },
     "metadata": {},
     "output_type": "display_data"
    }
   ],
   "execution_count": 69
  },
  {
   "metadata": {},
   "cell_type": "code",
   "outputs": [
    {
     "data": {
      "text/html": [
       "\n",
       "            <style>\n",
       "                .geemap-dark {\n",
       "                    --jp-widgets-color: white;\n",
       "                    --jp-widgets-label-color: white;\n",
       "                    --jp-ui-font-color1: white;\n",
       "                    --jp-layout-color2: #454545;\n",
       "                    background-color: #383838;\n",
       "                }\n",
       "\n",
       "                .geemap-dark .jupyter-button {\n",
       "                    --jp-layout-color3: #383838;\n",
       "                }\n",
       "\n",
       "                .geemap-colab {\n",
       "                    background-color: var(--colab-primary-surface-color, white);\n",
       "                }\n",
       "\n",
       "                .geemap-colab .jupyter-button {\n",
       "                    --jp-layout-color3: var(--colab-primary-surface-color, white);\n",
       "                }\n",
       "            </style>\n",
       "            "
      ],
      "text/plain": [
       "<IPython.core.display.HTML object>"
      ]
     },
     "metadata": {},
     "output_type": "display_data"
    }
   ],
   "execution_count": 2,
   "source": "import pandas as pd",
   "id": "758f45db9e26d88"
  },
  {
   "metadata": {},
   "cell_type": "code",
   "outputs": [],
   "execution_count": null,
   "source": "",
   "id": "1d1223e60d1dd6a2"
  },
  {
   "cell_type": "code",
   "id": "4659793c13f049a7",
   "metadata": {
    "ExecuteTime": {
     "end_time": "2024-04-17T08:26:52.171810Z",
     "start_time": "2024-04-17T08:26:52.004723Z"
    }
   },
   "source": [
    "''' ARCHIVE\n",
    "m = geemap.Map()\n",
    "m.add_basemap('basemap_selector')\n",
    "m\n",
    "'''"
   ],
   "outputs": [
    {
     "data": {
      "text/plain": [
       "<IPython.core.display.HTML object>"
      ],
      "text/html": [
       "\n",
       "            <style>\n",
       "                .geemap-dark {\n",
       "                    --jp-widgets-color: white;\n",
       "                    --jp-widgets-label-color: white;\n",
       "                    --jp-ui-font-color1: white;\n",
       "                    --jp-layout-color2: #454545;\n",
       "                    background-color: #383838;\n",
       "                }\n",
       "\n",
       "                .geemap-dark .jupyter-button {\n",
       "                    --jp-layout-color3: #383838;\n",
       "                }\n",
       "\n",
       "                .geemap-colab {\n",
       "                    background-color: var(--colab-primary-surface-color, white);\n",
       "                }\n",
       "\n",
       "                .geemap-colab .jupyter-button {\n",
       "                    --jp-layout-color3: var(--colab-primary-surface-color, white);\n",
       "                }\n",
       "            </style>\n",
       "            "
      ]
     },
     "metadata": {},
     "output_type": "display_data"
    },
    {
     "ename": "ValueError",
     "evalue": "Basemap basemap_selector not found. Choose from OpenStreetMap,ROADMAP,SATELLITE,TERRAIN,HYBRID,BaseMapDE.Color,BaseMapDE.Grey,BasemapAT.basemap,BasemapAT.grau,BasemapAT.highdpi,BasemapAT.orthofoto,BasemapAT.overlay,BasemapAT.surface,BasemapAT.terrain,CartoDB.DarkMatter,CartoDB.DarkMatterNoLabels,CartoDB.DarkMatterOnlyLabels,CartoDB.Positron,CartoDB.PositronNoLabels,CartoDB.PositronOnlyLabels,CartoDB.Voyager,CartoDB.VoyagerLabelsUnder,CartoDB.VoyagerNoLabels,CartoDB.VoyagerOnlyLabels,CyclOSM,Esri.AntarcticBasemap,Esri.AntarcticImagery,Esri.ArcticImagery,Esri.ArcticOceanBase,Esri.ArcticOceanReference,Esri.DeLorme,Esri.NatGeoWorldMap,Esri.OceanBasemap,Esri.WorldGrayCanvas,Esri.WorldPhysical,Esri.WorldShadedRelief,Esri.WorldTerrain,FreeMapSK,Gaode.Normal,Gaode.Satellite,HikeBike.HikeBike,HikeBike.HillShading,JusticeMap.americanIndian,JusticeMap.asian,JusticeMap.black,JusticeMap.hispanic,JusticeMap.income,JusticeMap.multi,JusticeMap.nonWhite,JusticeMap.plurality,JusticeMap.white,MtbMap,NASAGIBS.ASTER_GDEM_Greyscale_Shaded_Relief,NASAGIBS.BlueMarble3031,NASAGIBS.BlueMarble3413,NASAGIBS.ModisAquaBands721CR,NASAGIBS.ModisAquaTrueColorCR,NASAGIBS.ModisTerraAOD,NASAGIBS.ModisTerraBands367CR,NASAGIBS.ModisTerraBands721CR,NASAGIBS.ModisTerraChlorophyll,NASAGIBS.ModisTerraLSTDay,NASAGIBS.ModisTerraSnowCover,NASAGIBS.ModisTerraTrueColorCR,NASAGIBS.ViirsEarthAtNight2012,NASAGIBS.ViirsTrueColorCR,OPNVKarte,OneMapSG.Default,OneMapSG.Grey,OneMapSG.LandLot,OneMapSG.Night,OneMapSG.Original,OpenAIP,OpenFireMap,OpenRailwayMap,OpenSeaMap,OpenSnowMap.pistes,OpenStreetMap.BZH,OpenStreetMap.BlackAndWhite,OpenStreetMap.CH,OpenStreetMap.DE,OpenStreetMap.HOT,OpenStreetMap.Mapnik,OpenTopoMap,SafeCast,Stadia.AlidadeSmooth,Stadia.AlidadeSmoothDark,Stadia.OSMBright,Stadia.Outdoors,Stadia.StamenTerrain,Stadia.StamenTerrainBackground,Stadia.StamenTerrainLabels,Stadia.StamenTerrainLines,Stadia.StamenToner,Stadia.StamenTonerBackground,Stadia.StamenTonerLabels,Stadia.StamenTonerLines,Stadia.StamenTonerLite,Stadia.StamenWatercolor,Strava.All,Strava.Ride,Strava.Run,Strava.Water,Strava.Winter,SwissFederalGeoportal.JourneyThroughTime,SwissFederalGeoportal.NationalMapColor,SwissFederalGeoportal.NationalMapGrey,SwissFederalGeoportal.SWISSIMAGE,TopPlusOpen.Color,TopPlusOpen.Grey,USGS.USImagery,USGS.USImageryTopo,USGS.USTopo,WaymarkedTrails.cycling,WaymarkedTrails.hiking,WaymarkedTrails.mtb,WaymarkedTrails.riding,WaymarkedTrails.skating,WaymarkedTrails.slopes,nlmaps.grijs,nlmaps.luchtfoto,nlmaps.pastel,nlmaps.standaard,nlmaps.water",
     "output_type": "error",
     "traceback": [
      "\u001B[1;31m---------------------------------------------------------------------------\u001B[0m",
      "\u001B[1;31mValueError\u001B[0m                                Traceback (most recent call last)",
      "Cell \u001B[1;32mIn[32], line 2\u001B[0m\n\u001B[0;32m      1\u001B[0m m \u001B[38;5;241m=\u001B[39m geemap\u001B[38;5;241m.\u001B[39mMap()\n\u001B[1;32m----> 2\u001B[0m \u001B[43mm\u001B[49m\u001B[38;5;241;43m.\u001B[39;49m\u001B[43madd_basemap\u001B[49m\u001B[43m(\u001B[49m\u001B[38;5;124;43m'\u001B[39;49m\u001B[38;5;124;43mbasemap_selector\u001B[39;49m\u001B[38;5;124;43m'\u001B[39;49m\u001B[43m)\u001B[49m\n\u001B[0;32m      3\u001B[0m m  \n",
      "File \u001B[1;32m~\\.conda\\envs\\base-geemap-mamba\\Lib\\site-packages\\geemap\\plotlymap.py:209\u001B[0m, in \u001B[0;36mMap.add_basemap\u001B[1;34m(self, basemap)\u001B[0m\n\u001B[0;32m    203\u001B[0m \u001B[38;5;250m\u001B[39m\u001B[38;5;124;03m\"\"\"Adds a basemap to the map.\u001B[39;00m\n\u001B[0;32m    204\u001B[0m \n\u001B[0;32m    205\u001B[0m \u001B[38;5;124;03mArgs:\u001B[39;00m\n\u001B[0;32m    206\u001B[0m \u001B[38;5;124;03m    basemap (str, optional): Can be one of string from basemaps. Defaults to 'ROADMAP'.\u001B[39;00m\n\u001B[0;32m    207\u001B[0m \u001B[38;5;124;03m\"\"\"\u001B[39;00m\n\u001B[0;32m    208\u001B[0m \u001B[38;5;28;01mif\u001B[39;00m basemap \u001B[38;5;129;01mnot\u001B[39;00m \u001B[38;5;129;01min\u001B[39;00m basemaps:\n\u001B[1;32m--> 209\u001B[0m     \u001B[38;5;28;01mraise\u001B[39;00m \u001B[38;5;167;01mValueError\u001B[39;00m(\n\u001B[0;32m    210\u001B[0m         \u001B[38;5;124mf\u001B[39m\u001B[38;5;124m\"\u001B[39m\u001B[38;5;124mBasemap \u001B[39m\u001B[38;5;132;01m{\u001B[39;00mbasemap\u001B[38;5;132;01m}\u001B[39;00m\u001B[38;5;124m not found. Choose from \u001B[39m\u001B[38;5;132;01m{\u001B[39;00m\u001B[38;5;124m'\u001B[39m\u001B[38;5;124m,\u001B[39m\u001B[38;5;124m'\u001B[39m\u001B[38;5;241m.\u001B[39mjoin(basemaps\u001B[38;5;241m.\u001B[39mkeys())\u001B[38;5;132;01m}\u001B[39;00m\u001B[38;5;124m\"\u001B[39m\n\u001B[0;32m    211\u001B[0m     )\n\u001B[0;32m    213\u001B[0m \u001B[38;5;28;01mif\u001B[39;00m basemap \u001B[38;5;129;01min\u001B[39;00m \u001B[38;5;28mself\u001B[39m\u001B[38;5;241m.\u001B[39mget_tile_layers():\n\u001B[0;32m    214\u001B[0m     \u001B[38;5;28mself\u001B[39m\u001B[38;5;241m.\u001B[39mremove_basemap(basemap)\n",
      "\u001B[1;31mValueError\u001B[0m: Basemap basemap_selector not found. Choose from OpenStreetMap,ROADMAP,SATELLITE,TERRAIN,HYBRID,BaseMapDE.Color,BaseMapDE.Grey,BasemapAT.basemap,BasemapAT.grau,BasemapAT.highdpi,BasemapAT.orthofoto,BasemapAT.overlay,BasemapAT.surface,BasemapAT.terrain,CartoDB.DarkMatter,CartoDB.DarkMatterNoLabels,CartoDB.DarkMatterOnlyLabels,CartoDB.Positron,CartoDB.PositronNoLabels,CartoDB.PositronOnlyLabels,CartoDB.Voyager,CartoDB.VoyagerLabelsUnder,CartoDB.VoyagerNoLabels,CartoDB.VoyagerOnlyLabels,CyclOSM,Esri.AntarcticBasemap,Esri.AntarcticImagery,Esri.ArcticImagery,Esri.ArcticOceanBase,Esri.ArcticOceanReference,Esri.DeLorme,Esri.NatGeoWorldMap,Esri.OceanBasemap,Esri.WorldGrayCanvas,Esri.WorldPhysical,Esri.WorldShadedRelief,Esri.WorldTerrain,FreeMapSK,Gaode.Normal,Gaode.Satellite,HikeBike.HikeBike,HikeBike.HillShading,JusticeMap.americanIndian,JusticeMap.asian,JusticeMap.black,JusticeMap.hispanic,JusticeMap.income,JusticeMap.multi,JusticeMap.nonWhite,JusticeMap.plurality,JusticeMap.white,MtbMap,NASAGIBS.ASTER_GDEM_Greyscale_Shaded_Relief,NASAGIBS.BlueMarble3031,NASAGIBS.BlueMarble3413,NASAGIBS.ModisAquaBands721CR,NASAGIBS.ModisAquaTrueColorCR,NASAGIBS.ModisTerraAOD,NASAGIBS.ModisTerraBands367CR,NASAGIBS.ModisTerraBands721CR,NASAGIBS.ModisTerraChlorophyll,NASAGIBS.ModisTerraLSTDay,NASAGIBS.ModisTerraSnowCover,NASAGIBS.ModisTerraTrueColorCR,NASAGIBS.ViirsEarthAtNight2012,NASAGIBS.ViirsTrueColorCR,OPNVKarte,OneMapSG.Default,OneMapSG.Grey,OneMapSG.LandLot,OneMapSG.Night,OneMapSG.Original,OpenAIP,OpenFireMap,OpenRailwayMap,OpenSeaMap,OpenSnowMap.pistes,OpenStreetMap.BZH,OpenStreetMap.BlackAndWhite,OpenStreetMap.CH,OpenStreetMap.DE,OpenStreetMap.HOT,OpenStreetMap.Mapnik,OpenTopoMap,SafeCast,Stadia.AlidadeSmooth,Stadia.AlidadeSmoothDark,Stadia.OSMBright,Stadia.Outdoors,Stadia.StamenTerrain,Stadia.StamenTerrainBackground,Stadia.StamenTerrainLabels,Stadia.StamenTerrainLines,Stadia.StamenToner,Stadia.StamenTonerBackground,Stadia.StamenTonerLabels,Stadia.StamenTonerLines,Stadia.StamenTonerLite,Stadia.StamenWatercolor,Strava.All,Strava.Ride,Strava.Run,Strava.Water,Strava.Winter,SwissFederalGeoportal.JourneyThroughTime,SwissFederalGeoportal.NationalMapColor,SwissFederalGeoportal.NationalMapGrey,SwissFederalGeoportal.SWISSIMAGE,TopPlusOpen.Color,TopPlusOpen.Grey,USGS.USImagery,USGS.USImageryTopo,USGS.USTopo,WaymarkedTrails.cycling,WaymarkedTrails.hiking,WaymarkedTrails.mtb,WaymarkedTrails.riding,WaymarkedTrails.skating,WaymarkedTrails.slopes,nlmaps.grijs,nlmaps.luchtfoto,nlmaps.pastel,nlmaps.standaard,nlmaps.water"
     ]
    }
   ],
   "execution_count": 32
  },
  {
   "cell_type": "code",
   "execution_count": 2,
   "id": "53ea6bb5f80e63f2",
   "metadata": {
    "ExecuteTime": {
     "end_time": "2024-04-16T17:06:22.824810Z",
     "start_time": "2024-04-16T17:06:22.544189Z"
    }
   },
   "outputs": [
    {
     "data": {
      "text/html": [
       "\n",
       "            <style>\n",
       "                .geemap-dark {\n",
       "                    --jp-widgets-color: white;\n",
       "                    --jp-widgets-label-color: white;\n",
       "                    --jp-ui-font-color1: white;\n",
       "                    --jp-layout-color2: #454545;\n",
       "                    background-color: #383838;\n",
       "                }\n",
       "\n",
       "                .geemap-dark .jupyter-button {\n",
       "                    --jp-layout-color3: #383838;\n",
       "                }\n",
       "\n",
       "                .geemap-colab {\n",
       "                    background-color: var(--colab-primary-surface-color, white);\n",
       "                }\n",
       "\n",
       "                .geemap-colab .jupyter-button {\n",
       "                    --jp-layout-color3: var(--colab-primary-surface-color, white);\n",
       "                }\n",
       "            </style>\n",
       "            "
      ],
      "text/plain": [
       "<IPython.core.display.HTML object>"
      ]
     },
     "metadata": {},
     "output_type": "display_data"
    },
    {
     "data": {
      "text/plain": [
       "'\\nee.Authenticate(\\n    authorization_code=None,    #optional\\n    quiet=None,    #optional\\n    code_verifier=None,  #optional\\n    auth_mode=None   #optional\\n)\\n'"
      ]
     },
     "execution_count": 2,
     "metadata": {},
     "output_type": "execute_result"
    }
   ],
   "source": [
    "## Authenticate of Google Earth Engine API\n",
    "## need to run only once, no need to run this cell again\n",
    "### weird -,-\" why all variable in the function is optional\n",
    "\"\"\"\n",
    "ee.Authenticate(\n",
    "    authorization_code=None,    #optional\n",
    "    quiet=None,    #optional\n",
    "    code_verifier=None,  #optional\n",
    "    auth_mode=None   #optional\n",
    ")\n",
    "\"\"\""
   ]
  },
  {
   "cell_type": "code",
   "execution_count": 3,
   "id": "17a43a749dd7420b",
   "metadata": {
    "ExecuteTime": {
     "end_time": "2024-04-16T17:06:34.749967Z",
     "start_time": "2024-04-16T17:06:30.324444Z"
    }
   },
   "outputs": [
    {
     "data": {
      "text/html": [
       "\n",
       "            <style>\n",
       "                .geemap-dark {\n",
       "                    --jp-widgets-color: white;\n",
       "                    --jp-widgets-label-color: white;\n",
       "                    --jp-ui-font-color1: white;\n",
       "                    --jp-layout-color2: #454545;\n",
       "                    background-color: #383838;\n",
       "                }\n",
       "\n",
       "                .geemap-dark .jupyter-button {\n",
       "                    --jp-layout-color3: #383838;\n",
       "                }\n",
       "\n",
       "                .geemap-colab {\n",
       "                    background-color: var(--colab-primary-surface-color, white);\n",
       "                }\n",
       "\n",
       "                .geemap-colab .jupyter-button {\n",
       "                    --jp-layout-color3: var(--colab-primary-surface-color, white);\n",
       "                }\n",
       "            </style>\n",
       "            "
      ],
      "text/plain": [
       "<IPython.core.display.HTML object>"
      ]
     },
     "metadata": {},
     "output_type": "display_data"
    },
    {
     "data": {
      "text/plain": [
       "'\\nee.Initialize()\\n'"
      ]
     },
     "execution_count": 3,
     "metadata": {},
     "output_type": "execute_result"
    }
   ],
   "source": [
    "# to initialize Earth Engine for current python session\n",
    "## rarely need to run this explicitly, since this is automatically run when we create an interactive map \n",
    "\"\"\"\n",
    "ee.Initialize()\n",
    "\"\"\""
   ]
  },
  {
   "cell_type": "markdown",
   "id": "b915a75c41d60306",
   "metadata": {},
   "source": []
  },
  {
   "metadata": {},
   "cell_type": "markdown",
   "source": "",
   "id": "9d7b86b35e5defc6"
  },
  {
   "cell_type": "code",
   "id": "8d35e4d954fde2d4",
   "metadata": {
    "ExecuteTime": {
     "end_time": "2024-04-17T09:14:37.756196Z",
     "start_time": "2024-04-17T09:14:37.725169Z"
    }
   },
   "source": [
    "# create an interactive map for Malaysia using coordinate (lat and lgn) \n",
    "msia_map = geemap.Map(center=(4.10, 109.4), zoom=5.5)\n",
    "msia_map"
   ],
   "outputs": [
    {
     "data": {
      "text/plain": [
       "<IPython.core.display.HTML object>"
      ],
      "text/html": [
       "\n",
       "            <style>\n",
       "                .geemap-dark {\n",
       "                    --jp-widgets-color: white;\n",
       "                    --jp-widgets-label-color: white;\n",
       "                    --jp-ui-font-color1: white;\n",
       "                    --jp-layout-color2: #454545;\n",
       "                    background-color: #383838;\n",
       "                }\n",
       "\n",
       "                .geemap-dark .jupyter-button {\n",
       "                    --jp-layout-color3: #383838;\n",
       "                }\n",
       "\n",
       "                .geemap-colab {\n",
       "                    background-color: var(--colab-primary-surface-color, white);\n",
       "                }\n",
       "\n",
       "                .geemap-colab .jupyter-button {\n",
       "                    --jp-layout-color3: var(--colab-primary-surface-color, white);\n",
       "                }\n",
       "            </style>\n",
       "            "
      ]
     },
     "metadata": {},
     "output_type": "display_data"
    },
    {
     "data": {
      "application/vnd.jupyter.widget-view+json": {
       "version_major": 2,
       "version_minor": 0,
       "model_id": "9117d4cc74fe4a40b2b9cdde7b87ee3d"
      },
      "text/plain": [
       "Map({\n",
       "    'data': [{'type': 'scattermapbox', 'uid': '2a1fd98c-ceec-49f3-a0be-d11f81e285b7'}],\n",
       "    'layout': {'height': 600,\n",
       "               'mapbox': {'center': {'lat': 4.1, 'lon': 109.4}, 'style': 'open-street-map', 'zoom': 5.5},\n",
       "               'margin': {'b': 0, 'l': 0, 'r': 0, 't': 0},\n",
       "               'template': '...'}\n",
       "})"
      ]
     },
     "execution_count": 70,
     "metadata": {},
     "output_type": "execute_result"
    }
   ],
   "execution_count": 70
  },
  {
   "cell_type": "code",
   "id": "5e2e9c77-41d0-4e12-9e8d-7fd8b316addb",
   "metadata": {
    "ExecuteTime": {
     "end_time": "2024-04-17T09:26:07.992187Z",
     "start_time": "2024-04-17T09:26:07.977183Z"
    }
   },
   "source": [
    "## not applicable for geemap.core \n",
    "msia_map.add_basemap('ROADMAP') #option 1\n",
    "# msia_map.add_basemap('OpenTopoMap') #option 2\n",
    "# msia_map.add_basemap('Esri.NatGeoWorldMap') #option 3\n",
    "# msia_map.add_basemap('JusticeMap.income') #option 4\n",
    "# msia_map.add_basemap('Strava.Ride') #option 5"
   ],
   "outputs": [
    {
     "data": {
      "text/plain": [
       "<IPython.core.display.HTML object>"
      ],
      "text/html": [
       "\n",
       "            <style>\n",
       "                .geemap-dark {\n",
       "                    --jp-widgets-color: white;\n",
       "                    --jp-widgets-label-color: white;\n",
       "                    --jp-ui-font-color1: white;\n",
       "                    --jp-layout-color2: #454545;\n",
       "                    background-color: #383838;\n",
       "                }\n",
       "\n",
       "                .geemap-dark .jupyter-button {\n",
       "                    --jp-layout-color3: #383838;\n",
       "                }\n",
       "\n",
       "                .geemap-colab {\n",
       "                    background-color: var(--colab-primary-surface-color, white);\n",
       "                }\n",
       "\n",
       "                .geemap-colab .jupyter-button {\n",
       "                    --jp-layout-color3: var(--colab-primary-surface-color, white);\n",
       "                }\n",
       "            </style>\n",
       "            "
      ]
     },
     "metadata": {},
     "output_type": "display_data"
    }
   ],
   "execution_count": 76
  },
  {
   "metadata": {
    "ExecuteTime": {
     "end_time": "2024-04-17T09:26:14.305166Z",
     "start_time": "2024-04-17T09:26:14.283202Z"
    }
   },
   "cell_type": "code",
   "source": [
    "msia_map.add_tile_layer(\n",
    "    # reference source: \n",
    "    ## https://github.com/gee-community/geemap/blob/master/geemap/basemaps.py\n",
    "    ## https://geemap.org/foliumap/?h=add_tile_layer#geemap.foliumap.Map.add_text\n",
    "    # added this XYZ tiles map that that offers interactive tile layer?\n",
    "    url='https://server.arcgisonline.com/ArcGIS/rest/services/World_Street_Map/MapServer/tile/{z}/{y}/{x}', \n",
    "    name='Esri.WorldStreetMap', \n",
    "    attribution='Esri',\n",
    "    API_key=True, #defaulted to True for \n",
    "    opacity=0.5\n",
    ")"
   ],
   "id": "5337f00ee7a88939",
   "outputs": [
    {
     "data": {
      "text/plain": [
       "<IPython.core.display.HTML object>"
      ],
      "text/html": [
       "\n",
       "            <style>\n",
       "                .geemap-dark {\n",
       "                    --jp-widgets-color: white;\n",
       "                    --jp-widgets-label-color: white;\n",
       "                    --jp-ui-font-color1: white;\n",
       "                    --jp-layout-color2: #454545;\n",
       "                    background-color: #383838;\n",
       "                }\n",
       "\n",
       "                .geemap-dark .jupyter-button {\n",
       "                    --jp-layout-color3: #383838;\n",
       "                }\n",
       "\n",
       "                .geemap-colab {\n",
       "                    background-color: var(--colab-primary-surface-color, white);\n",
       "                }\n",
       "\n",
       "                .geemap-colab .jupyter-button {\n",
       "                    --jp-layout-color3: var(--colab-primary-surface-color, white);\n",
       "                }\n",
       "            </style>\n",
       "            "
      ]
     },
     "metadata": {},
     "output_type": "display_data"
    }
   ],
   "execution_count": 77
  },
  {
   "metadata": {},
   "cell_type": "code",
   "outputs": [],
   "execution_count": null,
   "source": [
    "msia_map.addLayer(image, vis_params={}, name='SRTM DEM', shown=True, opacity=1)\n",
    "\n",
    "#KIV on page 29++ onwards, super blur"
   ],
   "id": "722c8b539292f569"
  },
  {
   "metadata": {},
   "cell_type": "code",
   "outputs": [],
   "execution_count": null,
   "source": "",
   "id": "310c35a8ce87b412"
  },
  {
   "metadata": {},
   "cell_type": "code",
   "outputs": [],
   "execution_count": null,
   "source": "",
   "id": "1b8e74f683b6f0f4"
  },
  {
   "metadata": {},
   "cell_type": "code",
   "outputs": [],
   "execution_count": null,
   "source": "",
   "id": "5953c7a98d7f4c64"
  },
  {
   "metadata": {},
   "cell_type": "code",
   "outputs": [],
   "execution_count": null,
   "source": "",
   "id": "c3d46c19c137d956"
  },
  {
   "metadata": {},
   "cell_type": "code",
   "outputs": [],
   "execution_count": null,
   "source": "",
   "id": "10311114867ba6"
  },
  {
   "metadata": {},
   "cell_type": "code",
   "outputs": [],
   "execution_count": null,
   "source": "",
   "id": "8a2e2997aada3e79"
  },
  {
   "metadata": {},
   "cell_type": "code",
   "outputs": [],
   "execution_count": null,
   "source": "",
   "id": "3bca56dd7450507f"
  },
  {
   "metadata": {},
   "cell_type": "code",
   "outputs": [
    {
     "data": {
      "text/plain": [
       "<IPython.core.display.HTML object>"
      ],
      "text/html": [
       "\n",
       "            <style>\n",
       "                .geemap-dark {\n",
       "                    --jp-widgets-color: white;\n",
       "                    --jp-widgets-label-color: white;\n",
       "                    --jp-ui-font-color1: white;\n",
       "                    --jp-layout-color2: #454545;\n",
       "                    background-color: #383838;\n",
       "                }\n",
       "\n",
       "                .geemap-dark .jupyter-button {\n",
       "                    --jp-layout-color3: #383838;\n",
       "                }\n",
       "\n",
       "                .geemap-colab {\n",
       "                    background-color: var(--colab-primary-surface-color, white);\n",
       "                }\n",
       "\n",
       "                .geemap-colab .jupyter-button {\n",
       "                    --jp-layout-color3: var(--colab-primary-surface-color, white);\n",
       "                }\n",
       "            </style>\n",
       "            "
      ]
     },
     "metadata": {},
     "output_type": "display_data"
    },
    {
     "name": "stdout",
     "output_type": "stream",
     "text": [
      "OpenStreetMap\n",
      "ROADMAP\n",
      "SATELLITE\n",
      "TERRAIN\n",
      "HYBRID\n",
      "BaseMapDE.Color\n",
      "BaseMapDE.Grey\n",
      "BasemapAT.basemap\n",
      "BasemapAT.grau\n",
      "BasemapAT.highdpi\n",
      "BasemapAT.orthofoto\n",
      "BasemapAT.overlay\n",
      "BasemapAT.surface\n",
      "BasemapAT.terrain\n",
      "CartoDB.DarkMatter\n",
      "CartoDB.DarkMatterNoLabels\n",
      "CartoDB.DarkMatterOnlyLabels\n",
      "CartoDB.Positron\n",
      "CartoDB.PositronNoLabels\n",
      "CartoDB.PositronOnlyLabels\n",
      "CartoDB.Voyager\n",
      "CartoDB.VoyagerLabelsUnder\n",
      "CartoDB.VoyagerNoLabels\n",
      "CartoDB.VoyagerOnlyLabels\n",
      "CyclOSM\n",
      "Esri.AntarcticBasemap\n",
      "Esri.AntarcticImagery\n",
      "Esri.ArcticImagery\n",
      "Esri.ArcticOceanBase\n",
      "Esri.ArcticOceanReference\n",
      "Esri.DeLorme\n",
      "Esri.NatGeoWorldMap\n",
      "Esri.OceanBasemap\n",
      "Esri.WorldGrayCanvas\n",
      "Esri.WorldPhysical\n",
      "Esri.WorldShadedRelief\n",
      "Esri.WorldTerrain\n",
      "FreeMapSK\n",
      "Gaode.Normal\n",
      "Gaode.Satellite\n",
      "HikeBike.HikeBike\n",
      "HikeBike.HillShading\n",
      "JusticeMap.americanIndian\n",
      "JusticeMap.asian\n",
      "JusticeMap.black\n",
      "JusticeMap.hispanic\n",
      "JusticeMap.income\n",
      "JusticeMap.multi\n",
      "JusticeMap.nonWhite\n",
      "JusticeMap.plurality\n",
      "JusticeMap.white\n",
      "MtbMap\n",
      "NASAGIBS.ASTER_GDEM_Greyscale_Shaded_Relief\n",
      "NASAGIBS.BlueMarble3031\n",
      "NASAGIBS.BlueMarble3413\n",
      "NASAGIBS.ModisAquaBands721CR\n",
      "NASAGIBS.ModisAquaTrueColorCR\n",
      "NASAGIBS.ModisTerraAOD\n",
      "NASAGIBS.ModisTerraBands367CR\n",
      "NASAGIBS.ModisTerraBands721CR\n",
      "NASAGIBS.ModisTerraChlorophyll\n",
      "NASAGIBS.ModisTerraLSTDay\n",
      "NASAGIBS.ModisTerraSnowCover\n",
      "NASAGIBS.ModisTerraTrueColorCR\n",
      "NASAGIBS.ViirsEarthAtNight2012\n",
      "NASAGIBS.ViirsTrueColorCR\n",
      "OPNVKarte\n",
      "OneMapSG.Default\n",
      "OneMapSG.Grey\n",
      "OneMapSG.LandLot\n",
      "OneMapSG.Night\n",
      "OneMapSG.Original\n",
      "OpenAIP\n",
      "OpenFireMap\n",
      "OpenRailwayMap\n",
      "OpenSeaMap\n",
      "OpenSnowMap.pistes\n",
      "OpenStreetMap.BZH\n",
      "OpenStreetMap.BlackAndWhite\n",
      "OpenStreetMap.CH\n",
      "OpenStreetMap.DE\n",
      "OpenStreetMap.HOT\n",
      "OpenStreetMap.Mapnik\n",
      "OpenTopoMap\n",
      "SafeCast\n",
      "Stadia.AlidadeSmooth\n",
      "Stadia.AlidadeSmoothDark\n",
      "Stadia.OSMBright\n",
      "Stadia.Outdoors\n",
      "Stadia.StamenTerrain\n",
      "Stadia.StamenTerrainBackground\n",
      "Stadia.StamenTerrainLabels\n",
      "Stadia.StamenTerrainLines\n",
      "Stadia.StamenToner\n",
      "Stadia.StamenTonerBackground\n",
      "Stadia.StamenTonerLabels\n",
      "Stadia.StamenTonerLines\n",
      "Stadia.StamenTonerLite\n",
      "Stadia.StamenWatercolor\n",
      "Strava.All\n",
      "Strava.Ride\n",
      "Strava.Run\n",
      "Strava.Water\n",
      "Strava.Winter\n",
      "SwissFederalGeoportal.JourneyThroughTime\n",
      "SwissFederalGeoportal.NationalMapColor\n",
      "SwissFederalGeoportal.NationalMapGrey\n",
      "SwissFederalGeoportal.SWISSIMAGE\n",
      "TopPlusOpen.Color\n",
      "TopPlusOpen.Grey\n",
      "USGS.USImagery\n",
      "USGS.USImageryTopo\n",
      "USGS.USTopo\n",
      "WaymarkedTrails.cycling\n",
      "WaymarkedTrails.hiking\n",
      "WaymarkedTrails.mtb\n",
      "WaymarkedTrails.riding\n",
      "WaymarkedTrails.skating\n",
      "WaymarkedTrails.slopes\n",
      "nlmaps.grijs\n",
      "nlmaps.luchtfoto\n",
      "nlmaps.pastel\n",
      "nlmaps.standaard\n",
      "nlmaps.water\n"
     ]
    }
   ],
   "execution_count": 39,
   "source": [
    "for basemap in geemap.basemaps.keys():\n",
    "    print(basemap)"
   ],
   "id": "dd90bbe8d0bc052c"
  },
  {
   "cell_type": "code",
   "id": "b40183d3fc673576",
   "metadata": {
    "ExecuteTime": {
     "end_time": "2024-04-17T07:41:51.426940Z",
     "start_time": "2024-04-17T07:41:51.410369Z"
    }
   },
   "source": [
    "Map = msia_map.Map()\n",
    "vis = {'bands': ['NIR', 'SWIR', 'RED'], 'min': 0, 'max': 0.5}\n",
    "Map.addLayer(msia_map, vis, 'Image')\n",
    "Map.centerObject(image, 9)\n",
    "Map"
   ],
   "outputs": [
    {
     "data": {
      "text/plain": [
       "<IPython.core.display.HTML object>"
      ],
      "text/html": [
       "\n",
       "            <style>\n",
       "                .geemap-dark {\n",
       "                    --jp-widgets-color: white;\n",
       "                    --jp-widgets-label-color: white;\n",
       "                    --jp-ui-font-color1: white;\n",
       "                    --jp-layout-color2: #454545;\n",
       "                    background-color: #383838;\n",
       "                }\n",
       "\n",
       "                .geemap-dark .jupyter-button {\n",
       "                    --jp-layout-color3: #383838;\n",
       "                }\n",
       "\n",
       "                .geemap-colab {\n",
       "                    background-color: var(--colab-primary-surface-color, white);\n",
       "                }\n",
       "\n",
       "                .geemap-colab .jupyter-button {\n",
       "                    --jp-layout-color3: var(--colab-primary-surface-color, white);\n",
       "                }\n",
       "            </style>\n",
       "            "
      ]
     },
     "metadata": {},
     "output_type": "display_data"
    },
    {
     "ename": "AttributeError",
     "evalue": "'Map' object has no attribute 'Map'",
     "output_type": "error",
     "traceback": [
      "\u001B[1;31m---------------------------------------------------------------------------\u001B[0m",
      "\u001B[1;31mAttributeError\u001B[0m                            Traceback (most recent call last)",
      "Cell \u001B[1;32mIn[24], line 1\u001B[0m\n\u001B[1;32m----> 1\u001B[0m Map \u001B[38;5;241m=\u001B[39m \u001B[43mmsia_map\u001B[49m\u001B[38;5;241;43m.\u001B[39;49m\u001B[43mMap\u001B[49m()\n\u001B[0;32m      2\u001B[0m vis \u001B[38;5;241m=\u001B[39m {\u001B[38;5;124m'\u001B[39m\u001B[38;5;124mbands\u001B[39m\u001B[38;5;124m'\u001B[39m: [\u001B[38;5;124m'\u001B[39m\u001B[38;5;124mNIR\u001B[39m\u001B[38;5;124m'\u001B[39m, \u001B[38;5;124m'\u001B[39m\u001B[38;5;124mSWIR\u001B[39m\u001B[38;5;124m'\u001B[39m, \u001B[38;5;124m'\u001B[39m\u001B[38;5;124mRED\u001B[39m\u001B[38;5;124m'\u001B[39m], \u001B[38;5;124m'\u001B[39m\u001B[38;5;124mmin\u001B[39m\u001B[38;5;124m'\u001B[39m: \u001B[38;5;241m0\u001B[39m, \u001B[38;5;124m'\u001B[39m\u001B[38;5;124mmax\u001B[39m\u001B[38;5;124m'\u001B[39m: \u001B[38;5;241m0.5\u001B[39m}\n\u001B[0;32m      3\u001B[0m Map\u001B[38;5;241m.\u001B[39maddLayer(msia_map, vis, \u001B[38;5;124m'\u001B[39m\u001B[38;5;124mImage\u001B[39m\u001B[38;5;124m'\u001B[39m)\n",
      "\u001B[1;31mAttributeError\u001B[0m: 'Map' object has no attribute 'Map'"
     ]
    }
   ],
   "execution_count": 24
  },
  {
   "cell_type": "markdown",
   "id": "17f7d8e25864209c",
   "metadata": {},
   "source": []
  },
  {
   "cell_type": "code",
   "id": "d90df1186dec8793",
   "metadata": {
    "ExecuteTime": {
     "end_time": "2024-04-17T07:37:03.056060Z",
     "start_time": "2024-04-17T07:37:03.036948Z"
    }
   },
   "source": "msia_map.addLayer(image, vis_params={}, name='SRTM DEM', shown=True, opacity=1)",
   "outputs": [
    {
     "data": {
      "text/plain": [
       "<IPython.core.display.HTML object>"
      ],
      "text/html": [
       "\n",
       "            <style>\n",
       "                .geemap-dark {\n",
       "                    --jp-widgets-color: white;\n",
       "                    --jp-widgets-label-color: white;\n",
       "                    --jp-ui-font-color1: white;\n",
       "                    --jp-layout-color2: #454545;\n",
       "                    background-color: #383838;\n",
       "                }\n",
       "\n",
       "                .geemap-dark .jupyter-button {\n",
       "                    --jp-layout-color3: #383838;\n",
       "                }\n",
       "\n",
       "                .geemap-colab {\n",
       "                    background-color: var(--colab-primary-surface-color, white);\n",
       "                }\n",
       "\n",
       "                .geemap-colab .jupyter-button {\n",
       "                    --jp-layout-color3: var(--colab-primary-surface-color, white);\n",
       "                }\n",
       "            </style>\n",
       "            "
      ]
     },
     "metadata": {},
     "output_type": "display_data"
    },
    {
     "ename": "TypeError",
     "evalue": "Map.get_layers() got multiple values for argument 'self'",
     "output_type": "error",
     "traceback": [
      "\u001B[1;31m---------------------------------------------------------------------------\u001B[0m",
      "\u001B[1;31mTypeError\u001B[0m                                 Traceback (most recent call last)",
      "Cell \u001B[1;32mIn[5], line 1\u001B[0m\n\u001B[1;32m----> 1\u001B[0m \u001B[43mmsia_map\u001B[49m\u001B[38;5;241;43m.\u001B[39;49m\u001B[43mget_layers\u001B[49m\u001B[43m(\u001B[49m\u001B[38;5;28;43mself\u001B[39;49m\u001B[38;5;241;43m=\u001B[39;49m\u001B[38;5;28;43;01mNone\u001B[39;49;00m\u001B[43m)\u001B[49m\n",
      "\u001B[1;31mTypeError\u001B[0m: Map.get_layers() got multiple values for argument 'self'"
     ]
    }
   ],
   "execution_count": 5
  },
  {
   "cell_type": "code",
   "execution_count": null,
   "id": "ffdbe47eeab2866a",
   "metadata": {},
   "outputs": [],
   "source": [
    "dem = ee.Image(\"USGS/SRTMGL1_003\")"
   ]
  },
  {
   "cell_type": "code",
   "execution_count": 21,
   "id": "e46988ff129ba41e",
   "metadata": {
    "ExecuteTime": {
     "end_time": "2024-04-17T03:37:15.091921Z",
     "start_time": "2024-04-17T03:37:15.076601Z"
    }
   },
   "outputs": [
    {
     "data": {
      "text/html": [
       "\n",
       "            <style>\n",
       "                .geemap-dark {\n",
       "                    --jp-widgets-color: white;\n",
       "                    --jp-widgets-label-color: white;\n",
       "                    --jp-ui-font-color1: white;\n",
       "                    --jp-layout-color2: #454545;\n",
       "                    background-color: #383838;\n",
       "                }\n",
       "\n",
       "                .geemap-dark .jupyter-button {\n",
       "                    --jp-layout-color3: #383838;\n",
       "                }\n",
       "\n",
       "                .geemap-colab {\n",
       "                    background-color: var(--colab-primary-surface-color, white);\n",
       "                }\n",
       "\n",
       "                .geemap-colab .jupyter-button {\n",
       "                    --jp-layout-color3: var(--colab-primary-surface-color, white);\n",
       "                }\n",
       "            </style>\n",
       "            "
      ],
      "text/plain": [
       "<IPython.core.display.HTML object>"
      ]
     },
     "metadata": {},
     "output_type": "display_data"
    },
    {
     "ename": "AttributeError",
     "evalue": "'Map' object has no attribute 'add_legend'",
     "output_type": "error",
     "traceback": [
      "\u001B[1;31m---------------------------------------------------------------------------\u001B[0m",
      "\u001B[1;31mAttributeError\u001B[0m                            Traceback (most recent call last)",
      "Cell \u001B[1;32mIn[21], line 1\u001B[0m\n\u001B[1;32m----> 1\u001B[0m \u001B[43mmsia_map\u001B[49m\u001B[38;5;241;43m.\u001B[39;49m\u001B[43madd_legend\u001B[49m(builtin_legend\u001B[38;5;241m=\u001B[39m\u001B[38;5;124m'\u001B[39m\u001B[38;5;124mNLCD\u001B[39m\u001B[38;5;124m'\u001B[39m)\n",
      "\u001B[1;31mAttributeError\u001B[0m: 'Map' object has no attribute 'add_legend'"
     ]
    }
   ],
   "source": [
    "msia_map.add_legend(builtin_legend='NLCD')"
   ]
  },
  {
   "cell_type": "code",
   "execution_count": 11,
   "id": "b5e22306ad7fbdfa",
   "metadata": {
    "ExecuteTime": {
     "end_time": "2024-04-17T05:23:15.320849Z",
     "start_time": "2024-04-17T05:23:15.304186Z"
    }
   },
   "outputs": [
    {
     "data": {
      "text/html": [
       "\n",
       "            <style>\n",
       "                .geemap-dark {\n",
       "                    --jp-widgets-color: white;\n",
       "                    --jp-widgets-label-color: white;\n",
       "                    --jp-ui-font-color1: white;\n",
       "                    --jp-layout-color2: #454545;\n",
       "                    background-color: #383838;\n",
       "                }\n",
       "\n",
       "                .geemap-dark .jupyter-button {\n",
       "                    --jp-layout-color3: #383838;\n",
       "                }\n",
       "\n",
       "                .geemap-colab {\n",
       "                    background-color: var(--colab-primary-surface-color, white);\n",
       "                }\n",
       "\n",
       "                .geemap-colab .jupyter-button {\n",
       "                    --jp-layout-color3: var(--colab-primary-surface-color, white);\n",
       "                }\n",
       "            </style>\n",
       "            "
      ],
      "text/plain": [
       "<IPython.core.display.HTML object>"
      ]
     },
     "metadata": {},
     "output_type": "display_data"
    },
    {
     "ename": "NameError",
     "evalue": "name 'ee' is not defined",
     "output_type": "error",
     "traceback": [
      "\u001B[1;31m---------------------------------------------------------------------------\u001B[0m",
      "\u001B[1;31mNameError\u001B[0m                                 Traceback (most recent call last)",
      "Cell \u001B[1;32mIn[11], line 1\u001B[0m\n\u001B[1;32m----> 1\u001B[0m sample_point_1 \u001B[38;5;241m=\u001B[39m \u001B[43mee\u001B[49m\u001B[38;5;241m.\u001B[39mGeometry\u001B[38;5;241m.\u001B[39mPoint([\u001B[38;5;241m4.592759\u001B[39m, \u001B[38;5;241m101.083988\u001B[39m])\n",
      "\u001B[1;31mNameError\u001B[0m: name 'ee' is not defined"
     ]
    }
   ],
   "source": [
    "sample_point_1 = ee.Geometry.Point([4.592759, 101.083988])\n"
   ]
  },
  {
   "cell_type": "code",
   "execution_count": 9,
   "id": "14ece642d969e1e",
   "metadata": {
    "ExecuteTime": {
     "end_time": "2024-04-16T17:01:39.560677Z",
     "start_time": "2024-04-16T17:01:39.236827Z"
    }
   },
   "outputs": [
    {
     "data": {
      "text/html": [
       "\n",
       "            <style>\n",
       "                .geemap-dark {\n",
       "                    --jp-widgets-color: white;\n",
       "                    --jp-widgets-label-color: white;\n",
       "                    --jp-ui-font-color1: white;\n",
       "                    --jp-layout-color2: #454545;\n",
       "                    background-color: #383838;\n",
       "                }\n",
       "\n",
       "                .geemap-dark .jupyter-button {\n",
       "                    --jp-layout-color3: #383838;\n",
       "                }\n",
       "\n",
       "                .geemap-colab {\n",
       "                    background-color: var(--colab-primary-surface-color, white);\n",
       "                }\n",
       "\n",
       "                .geemap-colab .jupyter-button {\n",
       "                    --jp-layout-color3: var(--colab-primary-surface-color, white);\n",
       "                }\n",
       "            </style>\n",
       "            "
      ],
      "text/plain": [
       "<IPython.core.display.HTML object>"
      ]
     },
     "metadata": {},
     "output_type": "display_data"
    },
    {
     "data": {
      "text/html": [
       "<div><style>:root {\n",
       "  --font-color-primary: var(--jp-content-font-color0, rgba(0, 0, 0, 1));\n",
       "  --font-color-secondary: var(--jp-content-font-color2, rgba(0, 0, 0, 0.6));\n",
       "  --font-color-accent: rgba(123, 31, 162, 1);\n",
       "  --border-color: var(--jp-border-color2, #e0e0e0);\n",
       "  --background-color: var(--jp-layout-color0, white);\n",
       "  --background-color-row-even: var(--jp-layout-color1, white);\n",
       "  --background-color-row-odd: var(--jp-layout-color2, #eeeeee);\n",
       "}\n",
       "\n",
       "html[theme=\"dark\"],\n",
       "body[data-theme=\"dark\"],\n",
       "body.vscode-dark {\n",
       "  --font-color-primary: rgba(255, 255, 255, 1);\n",
       "  --font-color-secondary: rgba(255, 255, 255, 0.6);\n",
       "  --font-color-accent: rgb(173, 132, 190);\n",
       "  --border-color: #2e2e2e;\n",
       "  --background-color: #111111;\n",
       "  --background-color-row-even: #111111;\n",
       "  --background-color-row-odd: #313131;\n",
       "}\n",
       "\n",
       ".ee {\n",
       "  padding: 1em;\n",
       "  line-height: 1.5em;\n",
       "  min-width: 300px;\n",
       "  max-width: 1200px;\n",
       "  overflow-y: scroll;\n",
       "  max-height: 600px;\n",
       "  border: 1px solid var(--border-color);\n",
       "  font-family: monospace;\n",
       "}\n",
       "\n",
       ".ee li {\n",
       "  list-style-type: none;\n",
       "}\n",
       "\n",
       ".ee ul {\n",
       "  padding-left: 1.5em !important;\n",
       "  margin: 0;\n",
       "}\n",
       "\n",
       ".ee > ul {\n",
       "  padding-left: 0 !important;\n",
       "}\n",
       "\n",
       ".ee-open,\n",
       ".ee-shut {\n",
       "  color: var(--font-color-secondary);\n",
       "  cursor: pointer;\n",
       "  margin: 0;\n",
       "}\n",
       "\n",
       ".ee-open:hover,\n",
       ".ee-shut:hover {\n",
       "  color: var(--font-color-primary);\n",
       "}\n",
       "\n",
       ".ee-k {\n",
       "  color: var(--font-color-accent);\n",
       "  margin-right: 6px;\n",
       "}\n",
       "\n",
       ".ee-v {\n",
       "  color: var(--font-color-primary);\n",
       "}\n",
       "\n",
       ".ee-toggle {\n",
       "  display: none;\n",
       "}\n",
       "\n",
       ".ee-shut + ul {\n",
       "  display: none;\n",
       "}\n",
       "\n",
       ".ee-open + ul {\n",
       "  display: block;\n",
       "}\n",
       "\n",
       ".ee-shut::before {\n",
       "  display: inline-block;\n",
       "  content: \"▼\";\n",
       "  margin-right: 6px;\n",
       "  transform: rotate(-90deg);\n",
       "  transition: transform 0.2s;\n",
       "}\n",
       "\n",
       ".ee-open::before {\n",
       "  transform: rotate(0deg);\n",
       "  display: inline-block;\n",
       "  content: \"▼\";\n",
       "  margin-right: 6px;\n",
       "  transition: transform 0.2s;\n",
       "}\n",
       "</style><div class='ee'><ul><li><label class='ee-shut'>Image USGS/SRTMGL1_003 (1 band)<input type='checkbox' class='ee-toggle'></label><ul><li><span class='ee-k'>type:</span><span class='ee-v'>Image</span></li><li><span class='ee-k'>id:</span><span class='ee-v'>USGS/SRTMGL1_003</span></li><li><span class='ee-k'>version:</span><span class='ee-v'>1641990767055141</span></li><li><label class='ee-shut'>bands: List (1 element)<input type='checkbox' class='ee-toggle'></label><ul><li><label class='ee-shut'>0: \"elevation\", signed int16, EPSG:4326, 1296001x417601 px<input type='checkbox' class='ee-toggle'></label><ul><li><span class='ee-k'>id:</span><span class='ee-v'>elevation</span></li><li><span class='ee-k'>crs:</span><span class='ee-v'>EPSG:4326</span></li><li><label class='ee-shut'>crs_transform: List (6 elements)<input type='checkbox' class='ee-toggle'></label><ul><li><span class='ee-k'>0:</span><span class='ee-v'>0.0002777777777777778</span></li><li><span class='ee-k'>1:</span><span class='ee-v'>0</span></li><li><span class='ee-k'>2:</span><span class='ee-v'>-180.0001388888889</span></li><li><span class='ee-k'>3:</span><span class='ee-v'>0</span></li><li><span class='ee-k'>4:</span><span class='ee-v'>-0.0002777777777777778</span></li><li><span class='ee-k'>5:</span><span class='ee-v'>60.00013888888889</span></li></ul></li><li><label class='ee-shut'>data_type: signed int16<input type='checkbox' class='ee-toggle'></label><ul><li><span class='ee-k'>type:</span><span class='ee-v'>PixelType</span></li><li><span class='ee-k'>max:</span><span class='ee-v'>32767</span></li><li><span class='ee-k'>min:</span><span class='ee-v'>-32768</span></li><li><span class='ee-k'>precision:</span><span class='ee-v'>int</span></li></ul></li><li><label class='ee-shut'>dimensions: [1296001, 417601]<input type='checkbox' class='ee-toggle'></label><ul><li><span class='ee-k'>0:</span><span class='ee-v'>1296001</span></li><li><span class='ee-k'>1:</span><span class='ee-v'>417601</span></li></ul></li></ul></li></ul></li><li><label class='ee-shut'>properties: Object (24 properties)<input type='checkbox' class='ee-toggle'></label><ul><li><label class='ee-shut'>date_range: [950227200000, 951177600000]<input type='checkbox' class='ee-toggle'></label><ul><li><span class='ee-k'>0:</span><span class='ee-v'>950227200000</span></li><li><span class='ee-k'>1:</span><span class='ee-v'>951177600000</span></li></ul></li><li><span class='ee-k'>description:</span><span class='ee-v'><p>The Shuttle Radar Topography Mission (SRTM, see <a href=\"https://onlinelibrary.wiley.com/doi/10.1029/2005RG000183/full\">Farr\n",
       "et al. 2007</a>)\n",
       "digital elevation data is an international research effort that\n",
       "obtained digital elevation models on a near-global scale. This\n",
       "SRTM V3 product (SRTM Plus) is provided by NASA JPL\n",
       "at a resolution of 1 arc-second (approximately 30m).</p><p>This dataset has undergone a void-filling process using open-source data\n",
       "(ASTER GDEM2, GMTED2010, and NED), as opposed to other versions that\n",
       "contain voids or have been void-filled with commercial sources.\n",
       "For more information on the different versions see the\n",
       "<a href=\"https://lpdaac.usgs.gov/documents/13/SRTM_Quick_Guide.pdf\">SRTM Quick Guide</a>.</p><p>Documentation:</p><ul><li><p><a href=\"https://lpdaac.usgs.gov/documents/179/SRTM_User_Guide_V3.pdf\">User&#39;s Guide</a></p></li><li><p><a href=\"https://lpdaac.usgs.gov/documents/13/SRTM_Quick_Guide.pdf\">General Documentation</a></p></li><li><p><a href=\"https://doi.org/10.1029/2005RG000183\">Algorithm Theoretical Basis Document (ATBD)</a></p></li></ul><p><b>Provider: <a href=\"https://cmr.earthdata.nasa.gov/search/concepts/C1000000240-LPDAAC_ECS.html\">NASA / USGS / JPL-Caltech</a></b><br><p><b>Bands</b><table class=\"eecat\"><tr><th scope=\"col\">Name</th><th scope=\"col\">Description</th></tr><tr><td>elevation</td><td><p>Elevation</p></td></tr></table><p><b>Terms of Use</b><br><p>Unless otherwise noted, images and video on JPL public\n",
       "web sites (public sites ending with a jpl.nasa.gov address) may\n",
       "be used for any purpose without prior permission. For more information\n",
       "and exceptions visit the <a href=\"https://www.jpl.nasa.gov/imagepolicy/\">JPL Image Use Policy site</a>.</p><p><b>Suggested citation(s)</b><ul><li><p>Farr, T.G., Rosen, P.A., Caro, E., Crippen, R., Duren, R., Hensley,\n",
       "S., Kobrick, M., Paller, M., Rodriguez, E., Roth, L., Seal, D.,\n",
       "Shaffer, S., Shimada, J., Umland, J., Werner, M., Oskin, M., Burbank,\n",
       "D., and Alsdorf, D.E., 2007, The shuttle radar topography mission:\n",
       "Reviews of Geophysics, v. 45, no. 2, RG2004, at\n",
       "<a href=\"https://doi.org/10.1029/2005RG000183\">https://doi.org/10.1029/2005RG000183</a>.</p></li></ul><style>\n",
       "  table.eecat {\n",
       "  border: 1px solid black;\n",
       "  border-collapse: collapse;\n",
       "  font-size: 13px;\n",
       "  }\n",
       "  table.eecat td, tr, th {\n",
       "  text-align: left; vertical-align: top;\n",
       "  border: 1px solid gray; padding: 3px;\n",
       "  }\n",
       "  td.nobreak { white-space: nowrap; }\n",
       "</style></span></li><li><label class='ee-shut'>keywords: List (7 elements)<input type='checkbox' class='ee-toggle'></label><ul><li><span class='ee-k'>0:</span><span class='ee-v'>dem</span></li><li><span class='ee-k'>1:</span><span class='ee-v'>elevation</span></li><li><span class='ee-k'>2:</span><span class='ee-v'>geophysical</span></li><li><span class='ee-k'>3:</span><span class='ee-v'>nasa</span></li><li><span class='ee-k'>4:</span><span class='ee-v'>srtm</span></li><li><span class='ee-k'>5:</span><span class='ee-v'>topography</span></li><li><span class='ee-k'>6:</span><span class='ee-v'>usgs</span></li></ul></li><li><span class='ee-k'>period:</span><span class='ee-v'>0</span></li><li><label class='ee-shut'>product_tags: List (5 elements)<input type='checkbox' class='ee-toggle'></label><ul><li><span class='ee-k'>0:</span><span class='ee-v'>srtm</span></li><li><span class='ee-k'>1:</span><span class='ee-v'>elevation</span></li><li><span class='ee-k'>2:</span><span class='ee-v'>topography</span></li><li><span class='ee-k'>3:</span><span class='ee-v'>dem</span></li><li><span class='ee-k'>4:</span><span class='ee-v'>geophysical</span></li></ul></li><li><span class='ee-k'>provider:</span><span class='ee-v'>NASA / USGS / JPL-Caltech</span></li><li><span class='ee-k'>provider_url:</span><span class='ee-v'>https://cmr.earthdata.nasa.gov/search/concepts/C1000000240-LPDAAC_ECS.html</span></li><li><span class='ee-k'>sample:</span><span class='ee-v'>https://mw1.google.com/ges/dd/images/SRTM90_V4_sample.png</span></li><li><label class='ee-shut'>source_tags: ['nasa', 'usgs']<input type='checkbox' class='ee-toggle'></label><ul><li><span class='ee-k'>0:</span><span class='ee-v'>nasa</span></li><li><span class='ee-k'>1:</span><span class='ee-v'>usgs</span></li></ul></li><li><span class='ee-k'>system:asset_size:</span><span class='ee-v'>132792638252</span></li><li><span class='ee-k'>system:visualization_0_bands:</span><span class='ee-v'>elevation</span></li><li><span class='ee-k'>system:visualization_0_gamma:</span><span class='ee-v'>1.6</span></li><li><span class='ee-k'>system:visualization_0_max:</span><span class='ee-v'>6000.0</span></li><li><span class='ee-k'>system:visualization_0_min:</span><span class='ee-v'>0.0</span></li><li><span class='ee-k'>system:visualization_0_name:</span><span class='ee-v'>Elevation</span></li><li><label class='ee-shut'>tags: List (7 elements)<input type='checkbox' class='ee-toggle'></label><ul><li><span class='ee-k'>0:</span><span class='ee-v'>dem</span></li><li><span class='ee-k'>1:</span><span class='ee-v'>elevation</span></li><li><span class='ee-k'>2:</span><span class='ee-v'>geophysical</span></li><li><span class='ee-k'>3:</span><span class='ee-v'>nasa</span></li><li><span class='ee-k'>4:</span><span class='ee-v'>srtm</span></li><li><span class='ee-k'>5:</span><span class='ee-v'>topography</span></li><li><span class='ee-k'>6:</span><span class='ee-v'>usgs</span></li></ul></li><li><span class='ee-k'>thumb:</span><span class='ee-v'>https://mw1.google.com/ges/dd/images/SRTM90_V4_thumb.png</span></li><li><span class='ee-k'>title:</span><span class='ee-v'>NASA SRTM Digital Elevation 30m</span></li><li><span class='ee-k'>type_name:</span><span class='ee-v'>Image</span></li><li><span class='ee-k'>visualization_0_bands:</span><span class='ee-v'>elevation</span></li><li><span class='ee-k'>visualization_0_gamma:</span><span class='ee-v'>1.6</span></li><li><span class='ee-k'>visualization_0_max:</span><span class='ee-v'>6000.0</span></li><li><span class='ee-k'>visualization_0_min:</span><span class='ee-v'>0.0</span></li><li><span class='ee-k'>visualization_0_name:</span><span class='ee-v'>Elevation</span></li></ul></li></ul></li></ul></div><script>function toggleHeader() {\n",
       "    const parent = this.parentElement;\n",
       "    parent.className = parent.className === \"ee-open\" ? \"ee-shut\" : \"ee-open\";\n",
       "}\n",
       "\n",
       "for (let c of document.getElementsByClassName(\"ee-toggle\")) {\n",
       "    c.onclick = toggleHeader;\n",
       "}</script></div>"
      ],
      "text/plain": [
       "<ee.image.Image at 0x15d1db43b50>"
      ]
     },
     "execution_count": 9,
     "metadata": {},
     "output_type": "execute_result"
    }
   ],
   "source": [
    "image = ee.Image('USGS/SRTMGL1_003')\n",
    "image"
   ]
  },
  {
   "cell_type": "code",
   "execution_count": 10,
   "id": "6a3df6dc35187b9d",
   "metadata": {
    "ExecuteTime": {
     "end_time": "2024-04-16T17:01:40.901966Z",
     "start_time": "2024-04-16T17:01:40.417529Z"
    }
   },
   "outputs": [
    {
     "data": {
      "text/html": [
       "\n",
       "            <style>\n",
       "                .geemap-dark {\n",
       "                    --jp-widgets-color: white;\n",
       "                    --jp-widgets-label-color: white;\n",
       "                    --jp-ui-font-color1: white;\n",
       "                    --jp-layout-color2: #454545;\n",
       "                    background-color: #383838;\n",
       "                }\n",
       "\n",
       "                .geemap-dark .jupyter-button {\n",
       "                    --jp-layout-color3: #383838;\n",
       "                }\n",
       "\n",
       "                .geemap-colab {\n",
       "                    background-color: var(--colab-primary-surface-color, white);\n",
       "                }\n",
       "\n",
       "                .geemap-colab .jupyter-button {\n",
       "                    --jp-layout-color3: var(--colab-primary-surface-color, white);\n",
       "                }\n",
       "            </style>\n",
       "            "
      ],
      "text/plain": [
       "<IPython.core.display.HTML object>"
      ]
     },
     "metadata": {},
     "output_type": "display_data"
    },
    {
     "ename": "AttributeError",
     "evalue": "'Map' object has no attribute 'add_title_layer'",
     "output_type": "error",
     "traceback": [
      "\u001B[1;31m---------------------------------------------------------------------------\u001B[0m",
      "\u001B[1;31mAttributeError\u001B[0m                            Traceback (most recent call last)",
      "Cell \u001B[1;32mIn[10], line 1\u001B[0m\n\u001B[1;32m----> 1\u001B[0m \u001B[43mmsia_map\u001B[49m\u001B[38;5;241;43m.\u001B[39;49m\u001B[43madd_title_layer\u001B[49m(\n\u001B[0;32m      2\u001B[0m     name \u001B[38;5;241m=\u001B[39m \u001B[38;5;124m'\u001B[39m\u001B[38;5;124mGoogle Terrain Trial 1\u001B[39m\u001B[38;5;124m'\u001B[39m, \n\u001B[0;32m      3\u001B[0m     attribute \u001B[38;5;241m=\u001B[39m \u001B[38;5;124m'\u001B[39m\u001B[38;5;124mGoogle test\u001B[39m\u001B[38;5;124m'\u001B[39m,\n\u001B[0;32m      4\u001B[0m )\n\u001B[0;32m      5\u001B[0m msia_map\u001B[38;5;241m.\u001B[39maddLayer(image, vis_params\u001B[38;5;241m=\u001B[39m{}, name\u001B[38;5;241m=\u001B[39m\u001B[38;5;124m'\u001B[39m\u001B[38;5;124mSRTM DEM\u001B[39m\u001B[38;5;124m'\u001B[39m, shown\u001B[38;5;241m=\u001B[39m\u001B[38;5;28;01mTrue\u001B[39;00m, opacity\u001B[38;5;241m=\u001B[39m\u001B[38;5;241m1\u001B[39m)\n",
      "\u001B[1;31mAttributeError\u001B[0m: 'Map' object has no attribute 'add_title_layer'"
     ]
    }
   ],
   "source": [
    "msia_map.add_title_layer(\n",
    "    name = 'Google Terrain Trial 1', \n",
    "    attribute = 'Google test',\n",
    ")\n",
    "msia_map.addLayer(image, vis_params={}, name='SRTM DEM', shown=True, opacity=1)"
   ]
  },
  {
   "cell_type": "code",
   "execution_count": 5,
   "id": "fdf87c07933527f5",
   "metadata": {
    "ExecuteTime": {
     "end_time": "2024-04-16T14:49:12.583609Z",
     "start_time": "2024-04-16T14:49:12.184564Z"
    }
   },
   "outputs": [
    {
     "data": {
      "text/html": [
       "\n",
       "            <style>\n",
       "                .geemap-dark {\n",
       "                    --jp-widgets-color: white;\n",
       "                    --jp-widgets-label-color: white;\n",
       "                    --jp-ui-font-color1: white;\n",
       "                    --jp-layout-color2: #454545;\n",
       "                    background-color: #383838;\n",
       "                }\n",
       "\n",
       "                .geemap-dark .jupyter-button {\n",
       "                    --jp-layout-color3: #383838;\n",
       "                }\n",
       "\n",
       "                .geemap-colab {\n",
       "                    background-color: var(--colab-primary-surface-color, white);\n",
       "                }\n",
       "\n",
       "                .geemap-colab .jupyter-button {\n",
       "                    --jp-layout-color3: var(--colab-primary-surface-color, white);\n",
       "                }\n",
       "            </style>\n",
       "            "
      ],
      "text/plain": [
       "<IPython.core.display.HTML object>"
      ]
     },
     "metadata": {},
     "output_type": "display_data"
    },
    {
     "ename": "NameError",
     "evalue": "name 'Map' is not defined",
     "output_type": "error",
     "traceback": [
      "\u001B[1;31m---------------------------------------------------------------------------\u001B[0m",
      "\u001B[1;31mNameError\u001B[0m                                 Traceback (most recent call last)",
      "Cell \u001B[1;32mIn[5], line 1\u001B[0m\n\u001B[1;32m----> 1\u001B[0m \u001B[43mMap\u001B[49m\u001B[38;5;241m.\u001B[39maddLayer(image, vis_params\u001B[38;5;241m=\u001B[39m{}, name\u001B[38;5;241m=\u001B[39m\u001B[38;5;124m'\u001B[39m\u001B[38;5;124mSRTM DEM\u001B[39m\u001B[38;5;124m'\u001B[39m, shown\u001B[38;5;241m=\u001B[39m\u001B[38;5;28;01mTrue\u001B[39;00m, opacity\u001B[38;5;241m=\u001B[39m\u001B[38;5;241m1\u001B[39m)\n",
      "\u001B[1;31mNameError\u001B[0m: name 'Map' is not defined"
     ]
    }
   ],
   "source": [
    "Map.addLayer(image, vis_params={}, name='SRTM DEM', shown=True, opacity=1)"
   ]
  },
  {
   "cell_type": "code",
   "execution_count": 21,
   "id": "20b9e74686fb1bb8",
   "metadata": {
    "ExecuteTime": {
     "end_time": "2024-04-17T07:11:23.495596Z",
     "start_time": "2024-04-17T07:11:23.484967Z"
    }
   },
   "outputs": [
    {
     "data": {
      "text/html": [
       "\n",
       "            <style>\n",
       "                .geemap-dark {\n",
       "                    --jp-widgets-color: white;\n",
       "                    --jp-widgets-label-color: white;\n",
       "                    --jp-ui-font-color1: white;\n",
       "                    --jp-layout-color2: #454545;\n",
       "                    background-color: #383838;\n",
       "                }\n",
       "\n",
       "                .geemap-dark .jupyter-button {\n",
       "                    --jp-layout-color3: #383838;\n",
       "                }\n",
       "\n",
       "                .geemap-colab {\n",
       "                    background-color: var(--colab-primary-surface-color, white);\n",
       "                }\n",
       "\n",
       "                .geemap-colab .jupyter-button {\n",
       "                    --jp-layout-color3: var(--colab-primary-surface-color, white);\n",
       "                }\n",
       "            </style>\n",
       "            "
      ],
      "text/plain": [
       "<IPython.core.display.HTML object>"
      ]
     },
     "metadata": {},
     "output_type": "display_data"
    }
   ],
   "source": [
    "import ee \n",
    "import geemap"
   ]
  },
  {
   "cell_type": "code",
   "execution_count": 22,
   "id": "3f3a59140d35fbdd",
   "metadata": {
    "ExecuteTime": {
     "end_time": "2024-04-17T07:11:24.462407Z",
     "start_time": "2024-04-17T07:11:24.457372Z"
    }
   },
   "outputs": [
    {
     "data": {
      "text/html": [
       "\n",
       "            <style>\n",
       "                .geemap-dark {\n",
       "                    --jp-widgets-color: white;\n",
       "                    --jp-widgets-label-color: white;\n",
       "                    --jp-ui-font-color1: white;\n",
       "                    --jp-layout-color2: #454545;\n",
       "                    background-color: #383838;\n",
       "                }\n",
       "\n",
       "                .geemap-dark .jupyter-button {\n",
       "                    --jp-layout-color3: #383838;\n",
       "                }\n",
       "\n",
       "                .geemap-colab {\n",
       "                    background-color: var(--colab-primary-surface-color, white);\n",
       "                }\n",
       "\n",
       "                .geemap-colab .jupyter-button {\n",
       "                    --jp-layout-color3: var(--colab-primary-surface-color, white);\n",
       "                }\n",
       "            </style>\n",
       "            "
      ],
      "text/plain": [
       "<IPython.core.display.HTML object>"
      ]
     },
     "metadata": {},
     "output_type": "display_data"
    }
   ],
   "source": [
    "geemap.ee_initialize()"
   ]
  },
  {
   "cell_type": "code",
   "execution_count": 23,
   "id": "befad10683f50282",
   "metadata": {
    "ExecuteTime": {
     "end_time": "2024-04-17T07:11:25.169455Z",
     "start_time": "2024-04-17T07:11:25.133559Z"
    }
   },
   "outputs": [
    {
     "data": {
      "text/html": [
       "\n",
       "            <style>\n",
       "                .geemap-dark {\n",
       "                    --jp-widgets-color: white;\n",
       "                    --jp-widgets-label-color: white;\n",
       "                    --jp-ui-font-color1: white;\n",
       "                    --jp-layout-color2: #454545;\n",
       "                    background-color: #383838;\n",
       "                }\n",
       "\n",
       "                .geemap-dark .jupyter-button {\n",
       "                    --jp-layout-color3: #383838;\n",
       "                }\n",
       "\n",
       "                .geemap-colab {\n",
       "                    background-color: var(--colab-primary-surface-color, white);\n",
       "                }\n",
       "\n",
       "                .geemap-colab .jupyter-button {\n",
       "                    --jp-layout-color3: var(--colab-primary-surface-color, white);\n",
       "                }\n",
       "            </style>\n",
       "            "
      ],
      "text/plain": [
       "<IPython.core.display.HTML object>"
      ]
     },
     "metadata": {},
     "output_type": "display_data"
    },
    {
     "data": {
      "application/vnd.jupyter.widget-view+json": {
       "model_id": "c58ff824849448449cd3b569a9fe9dc7",
       "version_major": 2,
       "version_minor": 0
      },
      "text/plain": [
       "Map(center=[4.1, 109.4], controls=(WidgetControl(options=['position', 'transparent_bg'], widget=SearchDataGUI(…"
      ]
     },
     "execution_count": 23,
     "metadata": {},
     "output_type": "execute_result"
    }
   ],
   "source": [
    "map = geemap.Map(center=(4.10, 109.4), zoom=5.5)\n",
    "map"
   ]
  },
  {
   "cell_type": "code",
   "execution_count": 24,
   "id": "e02c7aab7bfc2dc1",
   "metadata": {
    "ExecuteTime": {
     "end_time": "2024-04-17T07:11:27.184016Z",
     "start_time": "2024-04-17T07:11:27.168381Z"
    }
   },
   "outputs": [
    {
     "data": {
      "text/html": [
       "\n",
       "            <style>\n",
       "                .geemap-dark {\n",
       "                    --jp-widgets-color: white;\n",
       "                    --jp-widgets-label-color: white;\n",
       "                    --jp-ui-font-color1: white;\n",
       "                    --jp-layout-color2: #454545;\n",
       "                    background-color: #383838;\n",
       "                }\n",
       "\n",
       "                .geemap-dark .jupyter-button {\n",
       "                    --jp-layout-color3: #383838;\n",
       "                }\n",
       "\n",
       "                .geemap-colab {\n",
       "                    background-color: var(--colab-primary-surface-color, white);\n",
       "                }\n",
       "\n",
       "                .geemap-colab .jupyter-button {\n",
       "                    --jp-layout-color3: var(--colab-primary-surface-color, white);\n",
       "                }\n",
       "            </style>\n",
       "            "
      ],
      "text/plain": [
       "<IPython.core.display.HTML object>"
      ]
     },
     "metadata": {},
     "output_type": "display_data"
    },
    {
     "data": {
      "application/vnd.jupyter.widget-view+json": {
       "model_id": "a3e275ad831347b681087b519e4e683b",
       "version_major": 2,
       "version_minor": 0
      },
      "text/plain": [
       "Map(center=[4.1, 109.4], controls=(ZoomControl(options=['position', 'zoom_in_text', 'zoom_in_title', 'zoom_out…"
      ]
     },
     "execution_count": 24,
     "metadata": {},
     "output_type": "execute_result"
    }
   ],
   "source": [
    "map = geemap.Map(lite_mode = True, center=(4.10, 109.4), zoom=5.5)\n",
    "map"
   ]
  },
  {
   "cell_type": "code",
   "execution_count": 29,
   "id": "3451ac8811968919",
   "metadata": {
    "ExecuteTime": {
     "end_time": "2024-04-17T05:36:12.508172Z",
     "start_time": "2024-04-17T05:36:12.463755Z"
    }
   },
   "outputs": [
    {
     "data": {
      "text/html": [
       "\n",
       "            <style>\n",
       "                .geemap-dark {\n",
       "                    --jp-widgets-color: white;\n",
       "                    --jp-widgets-label-color: white;\n",
       "                    --jp-ui-font-color1: white;\n",
       "                    --jp-layout-color2: #454545;\n",
       "                    background-color: #383838;\n",
       "                }\n",
       "\n",
       "                .geemap-dark .jupyter-button {\n",
       "                    --jp-layout-color3: #383838;\n",
       "                }\n",
       "\n",
       "                .geemap-colab {\n",
       "                    background-color: var(--colab-primary-surface-color, white);\n",
       "                }\n",
       "\n",
       "                .geemap-colab .jupyter-button {\n",
       "                    --jp-layout-color3: var(--colab-primary-surface-color, white);\n",
       "                }\n",
       "            </style>\n",
       "            "
      ],
      "text/plain": [
       "<IPython.core.display.HTML object>"
      ]
     },
     "metadata": {},
     "output_type": "display_data"
    }
   ],
   "source": [
    "map.save('Malaysia_map.html')"
   ]
  },
  {
   "cell_type": "code",
   "execution_count": 25,
   "id": "849e4bc194b0b3b3",
   "metadata": {
    "ExecuteTime": {
     "end_time": "2024-04-17T07:11:31.950269Z",
     "start_time": "2024-04-17T07:11:31.912657Z"
    }
   },
   "outputs": [
    {
     "data": {
      "text/html": [
       "\n",
       "            <style>\n",
       "                .geemap-dark {\n",
       "                    --jp-widgets-color: white;\n",
       "                    --jp-widgets-label-color: white;\n",
       "                    --jp-ui-font-color1: white;\n",
       "                    --jp-layout-color2: #454545;\n",
       "                    background-color: #383838;\n",
       "                }\n",
       "\n",
       "                .geemap-dark .jupyter-button {\n",
       "                    --jp-layout-color3: #383838;\n",
       "                }\n",
       "\n",
       "                .geemap-colab {\n",
       "                    background-color: var(--colab-primary-surface-color, white);\n",
       "                }\n",
       "\n",
       "                .geemap-colab .jupyter-button {\n",
       "                    --jp-layout-color3: var(--colab-primary-surface-color, white);\n",
       "                }\n",
       "            </style>\n",
       "            "
      ],
      "text/plain": [
       "<IPython.core.display.HTML object>"
      ]
     },
     "metadata": {},
     "output_type": "display_data"
    },
    {
     "data": {
      "application/vnd.jupyter.widget-view+json": {
       "model_id": "12b57e77960a40aab2d30be3b0ebcb1b",
       "version_major": 2,
       "version_minor": 0
      },
      "text/plain": [
       "Map(center=[0, 0], controls=(WidgetControl(options=['position', 'transparent_bg'], widget=SearchDataGUI(childr…"
      ]
     },
     "execution_count": 25,
     "metadata": {},
     "output_type": "execute_result"
    }
   ],
   "source": [
    "map = geemap.Map(base = 'Statia.Outdoors')\n",
    "map"
   ]
  },
  {
   "cell_type": "code",
   "execution_count": 1,
   "id": "aa449e01a4460e06",
   "metadata": {
    "ExecuteTime": {
     "end_time": "2024-04-17T07:11:40.767357Z",
     "start_time": "2024-04-17T07:11:40.762303Z"
    }
   },
   "outputs": [
    {
     "ename": "AttributeError",
     "evalue": "type object 'map' has no attribute 'add_basemap'",
     "output_type": "error",
     "traceback": [
      "\u001B[1;31m---------------------------------------------------------------------------\u001B[0m",
      "\u001B[1;31mAttributeError\u001B[0m                            Traceback (most recent call last)",
      "Cell \u001B[1;32mIn[1], line 1\u001B[0m\n\u001B[1;32m----> 1\u001B[0m \u001B[38;5;28;43mmap\u001B[39;49m\u001B[38;5;241;43m.\u001B[39;49m\u001B[43madd_basemap\u001B[49m(\u001B[38;5;124m\"\u001B[39m\u001B[38;5;124mStadia.Outdoors\u001B[39m\u001B[38;5;124m\"\u001B[39m)\n",
      "\u001B[1;31mAttributeError\u001B[0m: type object 'map' has no attribute 'add_basemap'"
     ]
    }
   ],
   "source": [
    "map.add_basemap(\"Stadia.Outdoors\")"
   ]
  },
  {
   "cell_type": "code",
   "execution_count": 27,
   "id": "34a659a3898362c3",
   "metadata": {
    "ExecuteTime": {
     "end_time": "2024-04-17T07:11:41.675862Z",
     "start_time": "2024-04-17T07:11:41.669147Z"
    }
   },
   "outputs": [
    {
     "data": {
      "text/html": [
       "\n",
       "            <style>\n",
       "                .geemap-dark {\n",
       "                    --jp-widgets-color: white;\n",
       "                    --jp-widgets-label-color: white;\n",
       "                    --jp-ui-font-color1: white;\n",
       "                    --jp-layout-color2: #454545;\n",
       "                    background-color: #383838;\n",
       "                }\n",
       "\n",
       "                .geemap-dark .jupyter-button {\n",
       "                    --jp-layout-color3: #383838;\n",
       "                }\n",
       "\n",
       "                .geemap-colab {\n",
       "                    background-color: var(--colab-primary-surface-color, white);\n",
       "                }\n",
       "\n",
       "                .geemap-colab .jupyter-button {\n",
       "                    --jp-layout-color3: var(--colab-primary-surface-color, white);\n",
       "                }\n",
       "            </style>\n",
       "            "
      ],
      "text/plain": [
       "<IPython.core.display.HTML object>"
      ]
     },
     "metadata": {},
     "output_type": "display_data"
    },
    {
     "name": "stdout",
     "output_type": "stream",
     "text": [
      "OpenStreetMap\n",
      "Esri.WorldStreetMap\n",
      "Esri.WorldImagery\n",
      "Esri.WorldTopoMap\n",
      "FWS NWI Wetlands\n",
      "FWS NWI Wetlands Raster\n",
      "NLCD 2021 CONUS Land Cover\n",
      "NLCD 2019 CONUS Land Cover\n",
      "NLCD 2016 CONUS Land Cover\n",
      "NLCD 2013 CONUS Land Cover\n",
      "NLCD 2011 CONUS Land Cover\n",
      "NLCD 2008 CONUS Land Cover\n",
      "NLCD 2006 CONUS Land Cover\n",
      "NLCD 2004 CONUS Land Cover\n",
      "NLCD 2001 CONUS Land Cover\n",
      "USGS NAIP Imagery\n",
      "USGS NAIP Imagery False Color\n",
      "USGS NAIP Imagery NDVI\n",
      "USGS Hydrography\n",
      "USGS 3DEP Elevation\n",
      "ESA Worldcover 2020\n",
      "ESA Worldcover 2020 S2 FCC\n",
      "ESA Worldcover 2020 S2 TCC\n",
      "ESA Worldcover 2021\n",
      "ESA Worldcover 2021 S2 FCC\n",
      "ESA Worldcover 2021 S2 TCC\n",
      "BaseMapDE.Color\n",
      "BaseMapDE.Grey\n",
      "BasemapAT.basemap\n",
      "BasemapAT.grau\n",
      "BasemapAT.highdpi\n",
      "BasemapAT.orthofoto\n",
      "BasemapAT.overlay\n",
      "BasemapAT.surface\n",
      "BasemapAT.terrain\n",
      "CartoDB.DarkMatter\n",
      "CartoDB.DarkMatterNoLabels\n",
      "CartoDB.DarkMatterOnlyLabels\n",
      "CartoDB.Positron\n",
      "CartoDB.PositronNoLabels\n",
      "CartoDB.PositronOnlyLabels\n",
      "CartoDB.Voyager\n",
      "CartoDB.VoyagerLabelsUnder\n",
      "CartoDB.VoyagerNoLabels\n",
      "CartoDB.VoyagerOnlyLabels\n",
      "CyclOSM\n",
      "Esri.AntarcticBasemap\n",
      "Esri.AntarcticImagery\n",
      "Esri.ArcticImagery\n",
      "Esri.ArcticOceanBase\n",
      "Esri.ArcticOceanReference\n",
      "Esri.DeLorme\n",
      "Esri.NatGeoWorldMap\n",
      "Esri.OceanBasemap\n",
      "Esri.WorldGrayCanvas\n",
      "Esri.WorldPhysical\n",
      "Esri.WorldShadedRelief\n",
      "Esri.WorldTerrain\n",
      "FreeMapSK\n",
      "Gaode.Normal\n",
      "Gaode.Satellite\n",
      "HikeBike.HikeBike\n",
      "HikeBike.HillShading\n",
      "JusticeMap.americanIndian\n",
      "JusticeMap.asian\n",
      "JusticeMap.black\n",
      "JusticeMap.hispanic\n",
      "JusticeMap.income\n",
      "JusticeMap.multi\n",
      "JusticeMap.nonWhite\n",
      "JusticeMap.plurality\n",
      "JusticeMap.white\n",
      "MtbMap\n",
      "NASAGIBS.ASTER_GDEM_Greyscale_Shaded_Relief\n",
      "NASAGIBS.BlueMarble3031\n",
      "NASAGIBS.BlueMarble3413\n",
      "NASAGIBS.ModisAquaBands721CR\n",
      "NASAGIBS.ModisAquaTrueColorCR\n",
      "NASAGIBS.ModisTerraAOD\n",
      "NASAGIBS.ModisTerraBands367CR\n",
      "NASAGIBS.ModisTerraBands721CR\n",
      "NASAGIBS.ModisTerraChlorophyll\n",
      "NASAGIBS.ModisTerraLSTDay\n",
      "NASAGIBS.ModisTerraSnowCover\n",
      "NASAGIBS.ModisTerraTrueColorCR\n",
      "NASAGIBS.ViirsEarthAtNight2012\n",
      "NASAGIBS.ViirsTrueColorCR\n",
      "OPNVKarte\n",
      "OneMapSG.Default\n",
      "OneMapSG.Grey\n",
      "OneMapSG.LandLot\n",
      "OneMapSG.Night\n",
      "OneMapSG.Original\n",
      "OpenAIP\n",
      "OpenFireMap\n",
      "OpenRailwayMap\n",
      "OpenSeaMap\n",
      "OpenSnowMap.pistes\n",
      "OpenStreetMap.BZH\n",
      "OpenStreetMap.BlackAndWhite\n",
      "OpenStreetMap.CH\n",
      "OpenStreetMap.DE\n",
      "OpenStreetMap.HOT\n",
      "OpenStreetMap.Mapnik\n",
      "OpenTopoMap\n",
      "SafeCast\n",
      "Stadia.AlidadeSmooth\n",
      "Stadia.AlidadeSmoothDark\n",
      "Stadia.OSMBright\n",
      "Stadia.Outdoors\n",
      "Stadia.StamenTerrain\n",
      "Stadia.StamenTerrainBackground\n",
      "Stadia.StamenTerrainLabels\n",
      "Stadia.StamenTerrainLines\n",
      "Stadia.StamenToner\n",
      "Stadia.StamenTonerBackground\n",
      "Stadia.StamenTonerLabels\n",
      "Stadia.StamenTonerLines\n",
      "Stadia.StamenTonerLite\n",
      "Stadia.StamenWatercolor\n",
      "Strava.All\n",
      "Strava.Ride\n",
      "Strava.Run\n",
      "Strava.Water\n",
      "Strava.Winter\n",
      "SwissFederalGeoportal.JourneyThroughTime\n",
      "SwissFederalGeoportal.NationalMapColor\n",
      "SwissFederalGeoportal.NationalMapGrey\n",
      "SwissFederalGeoportal.SWISSIMAGE\n",
      "TopPlusOpen.Color\n",
      "TopPlusOpen.Grey\n",
      "USGS.USImagery\n",
      "USGS.USImageryTopo\n",
      "USGS.USTopo\n",
      "WaymarkedTrails.cycling\n",
      "WaymarkedTrails.hiking\n",
      "WaymarkedTrails.mtb\n",
      "WaymarkedTrails.riding\n",
      "WaymarkedTrails.skating\n",
      "WaymarkedTrails.slopes\n",
      "nlmaps.grijs\n",
      "nlmaps.luchtfoto\n",
      "nlmaps.pastel\n",
      "nlmaps.standaard\n",
      "nlmaps.water\n"
     ]
    }
   ],
   "source": [
    "for basemap in geemap.basemaps.keys():\n",
    "    print(basemap)"
   ]
  },
  {
   "cell_type": "code",
   "execution_count": 28,
   "id": "a15af8a6e2579935",
   "metadata": {
    "ExecuteTime": {
     "end_time": "2024-04-17T05:31:48.496021Z",
     "start_time": "2024-04-17T05:31:48.487443Z"
    }
   },
   "outputs": [
    {
     "data": {
      "text/html": [
       "\n",
       "            <style>\n",
       "                .geemap-dark {\n",
       "                    --jp-widgets-color: white;\n",
       "                    --jp-widgets-label-color: white;\n",
       "                    --jp-ui-font-color1: white;\n",
       "                    --jp-layout-color2: #454545;\n",
       "                    background-color: #383838;\n",
       "                }\n",
       "\n",
       "                .geemap-dark .jupyter-button {\n",
       "                    --jp-layout-color3: #383838;\n",
       "                }\n",
       "\n",
       "                .geemap-colab {\n",
       "                    background-color: var(--colab-primary-surface-color, white);\n",
       "                }\n",
       "\n",
       "                .geemap-colab .jupyter-button {\n",
       "                    --jp-layout-color3: var(--colab-primary-surface-color, white);\n",
       "                }\n",
       "            </style>\n",
       "            "
      ],
      "text/plain": [
       "<IPython.core.display.HTML object>"
      ]
     },
     "metadata": {},
     "output_type": "display_data"
    },
    {
     "data": {
      "text/plain": [
       "145"
      ]
     },
     "execution_count": 28,
     "metadata": {},
     "output_type": "execute_result"
    }
   ],
   "source": [
    "len(geemap.basemaps)"
   ]
  },
  {
   "cell_type": "code",
   "execution_count": 28,
   "id": "65725c33df94aa65",
   "metadata": {
    "ExecuteTime": {
     "end_time": "2024-04-17T07:11:51.708596Z",
     "start_time": "2024-04-17T07:11:51.692780Z"
    }
   },
   "outputs": [
    {
     "data": {
      "text/html": [
       "\n",
       "            <style>\n",
       "                .geemap-dark {\n",
       "                    --jp-widgets-color: white;\n",
       "                    --jp-widgets-label-color: white;\n",
       "                    --jp-ui-font-color1: white;\n",
       "                    --jp-layout-color2: #454545;\n",
       "                    background-color: #383838;\n",
       "                }\n",
       "\n",
       "                .geemap-dark .jupyter-button {\n",
       "                    --jp-layout-color3: #383838;\n",
       "                }\n",
       "\n",
       "                .geemap-colab {\n",
       "                    background-color: var(--colab-primary-surface-color, white);\n",
       "                }\n",
       "\n",
       "                .geemap-colab .jupyter-button {\n",
       "                    --jp-layout-color3: var(--colab-primary-surface-color, white);\n",
       "                }\n",
       "            </style>\n",
       "            "
      ],
      "text/plain": [
       "<IPython.core.display.HTML object>"
      ]
     },
     "metadata": {},
     "output_type": "display_data"
    },
    {
     "ename": "AttributeError",
     "evalue": "'Map' object has no attribute 'Map'",
     "output_type": "error",
     "traceback": [
      "\u001B[1;31m---------------------------------------------------------------------------\u001B[0m",
      "\u001B[1;31mAttributeError\u001B[0m                            Traceback (most recent call last)",
      "Cell \u001B[1;32mIn[28], line 1\u001B[0m\n\u001B[1;32m----> 1\u001B[0m Map \u001B[38;5;241m=\u001B[39m \u001B[43mmsia_map\u001B[49m\u001B[38;5;241;43m.\u001B[39;49m\u001B[43mMap\u001B[49m()\n\u001B[0;32m      2\u001B[0m vis \u001B[38;5;241m=\u001B[39m {\u001B[38;5;124m'\u001B[39m\u001B[38;5;124mbands\u001B[39m\u001B[38;5;124m'\u001B[39m: [\u001B[38;5;124m'\u001B[39m\u001B[38;5;124mNIR\u001B[39m\u001B[38;5;124m'\u001B[39m, \u001B[38;5;124m'\u001B[39m\u001B[38;5;124mSWIR\u001B[39m\u001B[38;5;124m'\u001B[39m, \u001B[38;5;124m'\u001B[39m\u001B[38;5;124mRED\u001B[39m\u001B[38;5;124m'\u001B[39m], \u001B[38;5;124m'\u001B[39m\u001B[38;5;124mmin\u001B[39m\u001B[38;5;124m'\u001B[39m: \u001B[38;5;241m0\u001B[39m, \u001B[38;5;124m'\u001B[39m\u001B[38;5;124mmax\u001B[39m\u001B[38;5;124m'\u001B[39m: \u001B[38;5;241m0.5\u001B[39m}\n\u001B[0;32m      3\u001B[0m Map\u001B[38;5;241m.\u001B[39maddLayer(msia_map, vis, \u001B[38;5;124m'\u001B[39m\u001B[38;5;124mImage\u001B[39m\u001B[38;5;124m'\u001B[39m)\n",
      "\u001B[1;31mAttributeError\u001B[0m: 'Map' object has no attribute 'Map'"
     ]
    }
   ],
   "source": [
    "Map = msia_map.Map()\n",
    "vis = {'bands': ['NIR', 'SWIR', 'RED'], 'min': 0, 'max': 0.5}\n",
    "Map.addLayer(msia_map, vis, 'Image')\n",
    "Map.centerObject(image, 9)\n",
    "Map"
   ]
  },
  {
   "metadata": {
    "ExecuteTime": {
     "end_time": "2024-04-17T09:23:47.062186Z",
     "start_time": "2024-04-17T09:23:47.013483Z"
    }
   },
   "cell_type": "code",
   "source": [
    "import geemap \n",
    "Map = geemap.Map(center=(4.10, 109.4), zoom=5.5)\n",
    "Map.add_basemap(\"Esri.WorldImagery\")\n",
    "Map.add_basemap(\"OpenTopoMap\")\n",
    "Map.add_basemap(\"Esri.WorldStreetMap\")\n",
    "Map"
   ],
   "id": "da5cde77ef861c9a",
   "outputs": [
    {
     "data": {
      "text/plain": [
       "<IPython.core.display.HTML object>"
      ],
      "text/html": [
       "\n",
       "            <style>\n",
       "                .geemap-dark {\n",
       "                    --jp-widgets-color: white;\n",
       "                    --jp-widgets-label-color: white;\n",
       "                    --jp-ui-font-color1: white;\n",
       "                    --jp-layout-color2: #454545;\n",
       "                    background-color: #383838;\n",
       "                }\n",
       "\n",
       "                .geemap-dark .jupyter-button {\n",
       "                    --jp-layout-color3: #383838;\n",
       "                }\n",
       "\n",
       "                .geemap-colab {\n",
       "                    background-color: var(--colab-primary-surface-color, white);\n",
       "                }\n",
       "\n",
       "                .geemap-colab .jupyter-button {\n",
       "                    --jp-layout-color3: var(--colab-primary-surface-color, white);\n",
       "                }\n",
       "            </style>\n",
       "            "
      ]
     },
     "metadata": {},
     "output_type": "display_data"
    },
    {
     "data": {
      "text/plain": [
       "Map(center=[4.1, 109.4], controls=(WidgetControl(options=['position', 'transparent_bg'], widget=SearchDataGUI(…"
      ],
      "application/vnd.jupyter.widget-view+json": {
       "version_major": 2,
       "version_minor": 0,
       "model_id": "c629d8fcf532405aa5b9808fed70f3f6"
      }
     },
     "execution_count": 74,
     "metadata": {},
     "output_type": "execute_result"
    }
   ],
   "execution_count": 74
  },
  {
   "metadata": {
    "ExecuteTime": {
     "end_time": "2024-04-17T09:25:15.563759Z",
     "start_time": "2024-04-17T09:25:15.550317Z"
    }
   },
   "cell_type": "code",
   "source": [
    "Map = geemap.Map(lite_mode = True, center=(4.10, 109.4), zoom=5.5)\n",
    "Map"
   ],
   "id": "9d7ccdabfdef8e90",
   "outputs": [
    {
     "data": {
      "text/plain": [
       "<IPython.core.display.HTML object>"
      ],
      "text/html": [
       "\n",
       "            <style>\n",
       "                .geemap-dark {\n",
       "                    --jp-widgets-color: white;\n",
       "                    --jp-widgets-label-color: white;\n",
       "                    --jp-ui-font-color1: white;\n",
       "                    --jp-layout-color2: #454545;\n",
       "                    background-color: #383838;\n",
       "                }\n",
       "\n",
       "                .geemap-dark .jupyter-button {\n",
       "                    --jp-layout-color3: #383838;\n",
       "                }\n",
       "\n",
       "                .geemap-colab {\n",
       "                    background-color: var(--colab-primary-surface-color, white);\n",
       "                }\n",
       "\n",
       "                .geemap-colab .jupyter-button {\n",
       "                    --jp-layout-color3: var(--colab-primary-surface-color, white);\n",
       "                }\n",
       "            </style>\n",
       "            "
      ]
     },
     "metadata": {},
     "output_type": "display_data"
    },
    {
     "data": {
      "text/plain": [
       "Map(center=[4.1, 109.4], controls=(ZoomControl(options=['position', 'zoom_in_text', 'zoom_in_title', 'zoom_out…"
      ],
      "application/vnd.jupyter.widget-view+json": {
       "version_major": 2,
       "version_minor": 0,
       "model_id": "5d8b625f9e064992ba038c6af0f0c08e"
      }
     },
     "execution_count": 75,
     "metadata": {},
     "output_type": "execute_result"
    }
   ],
   "execution_count": 75
  }
 ],
 "metadata": {
  "kernelspec": {
   "display_name": "Python 3 (ipykernel)",
   "language": "python",
   "name": "python3"
  },
  "language_info": {
   "codemirror_mode": {
    "name": "ipython",
    "version": 3
   },
   "file_extension": ".py",
   "mimetype": "text/x-python",
   "name": "python",
   "nbconvert_exporter": "python",
   "pygments_lexer": "ipython3",
   "version": "3.11.5"
  }
 },
 "nbformat": 4,
 "nbformat_minor": 5
}
