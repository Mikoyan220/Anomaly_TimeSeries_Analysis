{
 "cells": [
  {
   "cell_type": "markdown",
   "source": [
    "# Data Preprocessing with Dask "
   ],
   "metadata": {
    "collapsed": false
   },
   "id": "7bc344b619be61d5"
  },
  {
   "cell_type": "markdown",
   "source": [
    "## Preparation of Dask oriented "
   ],
   "metadata": {
    "collapsed": false
   },
   "id": "5e6e11039e04bc70"
  },
  {
   "cell_type": "code",
   "outputs": [],
   "source": [
    "import numpy as np\n",
    "import pandas as pd\n",
    "\n",
    "# dask --> for parallel computing in local devices \n",
    "import dask.dataframe as dd\n",
    "import dask.array as da\n",
    "import dask.bag as db"
   ],
   "metadata": {
    "collapsed": false
   },
   "id": "5364f6c9e4a5c55e"
  },
  {
   "cell_type": "code",
   "outputs": [],
   "source": [
    "# set up of local cluster using dask + jupyter \n",
    "from dask.distributed import Client\n",
    "\n",
    "client = Client(n_workers=4)\n",
    "client"
   ],
   "metadata": {
    "collapsed": false
   },
   "id": "2ed4d066f1e214b8"
  },
  {
   "cell_type": "markdown",
   "source": [
    "# Execution of Data Merging "
   ],
   "metadata": {
    "collapsed": false
   },
   "id": "b2a877f77013eaaf"
  },
  {
   "cell_type": "code",
   "outputs": [
    {
     "name": "stdout",
     "output_type": "stream",
     "text": [
      "/home/linux_subsystem/Documents/Thesis_GeospatialTimeSeriesAnalytics\n"
     ]
    }
   ],
   "source": [
    "import os.path # importing os.path module for directory manipulation \n",
    "import glob  # Import glob for working with file patterns\n",
    "\n",
    "# Define a path or directory containing data files\n",
    "path = \"/home/linux_subsystem/Documents/Thesis_GeospatialTimeSeriesAnalytics/raw dataset\"\n",
    "\n",
    "# Get the directory name   \n",
    "# from the specified path \n",
    "dirname = os.path.dirname(path) \n",
    "  \n",
    "# Print the directory name   \n",
    "print(dirname)"
   ],
   "metadata": {
    "collapsed": false,
    "ExecuteTime": {
     "end_time": "2024-04-02T13:10:56.285010Z",
     "start_time": "2024-04-02T13:10:56.281793Z"
    }
   },
   "id": "b641e99532d8cc25",
   "execution_count": 2
  },
  {
   "cell_type": "code",
   "outputs": [
    {
     "name": "stdout",
     "output_type": "stream",
     "text": [
      "Path to raw pricecatcher data files\n",
      "/home/linux_subsystem/Documents/Thesis_GeospatialTimeSeriesAnalytics/raw dataset\n",
      "\n",
      "Sample List of Pricecatcher Files\n",
      "['/home/linux_subsystem/Documents/Thesis_GeospatialTimeSeriesAnalytics/raw dataset/pricecatcher_2022-01.csv', '/home/linux_subsystem/Documents/Thesis_GeospatialTimeSeriesAnalytics/raw dataset/pricecatcher_2022-02.csv', '/home/linux_subsystem/Documents/Thesis_GeospatialTimeSeriesAnalytics/raw dataset/pricecatcher_2022-03.csv', '/home/linux_subsystem/Documents/Thesis_GeospatialTimeSeriesAnalytics/raw dataset/pricecatcher_2022-04.csv', '/home/linux_subsystem/Documents/Thesis_GeospatialTimeSeriesAnalytics/raw dataset/pricecatcher_2022-05.csv', '/home/linux_subsystem/Documents/Thesis_GeospatialTimeSeriesAnalytics/raw dataset/pricecatcher_2022-06.csv', '/home/linux_subsystem/Documents/Thesis_GeospatialTimeSeriesAnalytics/raw dataset/pricecatcher_2022-07.csv', '/home/linux_subsystem/Documents/Thesis_GeospatialTimeSeriesAnalytics/raw dataset/pricecatcher_2022-08.csv', '/home/linux_subsystem/Documents/Thesis_GeospatialTimeSeriesAnalytics/raw dataset/pricecatcher_2022-09.csv', '/home/linux_subsystem/Documents/Thesis_GeospatialTimeSeriesAnalytics/raw dataset/pricecatcher_2022-10.csv', '/home/linux_subsystem/Documents/Thesis_GeospatialTimeSeriesAnalytics/raw dataset/pricecatcher_2022-11.csv', '/home/linux_subsystem/Documents/Thesis_GeospatialTimeSeriesAnalytics/raw dataset/pricecatcher_2022-12.csv', '/home/linux_subsystem/Documents/Thesis_GeospatialTimeSeriesAnalytics/raw dataset/pricecatcher_2023-01.csv', '/home/linux_subsystem/Documents/Thesis_GeospatialTimeSeriesAnalytics/raw dataset/pricecatcher_2023-02.csv', '/home/linux_subsystem/Documents/Thesis_GeospatialTimeSeriesAnalytics/raw dataset/pricecatcher_2023-03.csv', '/home/linux_subsystem/Documents/Thesis_GeospatialTimeSeriesAnalytics/raw dataset/pricecatcher_2023-04.csv', '/home/linux_subsystem/Documents/Thesis_GeospatialTimeSeriesAnalytics/raw dataset/pricecatcher_2023-05.csv', '/home/linux_subsystem/Documents/Thesis_GeospatialTimeSeriesAnalytics/raw dataset/pricecatcher_2023-06.csv', '/home/linux_subsystem/Documents/Thesis_GeospatialTimeSeriesAnalytics/raw dataset/pricecatcher_2023-07.csv', '/home/linux_subsystem/Documents/Thesis_GeospatialTimeSeriesAnalytics/raw dataset/pricecatcher_2023-08.csv', '/home/linux_subsystem/Documents/Thesis_GeospatialTimeSeriesAnalytics/raw dataset/pricecatcher_2023-09.csv', '/home/linux_subsystem/Documents/Thesis_GeospatialTimeSeriesAnalytics/raw dataset/pricecatcher_2023-10.csv', '/home/linux_subsystem/Documents/Thesis_GeospatialTimeSeriesAnalytics/raw dataset/pricecatcher_2023-11.csv', '/home/linux_subsystem/Documents/Thesis_GeospatialTimeSeriesAnalytics/raw dataset/pricecatcher_2023-12.csv']\n"
     ]
    }
   ],
   "source": [
    "print(\"Path to raw pricecatcher data files\")\n",
    "print(path)\n",
    "print()\n",
    "\n",
    "pricecatcher_files = glob.glob(f\"{path}/*.csv\")\n",
    "pricecatcher_files = sorted(pricecatcher_files)\n",
    "print(\"Sample List of Pricecatcher Files\")\n",
    "print(pricecatcher_files)"
   ],
   "metadata": {
    "collapsed": false,
    "ExecuteTime": {
     "end_time": "2024-04-02T13:46:45.668826Z",
     "start_time": "2024-04-02T13:46:45.664940Z"
    }
   },
   "id": "94d033a95d70c596",
   "execution_count": 27
  },
  {
   "cell_type": "code",
   "outputs": [
    {
     "name": "stdout",
     "output_type": "stream",
     "text": [
      "13.314751659850524\n"
     ]
    }
   ],
   "source": [
    "# Load all CSV files into a Dask DataFrame\n",
    "ddf = dd.read_csv(pricecatcher_files)\n",
    "\n",
    "# Example operation: Compute the mean of a column\n",
    "mean_result = ddf['price'].mean().compute()\n",
    "\n",
    "# Print the result\n",
    "print(mean_result)"
   ],
   "metadata": {
    "collapsed": false,
    "ExecuteTime": {
     "end_time": "2024-04-02T13:47:04.383828Z",
     "start_time": "2024-04-02T13:46:56.855161Z"
    }
   },
   "id": "d27b803f41141b4a",
   "execution_count": 28
  },
  {
   "cell_type": "code",
   "outputs": [
    {
     "data": {
      "text/plain": "         date  premise_code  item_code  price\n0  2022-01-01             2          1    9.1\n1  2022-01-01             2          9   36.0\n2  2022-01-01             2         14   24.0\n3  2022-01-01             2         16    4.3\n4  2022-01-01             2         18    4.5",
      "text/html": "<div>\n<style scoped>\n    .dataframe tbody tr th:only-of-type {\n        vertical-align: middle;\n    }\n\n    .dataframe tbody tr th {\n        vertical-align: top;\n    }\n\n    .dataframe thead th {\n        text-align: right;\n    }\n</style>\n<table border=\"1\" class=\"dataframe\">\n  <thead>\n    <tr style=\"text-align: right;\">\n      <th></th>\n      <th>date</th>\n      <th>premise_code</th>\n      <th>item_code</th>\n      <th>price</th>\n    </tr>\n  </thead>\n  <tbody>\n    <tr>\n      <th>0</th>\n      <td>2022-01-01</td>\n      <td>2</td>\n      <td>1</td>\n      <td>9.1</td>\n    </tr>\n    <tr>\n      <th>1</th>\n      <td>2022-01-01</td>\n      <td>2</td>\n      <td>9</td>\n      <td>36.0</td>\n    </tr>\n    <tr>\n      <th>2</th>\n      <td>2022-01-01</td>\n      <td>2</td>\n      <td>14</td>\n      <td>24.0</td>\n    </tr>\n    <tr>\n      <th>3</th>\n      <td>2022-01-01</td>\n      <td>2</td>\n      <td>16</td>\n      <td>4.3</td>\n    </tr>\n    <tr>\n      <th>4</th>\n      <td>2022-01-01</td>\n      <td>2</td>\n      <td>18</td>\n      <td>4.5</td>\n    </tr>\n  </tbody>\n</table>\n</div>"
     },
     "execution_count": 29,
     "metadata": {},
     "output_type": "execute_result"
    }
   ],
   "source": [
    "ddf.head()"
   ],
   "metadata": {
    "collapsed": false,
    "ExecuteTime": {
     "end_time": "2024-04-02T13:47:07.715Z",
     "start_time": "2024-04-02T13:47:07.146650Z"
    }
   },
   "id": "5c75cd8c4ee3413d",
   "execution_count": 29
  },
  {
   "cell_type": "code",
   "outputs": [
    {
     "data": {
      "text/plain": "               date  premise_code  item_code  price\n2170653  2023-12-31         20903       1928   6.99\n2170654  2023-12-31         20903       1930   5.99\n2170655  2023-12-31         20903       1943  13.00\n2170656  2023-12-31         20903       1944   5.90\n2170657  2023-12-31         20903       1946   0.99",
      "text/html": "<div>\n<style scoped>\n    .dataframe tbody tr th:only-of-type {\n        vertical-align: middle;\n    }\n\n    .dataframe tbody tr th {\n        vertical-align: top;\n    }\n\n    .dataframe thead th {\n        text-align: right;\n    }\n</style>\n<table border=\"1\" class=\"dataframe\">\n  <thead>\n    <tr style=\"text-align: right;\">\n      <th></th>\n      <th>date</th>\n      <th>premise_code</th>\n      <th>item_code</th>\n      <th>price</th>\n    </tr>\n  </thead>\n  <tbody>\n    <tr>\n      <th>2170653</th>\n      <td>2023-12-31</td>\n      <td>20903</td>\n      <td>1928</td>\n      <td>6.99</td>\n    </tr>\n    <tr>\n      <th>2170654</th>\n      <td>2023-12-31</td>\n      <td>20903</td>\n      <td>1930</td>\n      <td>5.99</td>\n    </tr>\n    <tr>\n      <th>2170655</th>\n      <td>2023-12-31</td>\n      <td>20903</td>\n      <td>1943</td>\n      <td>13.00</td>\n    </tr>\n    <tr>\n      <th>2170656</th>\n      <td>2023-12-31</td>\n      <td>20903</td>\n      <td>1944</td>\n      <td>5.90</td>\n    </tr>\n    <tr>\n      <th>2170657</th>\n      <td>2023-12-31</td>\n      <td>20903</td>\n      <td>1946</td>\n      <td>0.99</td>\n    </tr>\n  </tbody>\n</table>\n</div>"
     },
     "execution_count": 30,
     "metadata": {},
     "output_type": "execute_result"
    }
   ],
   "source": [
    "ddf.tail()"
   ],
   "metadata": {
    "collapsed": false,
    "ExecuteTime": {
     "end_time": "2024-04-02T13:47:10.846813Z",
     "start_time": "2024-04-02T13:47:10.428034Z"
    }
   },
   "id": "4055cd2ba021ddd2",
   "execution_count": 30
  },
  {
   "cell_type": "code",
   "outputs": [],
   "source": [
    "# convert ddf from series into dataframe\n",
    "ddf = pd.DataFrame(ddf).compute()\n",
    "print(\"BEFORE\")\n",
    "print(ddf.head())\n",
    "\n",
    "# convert 'date' attribute into date format \n",
    "ddf['date'] = pd.to_datetime(ddf['date']).compute()\n",
    "# change the datetime format into YYYY/MM/DD\n",
    "ddf['date'] = ddf['date'].dt.strftime('%Y/%m/%d').compute()\n",
    "\n",
    "print(\"AFTER\")\n",
    "print(ddf) \n"
   ],
   "metadata": {
    "collapsed": false
   },
   "id": "a3618ecef5611d4e",
   "execution_count": null
  },
  {
   "cell_type": "code",
   "outputs": [],
   "source": [
    "# using dictionary to convert remaining columns\n",
    "convert_dict = {'premise_code': int,\n",
    "                'item_code': int, \n",
    "                'price': float\n",
    "                }\n",
    "ddf = ddf.astype(convert_dict).compute()\n",
    "\n",
    "print(ddf) "
   ],
   "metadata": {
    "collapsed": false,
    "is_executing": true,
    "ExecuteTime": {
     "start_time": "2024-04-02T14:01:37.692435Z"
    }
   },
   "id": "54e59a54723443f2",
   "execution_count": 0
  },
  {
   "cell_type": "code",
   "outputs": [],
   "source": [
    "ddf.astype(str)\n",
    "print(df.dtypes)"
   ],
   "metadata": {
    "collapsed": false
   },
   "id": "6153567bf557fb40"
  },
  {
   "cell_type": "code",
   "outputs": [
    {
     "data": {
      "text/plain": "       premise_code     item_code         price\ncount  5.650434e+07  5.650434e+07  5.650434e+07\nmean   1.134232e+04  1.005108e+03  1.331475e+01\nstd    7.061466e+03  7.235869e+02  1.250929e+01\nmin   -1.000000e+00 -1.000000e+00  1.000000e-02\n25%    4.110000e+03  1.520000e+02  5.500000e+00\n50%    1.336900e+04  1.153000e+03  1.000000e+01\n75%    1.798000e+04  1.591000e+03  1.799000e+01\nmax    2.090300e+04  2.058000e+03  3.599000e+03",
      "text/html": "<div>\n<style scoped>\n    .dataframe tbody tr th:only-of-type {\n        vertical-align: middle;\n    }\n\n    .dataframe tbody tr th {\n        vertical-align: top;\n    }\n\n    .dataframe thead th {\n        text-align: right;\n    }\n</style>\n<table border=\"1\" class=\"dataframe\">\n  <thead>\n    <tr style=\"text-align: right;\">\n      <th></th>\n      <th>premise_code</th>\n      <th>item_code</th>\n      <th>price</th>\n    </tr>\n  </thead>\n  <tbody>\n    <tr>\n      <th>count</th>\n      <td>5.650434e+07</td>\n      <td>5.650434e+07</td>\n      <td>5.650434e+07</td>\n    </tr>\n    <tr>\n      <th>mean</th>\n      <td>1.134232e+04</td>\n      <td>1.005108e+03</td>\n      <td>1.331475e+01</td>\n    </tr>\n    <tr>\n      <th>std</th>\n      <td>7.061466e+03</td>\n      <td>7.235869e+02</td>\n      <td>1.250929e+01</td>\n    </tr>\n    <tr>\n      <th>min</th>\n      <td>-1.000000e+00</td>\n      <td>-1.000000e+00</td>\n      <td>1.000000e-02</td>\n    </tr>\n    <tr>\n      <th>25%</th>\n      <td>4.110000e+03</td>\n      <td>1.520000e+02</td>\n      <td>5.500000e+00</td>\n    </tr>\n    <tr>\n      <th>50%</th>\n      <td>1.336900e+04</td>\n      <td>1.153000e+03</td>\n      <td>1.000000e+01</td>\n    </tr>\n    <tr>\n      <th>75%</th>\n      <td>1.798000e+04</td>\n      <td>1.591000e+03</td>\n      <td>1.799000e+01</td>\n    </tr>\n    <tr>\n      <th>max</th>\n      <td>2.090300e+04</td>\n      <td>2.058000e+03</td>\n      <td>3.599000e+03</td>\n    </tr>\n  </tbody>\n</table>\n</div>"
     },
     "execution_count": 31,
     "metadata": {},
     "output_type": "execute_result"
    }
   ],
   "source": [
    "describe = ddf.describe().compute()\n",
    "describe"
   ],
   "metadata": {
    "collapsed": false,
    "ExecuteTime": {
     "end_time": "2024-04-02T13:47:30.165503Z",
     "start_time": "2024-04-02T13:47:22.587432Z"
    }
   },
   "id": "ea4d2d4b0051e45",
   "execution_count": 31
  },
  {
   "cell_type": "code",
   "outputs": [],
   "source": [
    "ddf.date.astype('int64') "
   ],
   "metadata": {
    "collapsed": false
   },
   "id": "3dba8b8f39ae4f16"
  },
  {
   "cell_type": "code",
   "outputs": [
    {
     "ename": "ValueError",
     "evalue": "could not convert string to float: '2022-03-01'",
     "output_type": "error",
     "traceback": [
      "\u001B[0;31m---------------------------------------------------------------------------\u001B[0m",
      "\u001B[0;31mValueError\u001B[0m                                Traceback (most recent call last)",
      "Cell \u001B[0;32mIn[18], line 1\u001B[0m\n\u001B[0;32m----> 1\u001B[0m corr_matrix \u001B[38;5;241m=\u001B[39m ddf\u001B[38;5;241m.\u001B[39mcorr()\u001B[38;5;241m.\u001B[39mcompute()\n\u001B[1;32m      3\u001B[0m \u001B[38;5;28mprint\u001B[39m(corr_matrix)\n",
      "File \u001B[0;32m~/anaconda3/lib/python3.11/site-packages/dask/base.py:342\u001B[0m, in \u001B[0;36mDaskMethodsMixin.compute\u001B[0;34m(self, **kwargs)\u001B[0m\n\u001B[1;32m    318\u001B[0m \u001B[38;5;28;01mdef\u001B[39;00m \u001B[38;5;21mcompute\u001B[39m(\u001B[38;5;28mself\u001B[39m, \u001B[38;5;241m*\u001B[39m\u001B[38;5;241m*\u001B[39mkwargs):\n\u001B[1;32m    319\u001B[0m \u001B[38;5;250m    \u001B[39m\u001B[38;5;124;03m\"\"\"Compute this dask collection\u001B[39;00m\n\u001B[1;32m    320\u001B[0m \n\u001B[1;32m    321\u001B[0m \u001B[38;5;124;03m    This turns a lazy Dask collection into its in-memory equivalent.\u001B[39;00m\n\u001B[0;32m   (...)\u001B[0m\n\u001B[1;32m    340\u001B[0m \u001B[38;5;124;03m    dask.compute\u001B[39;00m\n\u001B[1;32m    341\u001B[0m \u001B[38;5;124;03m    \"\"\"\u001B[39;00m\n\u001B[0;32m--> 342\u001B[0m     (result,) \u001B[38;5;241m=\u001B[39m compute(\u001B[38;5;28mself\u001B[39m, traverse\u001B[38;5;241m=\u001B[39m\u001B[38;5;28;01mFalse\u001B[39;00m, \u001B[38;5;241m*\u001B[39m\u001B[38;5;241m*\u001B[39mkwargs)\n\u001B[1;32m    343\u001B[0m     \u001B[38;5;28;01mreturn\u001B[39;00m result\n",
      "File \u001B[0;32m~/anaconda3/lib/python3.11/site-packages/dask/base.py:628\u001B[0m, in \u001B[0;36mcompute\u001B[0;34m(traverse, optimize_graph, scheduler, get, *args, **kwargs)\u001B[0m\n\u001B[1;32m    625\u001B[0m     postcomputes\u001B[38;5;241m.\u001B[39mappend(x\u001B[38;5;241m.\u001B[39m__dask_postcompute__())\n\u001B[1;32m    627\u001B[0m \u001B[38;5;28;01mwith\u001B[39;00m shorten_traceback():\n\u001B[0;32m--> 628\u001B[0m     results \u001B[38;5;241m=\u001B[39m schedule(dsk, keys, \u001B[38;5;241m*\u001B[39m\u001B[38;5;241m*\u001B[39mkwargs)\n\u001B[1;32m    630\u001B[0m \u001B[38;5;28;01mreturn\u001B[39;00m repack([f(r, \u001B[38;5;241m*\u001B[39ma) \u001B[38;5;28;01mfor\u001B[39;00m r, (f, a) \u001B[38;5;129;01min\u001B[39;00m \u001B[38;5;28mzip\u001B[39m(results, postcomputes)])\n",
      "File \u001B[0;32m~/anaconda3/lib/python3.11/site-packages/pandas/core/arrays/arrow/array.py:1298\u001B[0m, in \u001B[0;36mArrowExtensionArray.to_numpy\u001B[0;34m(self, dtype, copy, na_value)\u001B[0m\n\u001B[1;32m   1296\u001B[0m result \u001B[38;5;241m=\u001B[39m \u001B[38;5;28mself\u001B[39m\u001B[38;5;241m.\u001B[39m_pa_array\u001B[38;5;241m.\u001B[39mto_numpy()\n\u001B[1;32m   1297\u001B[0m \u001B[38;5;28;01mif\u001B[39;00m dtype \u001B[38;5;129;01mis\u001B[39;00m \u001B[38;5;129;01mnot\u001B[39;00m \u001B[38;5;28;01mNone\u001B[39;00m:\n\u001B[0;32m-> 1298\u001B[0m     result \u001B[38;5;241m=\u001B[39m result\u001B[38;5;241m.\u001B[39mastype(dtype, copy\u001B[38;5;241m=\u001B[39m\u001B[38;5;28;01mFalse\u001B[39;00m)\n\u001B[1;32m   1299\u001B[0m \u001B[38;5;28;01mif\u001B[39;00m copy:\n\u001B[1;32m   1300\u001B[0m     result \u001B[38;5;241m=\u001B[39m result\u001B[38;5;241m.\u001B[39mcopy()\n",
      "\u001B[0;31mValueError\u001B[0m: could not convert string to float: '2022-03-01'"
     ]
    }
   ],
   "source": [
    "corr_matrix = ddf.corr().compute()\n",
    "\n",
    "print(corr_matrix)"
   ],
   "metadata": {
    "collapsed": false,
    "ExecuteTime": {
     "end_time": "2024-04-02T13:33:53.837852Z",
     "start_time": "2024-04-02T13:33:48.793940Z"
    }
   },
   "id": "3a81d839411083a6",
   "execution_count": 18
  },
  {
   "cell_type": "code",
   "outputs": [],
   "source": [
    "ddf1 = dd.read_csv('large_dataset1.csv')"
   ],
   "metadata": {
    "collapsed": false
   },
   "id": "6c2871af277a23f3"
  },
  {
   "cell_type": "code",
   "outputs": [],
   "source": [],
   "metadata": {
    "collapsed": false
   },
   "id": "31f2d2c6444c1f4"
  }
 ],
 "metadata": {
  "kernelspec": {
   "display_name": "Python 3",
   "language": "python",
   "name": "python3"
  },
  "language_info": {
   "codemirror_mode": {
    "name": "ipython",
    "version": 2
   },
   "file_extension": ".py",
   "mimetype": "text/x-python",
   "name": "python",
   "nbconvert_exporter": "python",
   "pygments_lexer": "ipython2",
   "version": "2.7.6"
  }
 },
 "nbformat": 4,
 "nbformat_minor": 5
}
