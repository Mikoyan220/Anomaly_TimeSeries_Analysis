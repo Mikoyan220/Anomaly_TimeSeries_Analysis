{
 "cells": [
  {
   "cell_type": "markdown",
   "metadata": {},
   "source": [
    "# Exploratory Data Analysis with db_connector\n",
    "\n",
    "This notebook demonstrates how to perform exploratory data analysis (EDA) before proceeding with data preprocessing tasks using the `db_connector.py` created earlier."
   ]
  },
  {
   "cell_type": "code",
   "execution_count": 1,
   "metadata": {
    "ExecuteTime": {
     "end_time": "2024-03-24T12:24:08.165803Z",
     "start_time": "2024-03-24T12:24:04.758429Z"
    }
   },
   "outputs": [],
   "source": [
    "# Import necessary libraries\n",
    "import pandas as pd\n",
    "import gc  # Python's garbage collection module\n",
    "from db_connector import DatabaseConnector\n",
    "from urllib.parse import quote_plus \n",
    "from multiprocessing import Pool\n",
    "import matplotlib.pyplot as plt\n",
    "import seaborn as sns"
   ]
  },
  {
   "cell_type": "code",
   "outputs": [],
   "source": [],
   "metadata": {
    "collapsed": false
   },
   "execution_count": null
  },
  {
   "cell_type": "code",
   "outputs": [],
   "source": [],
   "metadata": {
    "collapsed": false
   },
   "execution_count": null
  },
  {
   "cell_type": "markdown",
   "metadata": {},
   "source": [
    "## Database Connection\n",
    "\n",
    "Establish a connection to the database using the `DatabaseConnector` class."
   ]
  },
  {
   "cell_type": "code",
   "execution_count": 2,
   "metadata": {
    "ExecuteTime": {
     "end_time": "2024-03-24T12:24:13.153367Z",
     "start_time": "2024-03-24T12:24:13.063471Z"
    }
   },
   "outputs": [
    {
     "name": "stderr",
     "output_type": "stream",
     "text": [
      "2024-03-24 20:24:13,151 - INFO - Database connection successful (SQLAlchemy).\n"
     ]
    }
   ],
   "source": [
    "# Database configuration\n",
    "config = {\n",
    "        \"host\": \"localhost\",\n",
    "        \"user\": \"admin\", \n",
    "        \"password\": \"P@ssw0rd1\",  # URL encode the password\n",
    "        \"database\": \"default_schema\"\n",
    "}\n",
    "\n",
    "# Initialize DatabaseConnector with SQLAlchemy\n",
    "db_connector = DatabaseConnector(config, use_sqlalchemy=True)\n",
    "db_connector.connect()\n"
   ]
  },
  {
   "cell_type": "markdown",
   "metadata": {},
   "source": [
    "## Perform EDA\n",
    "\n",
    "Use the database connection to query data and perform exploratory data analysis."
   ]
  },
  {
   "cell_type": "code",
   "outputs": [
    {
     "ename": "ModuleNotFoundError",
     "evalue": "No module named 'mitosheet'",
     "output_type": "error",
     "traceback": [
      "\u001B[1;31m---------------------------------------------------------------------------\u001B[0m",
      "\u001B[1;31mModuleNotFoundError\u001B[0m                       Traceback (most recent call last)",
      "Cell \u001B[1;32mIn[3], line 1\u001B[0m\n\u001B[1;32m----> 1\u001B[0m \u001B[38;5;28;01mimport\u001B[39;00m \u001B[38;5;21;01mmitosheet\u001B[39;00m\n\u001B[0;32m      2\u001B[0m mitosheet\u001B[38;5;241m.\u001B[39msheet()\n",
      "\u001B[1;31mModuleNotFoundError\u001B[0m: No module named 'mitosheet'"
     ]
    }
   ],
   "source": [
    "import mitosheet\n",
    "mitosheet.sheet()"
   ],
   "metadata": {
    "collapsed": false,
    "ExecuteTime": {
     "end_time": "2024-03-13T17:12:16.617205Z",
     "start_time": "2024-03-13T17:12:15.954637Z"
    }
   },
   "execution_count": 3
  },
  {
   "cell_type": "code",
   "outputs": [],
   "source": [],
   "metadata": {
    "collapsed": false
   },
   "execution_count": null
  },
  {
   "cell_type": "code",
   "outputs": [],
   "source": [],
   "metadata": {
    "collapsed": false
   },
   "execution_count": null
  },
  {
   "cell_type": "code",
   "outputs": [
    {
     "name": "stderr",
     "output_type": "stream",
     "text": [
      "2024-02-21 12:45:33,655 - INFO - Database connection successful (SQLAlchemy).\n",
      "C:\\Users\\user\\anaconda3\\Lib\\site-packages\\seaborn\\_oldcore.py:1119: FutureWarning: use_inf_as_na option is deprecated and will be removed in a future version. Convert inf values to NaN before operating instead.\n",
      "  with pd.option_context('mode.use_inf_as_na', True):\n"
     ]
    },
    {
     "name": "stdout",
     "output_type": "stream",
     "text": [
      "Executed query for table: fuelprice\n",
      "Executed query for table: pricecatcher_combined\n",
      "Performing EDA on results from: fuelprice\n",
      "id             0\n",
      "series_type    0\n",
      "date           0\n",
      "ron95          0\n",
      "ron97          0\n",
      "diesel         0\n",
      "start_date     0\n",
      "end_date       0\n",
      "dtype: int64\n",
      "                id series_type        date       ron95       ron97  \\\n",
      "count   681.000000         681         681  681.000000  681.000000   \n",
      "unique         NaN           2         341         NaN         NaN   \n",
      "top            NaN       level  2020-10-31         NaN         NaN   \n",
      "freq           NaN         341           2         NaN         NaN   \n",
      "mean    341.000000         NaN         NaN    1.011292    1.416153   \n",
      "min       1.000000         NaN         NaN   -0.380000   -0.360000   \n",
      "25%     171.000000         NaN         NaN    0.000000    0.000000   \n",
      "50%     341.000000         NaN         NaN    1.250000    1.550000   \n",
      "75%     511.000000         NaN         NaN    2.050000    2.620000   \n",
      "max     681.000000         NaN         NaN    2.380000    4.840000   \n",
      "std     196.732051         NaN         NaN    1.020154    1.495230   \n",
      "\n",
      "            diesel                     start_date  \\\n",
      "count   681.000000                            681   \n",
      "unique         NaN                            NaN   \n",
      "top            NaN                            NaN   \n",
      "freq           NaN                            NaN   \n",
      "mean      1.049677  2020-10-06 07:40:58.149779712   \n",
      "min      -0.170000            2017-03-30 00:00:00   \n",
      "25%       0.000000            2019-03-09 00:00:00   \n",
      "50%       1.400000            2020-10-31 00:00:00   \n",
      "75%       2.150000            2022-06-16 00:00:00   \n",
      "max       2.340000            2024-02-01 00:00:00   \n",
      "std       1.055169                            NaN   \n",
      "\n",
      "                             end_date  \n",
      "count                             681  \n",
      "unique                            NaN  \n",
      "top                               NaN  \n",
      "freq                              NaN  \n",
      "mean    2020-10-13 07:40:57.149779968  \n",
      "min               2017-04-05 23:59:59  \n",
      "25%               2019-03-15 23:59:59  \n",
      "50%               2020-11-06 23:59:59  \n",
      "75%               2022-06-22 23:59:59  \n",
      "max               2024-02-07 23:59:59  \n",
      "std                               NaN  \n",
      "Performing EDA on results from: pricecatcher_combined\n",
      "date            0\n",
      "item_code       0\n",
      "item            0\n",
      "unit            0\n",
      "price           0\n",
      "premise         0\n",
      "address         0\n",
      "premise_type    0\n",
      "state           0\n",
      "district        0\n",
      "dtype: int64\n",
      "              date   item_code                            item  unit  \\\n",
      "count         1000  1000.00000                            1000  1000   \n",
      "unique           1         NaN                             358    89   \n",
      "top     2022-01-01         NaN  MACKAREL CAP AYAM (SOS TOMATO)   1kg   \n",
      "freq          1000         NaN                              11   296   \n",
      "mean           NaN  1074.04400                             NaN   NaN   \n",
      "std            NaN   685.88359                             NaN   NaN   \n",
      "min            NaN     1.00000                             NaN   NaN   \n",
      "25%            NaN   272.00000                             NaN   NaN   \n",
      "50%            NaN  1141.00000                             NaN   NaN   \n",
      "75%            NaN  1604.00000                             NaN   NaN   \n",
      "max            NaN  2010.00000                             NaN   NaN   \n",
      "\n",
      "              price           premise  \\\n",
      "count   1000.000000              1000   \n",
      "unique          NaN                 7   \n",
      "top             NaN  JUSCO AYER KEROH   \n",
      "freq            NaN               249   \n",
      "mean      11.030650               NaN   \n",
      "std       11.946867               NaN   \n",
      "min        0.500000               NaN   \n",
      "25%        3.900000               NaN   \n",
      "50%        6.500000               NaN   \n",
      "75%       13.500000               NaN   \n",
      "max       96.200000               NaN   \n",
      "\n",
      "                                                  address  premise_type  \\\n",
      "count                                                1000          1000   \n",
      "unique                                                  7             4   \n",
      "top     LOT 4991,MUKIM BUKIT BARU,75450 LEBUH AYER KER...  Kedai Runcit   \n",
      "freq                                                  249           440   \n",
      "mean                                                  NaN           NaN   \n",
      "std                                                   NaN           NaN   \n",
      "min                                                   NaN           NaN   \n",
      "25%                                                   NaN           NaN   \n",
      "50%                                                   NaN           NaN   \n",
      "75%                                                   NaN           NaN   \n",
      "max                                                   NaN           NaN   \n",
      "\n",
      "                 state      district  \n",
      "count             1000          1000  \n",
      "unique               4             4  \n",
      "top     W.P. Putrajaya  Wp Putrajaya  \n",
      "freq               351           351  \n",
      "mean               NaN           NaN  \n",
      "std                NaN           NaN  \n",
      "min                NaN           NaN  \n",
      "25%                NaN           NaN  \n",
      "50%                NaN           NaN  \n",
      "75%                NaN           NaN  \n",
      "max                NaN           NaN  \n"
     ]
    },
    {
     "data": {
      "text/plain": "<Figure size 640x480 with 1 Axes>",
      "image/png": "[encoded data removed]"
     },
     "metadata": {},
     "output_type": "display_data"
    },
    {
     "name": "stderr",
     "output_type": "stream",
     "text": [
      "2024-02-21 12:45:33,951 - INFO - Database connection closed.\n"
     ]
    }
   ],
   "source": [
    "import pandas as pd\n",
    "import matplotlib.pyplot as plt\n",
    "import seaborn as sns\n",
    "\n",
    "\n",
    "# Assuming the DatabaseConnector class and config are already defined as per your setup\n",
    "\n",
    "# Define the tables and sample size\n",
    "tables = {\n",
    "    \"fuelprice\": \"SELECT * FROM fuelprice LIMIT {sample_size};\",\n",
    "    \"pricecatcher_combined\": \"\"\"\n",
    "        SELECT pc.date, pc.item_code, li.item, li.unit, pc.price, \n",
    "               lp.premise, lp.address, lp.premise_type, lp.state, lp.district \n",
    "        FROM pricecatcher pc \n",
    "        LEFT JOIN lookup_item li ON li.item_code = pc.item_code \n",
    "        LEFT JOIN lookup_premise lp ON lp.premise_code = pc.premise_code LIMIT {sample_size};\n",
    "    \"\"\"\n",
    "}\n",
    "\n",
    "# Set the sample size\n",
    "sample_size = 1000\n",
    "\n",
    "# Initialize the DatabaseConnector\n",
    "db_connector = DatabaseConnector(config, use_sqlalchemy=True)  # Ensure this is set based on your use case\n",
    "db_connector.connect()\n",
    "\n",
    "# Dictionary to hold the results of each query\n",
    "query_results = {}\n",
    "\n",
    "# Execute each query and store the result in the dictionary\n",
    "for table_name, query in tables.items():\n",
    "    formatted_query = query.format(sample_size=sample_size)\n",
    "    # Adjust the connection object based on the connector used\n",
    "    connection_obj = db_connector.engine if db_connector.use_sqlalchemy else db_connector.connection\n",
    "    query_results[table_name] = pd.read_sql(formatted_query, con=connection_obj)\n",
    "    print(f\"Executed query for table: {table_name}\")\n",
    "\n",
    "# Perform EDA on the results\n",
    "for table_name, data in query_results.items():\n",
    "    print(f\"Performing EDA on results from: {table_name}\")\n",
    "    # Check for missing values\n",
    "    print(data.isnull().sum())\n",
    "    \n",
    "    # Descriptive statistics\n",
    "    print(data.describe(include='all'))  # 'include=all' to get statistics for all columns\n",
    "    \n",
    "    # For visualizations, you can use seaborn or matplotlib\n",
    "    # For example, if you want to visualize the distribution of prices in the pricecatcher_combined dataset:\n",
    "    if 'price' in data.columns:\n",
    "        sns.histplot(data['price'], kde=True)\n",
    "        plt.title(f'Distribution of Prices in {table_name}')\n",
    "        plt.show()\n",
    "\n",
    "# Close the database connection after EDA\n",
    "db_connector.close_connection()\n"
   ],
   "metadata": {
    "collapsed": false,
    "ExecuteTime": {
     "end_time": "2024-02-21T04:45:33.955710300Z",
     "start_time": "2024-02-21T04:45:33.651263400Z"
    }
   },
   "execution_count": 9
  },
  {
   "cell_type": "code",
   "outputs": [],
   "source": [
    "import math\n",
    "\n",
    "# Assuming the DatabaseConnector and necessary imports are already defined\n",
    "\n",
    "def process_table_in_batches(db_connector, table_name, batch_size):\n",
    "    # Determine the total number of rows in the table\n",
    "    total_rows_query = f\"SELECT COUNT(*) FROM {table_name}\"\n",
    "    total_rows = pd.read_sql(total_rows_query, db_connector.engine)['COUNT(*)'].iloc[0]\n",
    "    \n",
    "    # Calculate the number of batches needed\n",
    "    num_batches = math.ceil(total_rows / batch_size)\n",
    "    \n",
    "    for batch_num in range(num_batches):\n",
    "        offset = batch_size * batch_num\n",
    "        batch_query = f\"SELECT * FROM {table_name} LIMIT {batch_size} OFFSET {offset}\"\n",
    "        \n",
    "        # Use Dask or Pandas to process the batch\n",
    "        ddf = dd.read_sql_table(table_name, uri=db_connector.sqlalchemy_url(), index_col='id', divisions=(offset, offset+batch_size), npartitions=1)  # Adjust as needed\n",
    "        \n",
    "        # Perform batch EDA or processing here\n",
    "        # For example, compute summary statistics for the batch\n",
    "        print(f\"Batch {batch_num + 1}/{num_batches} stats for {table_name}:\")\n",
    "        print(ddf.describe().compute())  # Remember, Dask operations are lazy\n",
    "        \n",
    "    print(f\"Completed processing for table {table_name}\")\n",
    "\n",
    "# Example usage\n",
    "db_connector = DatabaseConnector(config, use_sqlalchemy=True)\n",
    "db_connector.connect()\n",
    "\n",
    "# Process each table in batches\n",
    "for table in table_names:\n",
    "    process_table_in_batches(db_connector, table, sample_size)\n",
    "\n",
    "db_connector.close_connection()\n"
   ],
   "metadata": {
    "collapsed": false
   },
   "execution_count": null
  },
  {
   "cell_type": "code",
   "outputs": [],
   "source": [
    "import math\n",
    "import pandas as pd\n",
    "import dask.dataframe as dd\n",
    "\n",
    "def process_table_in_batches(db_connector, table_name, batch_size):\n",
    "    # Determine the total number of rows in the table\n",
    "    total_rows_query = f\"SELECT COUNT(*) FROM {table_name}\"\n",
    "    total_rows = pd.read_sql(total_rows_query, db_connector.engine).iloc[0, 0]\n",
    "    \n",
    "    # Calculate the number of batches needed\n",
    "    num_batches = math.ceil(total_rows / batch_size)\n",
    "    \n",
    "    for batch_num in range(num_batches):\n",
    "        offset = batch_size * batch_num\n",
    "        # Assuming 'id' is the primary key and indexed\n",
    "        batch_query = f\"SELECT * FROM {table_name} LIMIT {batch_size} OFFSET {offset}\"\n",
    "        \n",
    "        # Adjust npartitions to better utilize Dask's parallel processing\n",
    "        npartitions = min(10, num_batches)  # Example adjustment, tweak based on your setup\n",
    "        ddf = dd.read_sql_table(table_name, uri=db_connector.sqlalchemy_url(), index_col='id', divisions=(offset, offset + batch_size), npartitions=npartitions)\n",
    "        \n",
    "        # Perform batch processing\n",
    "        print(f\"Batch {batch_num + 1}/{num_batches} stats for {table_name}:\")\n",
    "        print(ddf.describe().compute())  # Dask operations are lazy\n",
    "        \n",
    "    print(f\"Completed processing for table {table_name}\")\n"
   ],
   "metadata": {
    "collapsed": false
   },
   "execution_count": null
  },
  {
   "cell_type": "code",
   "outputs": [
    {
     "name": "stderr",
     "output_type": "stream",
     "text": [
      "2024-02-15 12:21:04,872 - INFO - Database connection successful (SQLAlchemy).\n"
     ]
    },
    {
     "name": "stdout",
     "output_type": "stream",
     "text": [
      "Sampled 10000 rows from table fuelprice\n"
     ]
    },
    {
     "name": "stderr",
     "output_type": "stream",
     "text": [
      "2024-02-15 12:22:30,452 - INFO - Database connection closed.\n"
     ]
    },
    {
     "name": "stdout",
     "output_type": "stream",
     "text": [
      "Sampled 10000 rows from table pricecatcher\n",
      "Sampled 10000 rows from table lookup_item\n",
      "Sampled 10000 rows from table lookup_premise\n",
      "Performing EDA on table: fuelprice\n",
      "Check for missing values on table: fuelprice\n",
      "id             0\n",
      "series_type    0\n",
      "date           0\n",
      "ron95          0\n",
      "ron97          0\n",
      "diesel         0\n",
      "start_date     0\n",
      "end_date       0\n",
      "dtype: int64\n",
      "Check for Descriptive statistics on table: fuelprice\n",
      "               id       ron95       ron97      diesel  \\\n",
      "count  681.000000  681.000000  681.000000  681.000000   \n",
      "mean   341.000000    1.011292    1.416153    1.049677   \n",
      "min      1.000000   -0.380000   -0.360000   -0.170000   \n",
      "25%    171.000000    0.000000    0.000000    0.000000   \n",
      "50%    341.000000    1.250000    1.550000    1.400000   \n",
      "75%    511.000000    2.050000    2.620000    2.150000   \n",
      "max    681.000000    2.380000    4.840000    2.340000   \n",
      "std    196.732051    1.020154    1.495230    1.055169   \n",
      "\n",
      "                          start_date                       end_date  \n",
      "count                            681                            681  \n",
      "mean   2020-10-06 07:40:58.149779712  2020-10-13 07:40:57.149779968  \n",
      "min              2017-03-30 00:00:00            2017-04-05 23:59:59  \n",
      "25%              2019-03-09 00:00:00            2019-03-15 23:59:59  \n",
      "50%              2020-10-31 00:00:00            2020-11-06 23:59:59  \n",
      "75%              2022-06-16 00:00:00            2022-06-22 23:59:59  \n",
      "max              2024-02-01 00:00:00            2024-02-07 23:59:59  \n",
      "std                              NaN                            NaN  \n",
      "Performing EDA on table: pricecatcher\n",
      "Check for missing values on table: pricecatcher\n",
      "date            0\n",
      "premise_code    0\n",
      "item_code       0\n",
      "price           0\n",
      "dtype: int64\n",
      "Check for Descriptive statistics on table: pricecatcher\n",
      "       premise_code     item_code         price\n",
      "count  10000.000000  10000.000000  10000.000000\n",
      "mean   11357.170000   1011.367400     13.143100\n",
      "std     7045.717895    719.858069     12.340022\n",
      "min       -1.000000      1.000000      0.200000\n",
      "25%     3909.000000    124.000000      4.990000\n",
      "50%    12024.000000   1136.000000      8.990000\n",
      "75%    17854.000000   1573.000000     16.000000\n",
      "max    20888.000000   2020.000000    190.000000\n",
      "Performing EDA on table: lookup_item\n",
      "Check for missing values on table: lookup_item\n",
      "item_code        0\n",
      "item             0\n",
      "unit             0\n",
      "item_group       0\n",
      "item_category    0\n",
      "dtype: int64\n",
      "Check for Descriptive statistics on table: lookup_item\n",
      "         item_code\n",
      "count   757.000000\n",
      "mean   1299.593131\n",
      "std     615.208435\n",
      "min      -1.000000\n",
      "25%    1097.000000\n",
      "50%    1484.000000\n",
      "75%    1778.000000\n",
      "max    2020.000000\n",
      "Performing EDA on table: lookup_premise\n",
      "Check for missing values on table: lookup_premise\n",
      "premise_code    0\n",
      "premise         0\n",
      "address         0\n",
      "premise_type    0\n",
      "state           0\n",
      "district        0\n",
      "dtype: int64\n",
      "Check for Descriptive statistics on table: lookup_premise\n",
      "       premise_code\n",
      "count   2710.000000\n",
      "mean   12622.454613\n",
      "std     6854.097171\n",
      "min       -1.000000\n",
      "25%     5231.000000\n",
      "50%    16159.500000\n",
      "75%    18116.750000\n",
      "max    20903.000000\n"
     ]
    }
   ],
   "source": [
    "# Define the tables and sample size\n",
    "table_name = ['fuelprice', 'pricecatcher', 'lookup_item', 'lookup_premise']\n",
    "sample_size = 10000\n",
    "\n",
    "# Function to sample data from a specified table\n",
    "def sample_data(db_connector, table_name, sample_size):\n",
    "    query = f\"SELECT * FROM {table_name} ORDER BY RAND() LIMIT {sample_size}\"\n",
    "    return pd.read_sql(query, db_connector.engine)\n",
    "\n",
    "# Assuming the DatabaseConnector class and config are already defined as per your setup\n",
    "db_connector = DatabaseConnector(config, use_sqlalchemy=True)\n",
    "db_connector.connect()\n",
    "\n",
    "# Dictionary to hold sampled data from each table\n",
    "sampled_data = {}\n",
    "\n",
    "# Iterate over each table and sample the data\n",
    "for table in table_name:\n",
    "    sampled_data[table] = sample_data(db_connector, table, sample_size)\n",
    "    print(f\"Sampled {sample_size} rows from table {table}\")\n",
    "\n",
    "# Now you have a dictionary with sampled data for each table\n",
    "# You can perform EDA on each one like so:\n",
    "for table, data in sampled_data.items():\n",
    "    print(f\"Performing EDA on table: {table}\")\n",
    "    # Check for missing values\n",
    "    print(f\"Check for missing values on table: {table}\")\n",
    "    print(data.isnull().sum())\n",
    "    \n",
    "    # Descriptive statistics\n",
    "    print(f\"Check for Descriptive statistics on table: {table}\")\n",
    "    print(data.describe())\n",
    "    \n",
    "# Close the database connection after EDA\n",
    "db_connector.close_connection()"
   ],
   "metadata": {
    "collapsed": false,
    "ExecuteTime": {
     "end_time": "2024-02-15T04:22:30.457062900Z",
     "start_time": "2024-02-15T04:21:04.870407200Z"
    }
   },
   "execution_count": 10
  },
  {
   "cell_type": "code",
   "outputs": [
    {
     "name": "stderr",
     "output_type": "stream",
     "text": [
      "2024-02-15 12:12:53,644 - INFO - Database connection closed.\n"
     ]
    }
   ],
   "source": [
    "# Close the database connection after EDA\n",
    "db_connector.close_connection()"
   ],
   "metadata": {
    "collapsed": false,
    "ExecuteTime": {
     "end_time": "2024-02-15T04:12:53.650427700Z",
     "start_time": "2024-02-15T04:12:53.644892100Z"
    }
   },
   "execution_count": 8
  },
  {
   "cell_type": "code",
   "outputs": [],
   "source": [],
   "metadata": {
    "collapsed": false
   },
   "execution_count": null
  },
  {
   "cell_type": "code",
   "outputs": [],
   "source": [
    "db_connector = DatabaseConnector(config, use_sqlalchemy=True)\n",
    "db_connector.connect()\n",
    "\n",
    "# Query to fetch the data\n",
    "query = \"SELECT * FROM fuelprice\"\n",
    "fuelprice = pd.read_sql(query, db_connector.engine)\n",
    "\n",
    "# Close the database connection after EDA\n",
    "db_connector.close_connection()"
   ],
   "metadata": {
    "collapsed": false
   },
   "execution_count": null
  },
  {
   "cell_type": "code",
   "outputs": [],
   "source": [],
   "metadata": {
    "collapsed": false
   },
   "execution_count": null
  },
  {
   "cell_type": "code",
   "outputs": [],
   "source": [],
   "metadata": {
    "collapsed": false
   },
   "execution_count": null
  },
  {
   "cell_type": "code",
   "outputs": [],
   "source": [],
   "metadata": {
    "collapsed": false
   },
   "execution_count": null
  },
  {
   "cell_type": "code",
   "execution_count": 8,
   "metadata": {
    "ExecuteTime": {
     "end_time": "2024-02-13T11:55:02.994744800Z",
     "start_time": "2024-02-13T11:55:02.961866700Z"
    }
   },
   "outputs": [
    {
     "data": {
      "text/plain": "         date  premise_code  item_code  price\n0  2022-01-01             2          1    9.1\n1  2022-01-01             2          9   36.0\n2  2022-01-01             2         14   24.0\n3  2022-01-01             2         16    4.3\n4  2022-01-01             2         18    4.5",
      "text/html": "<div>\n<style scoped>\n    .dataframe tbody tr th:only-of-type {\n        vertical-align: middle;\n    }\n\n    .dataframe tbody tr th {\n        vertical-align: top;\n    }\n\n    .dataframe thead th {\n        text-align: right;\n    }\n</style>\n<table border=\"1\" class=\"dataframe\">\n  <thead>\n    <tr style=\"text-align: right;\">\n      <th></th>\n      <th>date</th>\n      <th>premise_code</th>\n      <th>item_code</th>\n      <th>price</th>\n    </tr>\n  </thead>\n  <tbody>\n    <tr>\n      <th>0</th>\n      <td>2022-01-01</td>\n      <td>2</td>\n      <td>1</td>\n      <td>9.1</td>\n    </tr>\n    <tr>\n      <th>1</th>\n      <td>2022-01-01</td>\n      <td>2</td>\n      <td>9</td>\n      <td>36.0</td>\n    </tr>\n    <tr>\n      <th>2</th>\n      <td>2022-01-01</td>\n      <td>2</td>\n      <td>14</td>\n      <td>24.0</td>\n    </tr>\n    <tr>\n      <th>3</th>\n      <td>2022-01-01</td>\n      <td>2</td>\n      <td>16</td>\n      <td>4.3</td>\n    </tr>\n    <tr>\n      <th>4</th>\n      <td>2022-01-01</td>\n      <td>2</td>\n      <td>18</td>\n      <td>4.5</td>\n    </tr>\n  </tbody>\n</table>\n</div>"
     },
     "execution_count": 8,
     "metadata": {},
     "output_type": "execute_result"
    }
   ],
   "source": [
    "# Example query to fetch data\n",
    "query = \"SELECT * FROM pricecatcher LIMIT 50\"\n",
    "data = pd.read_sql_query(query, db_connector.connection)\n",
    "\n",
    "# Display the first few rows of the dataframe\n",
    "data.head()\n"
   ]
  },
  {
   "cell_type": "markdown",
   "source": [
    "## Exploratory Data Analytics\n",
    "\n",
    "Creation of fetch_data Function for Multiprocessing"
   ],
   "metadata": {
    "collapsed": false
   }
  },
  {
   "cell_type": "code",
   "outputs": [],
   "source": [
    "def fetch_data(args):\n",
    "    table, query = args\n",
    "    # Assuming you have a way to establish a connection inside this function. \n",
    "    # This might involve using a database URI or connection string that's globally available or passed as part of the query.\n",
    "    db_connector = DatabaseConnector(config, use_sqlalchemy=True)  # Assuming config is defined globally or passed correctly\n",
    "    db_connector.connect()\n",
    "    data = pd.read_sql_query(query, db_connector.connection)\n",
    "    db_connector.close_connection()\n",
    "    return table, data\n"
   ],
   "metadata": {
    "collapsed": false
   },
   "execution_count": null
  },
  {
   "cell_type": "code",
   "outputs": [
    {
     "name": "stderr",
     "output_type": "stream",
     "text": [
      "2024-02-13 18:04:59,131 - INFO - Database connection successful (SQLAlchemy).\n",
      "2024-02-13 18:04:59,140 - INFO - Database connection closed.\n",
      "2024-02-13 18:04:59,209 - INFO - Database connection successful (SQLAlchemy).\n",
      "2024-02-13 18:04:59,213 - INFO - Database connection closed.\n",
      "2024-02-13 18:04:59,273 - INFO - Database connection successful (SQLAlchemy).\n"
     ]
    },
    {
     "name": "stdout",
     "output_type": "stream",
     "text": [
      "fuelprice: Batch processed. Total records fetched: 681\n"
     ]
    },
    {
     "name": "stderr",
     "output_type": "stream",
     "text": [
      "2024-02-13 18:05:18,117 - INFO - Database connection closed.\n",
      "2024-02-13 18:05:18,166 - INFO - Database connection successful (SQLAlchemy).\n"
     ]
    },
    {
     "name": "stdout",
     "output_type": "stream",
     "text": [
      "pricecatcher: Batch processed. Total records fetched: 1500000\n"
     ]
    },
    {
     "name": "stderr",
     "output_type": "stream",
     "text": [
      "2024-02-13 18:05:35,998 - INFO - Database connection closed.\n",
      "2024-02-13 18:05:36,051 - INFO - Database connection successful (SQLAlchemy).\n"
     ]
    },
    {
     "name": "stdout",
     "output_type": "stream",
     "text": [
      "pricecatcher: Batch processed. Total records fetched: 3000000\n"
     ]
    },
    {
     "name": "stderr",
     "output_type": "stream",
     "text": [
      "2024-02-13 18:05:56,617 - INFO - Database connection closed.\n",
      "2024-02-13 18:05:56,660 - INFO - Database connection successful (SQLAlchemy).\n"
     ]
    },
    {
     "name": "stdout",
     "output_type": "stream",
     "text": [
      "pricecatcher: Batch processed. Total records fetched: 4500000\n"
     ]
    },
    {
     "name": "stderr",
     "output_type": "stream",
     "text": [
      "2024-02-13 18:06:36,224 - INFO - Database connection closed.\n",
      "2024-02-13 18:06:36,290 - INFO - Database connection successful (SQLAlchemy).\n"
     ]
    },
    {
     "name": "stdout",
     "output_type": "stream",
     "text": [
      "pricecatcher: Batch processed. Total records fetched: 6000000\n"
     ]
    },
    {
     "name": "stderr",
     "output_type": "stream",
     "text": [
      "2024-02-13 18:07:12,558 - INFO - Database connection closed.\n",
      "2024-02-13 18:07:12,621 - INFO - Database connection successful (SQLAlchemy).\n"
     ]
    },
    {
     "name": "stdout",
     "output_type": "stream",
     "text": [
      "pricecatcher: Batch processed. Total records fetched: 7500000\n"
     ]
    },
    {
     "name": "stderr",
     "output_type": "stream",
     "text": [
      "2024-02-13 18:07:45,368 - INFO - Database connection closed.\n",
      "2024-02-13 18:07:45,430 - INFO - Database connection successful (SQLAlchemy).\n"
     ]
    },
    {
     "name": "stdout",
     "output_type": "stream",
     "text": [
      "pricecatcher: Batch processed. Total records fetched: 9000000\n"
     ]
    },
    {
     "name": "stderr",
     "output_type": "stream",
     "text": [
      "2024-02-13 18:08:36,045 - INFO - Database connection closed.\n",
      "2024-02-13 18:08:36,092 - INFO - Database connection successful (SQLAlchemy).\n"
     ]
    },
    {
     "name": "stdout",
     "output_type": "stream",
     "text": [
      "pricecatcher: Batch processed. Total records fetched: 10500000\n"
     ]
    },
    {
     "name": "stderr",
     "output_type": "stream",
     "text": [
      "2024-02-13 18:09:29,714 - INFO - Database connection closed.\n",
      "2024-02-13 18:09:29,777 - INFO - Database connection successful (SQLAlchemy).\n"
     ]
    },
    {
     "name": "stdout",
     "output_type": "stream",
     "text": [
      "pricecatcher: Batch processed. Total records fetched: 12000000\n"
     ]
    },
    {
     "name": "stderr",
     "output_type": "stream",
     "text": [
      "2024-02-13 18:10:23,198 - INFO - Database connection closed.\n",
      "2024-02-13 18:10:23,264 - INFO - Database connection successful (SQLAlchemy).\n"
     ]
    },
    {
     "name": "stdout",
     "output_type": "stream",
     "text": [
      "pricecatcher: Batch processed. Total records fetched: 13500000\n"
     ]
    },
    {
     "name": "stderr",
     "output_type": "stream",
     "text": [
      "2024-02-13 18:11:08,090 - INFO - Database connection closed.\n",
      "2024-02-13 18:11:08,131 - INFO - Database connection successful (SQLAlchemy).\n"
     ]
    },
    {
     "name": "stdout",
     "output_type": "stream",
     "text": [
      "pricecatcher: Batch processed. Total records fetched: 15000000\n"
     ]
    },
    {
     "name": "stderr",
     "output_type": "stream",
     "text": [
      "2024-02-13 18:12:11,735 - INFO - Database connection closed.\n",
      "2024-02-13 18:12:11,798 - INFO - Database connection successful (SQLAlchemy).\n"
     ]
    },
    {
     "name": "stdout",
     "output_type": "stream",
     "text": [
      "pricecatcher: Batch processed. Total records fetched: 16500000\n"
     ]
    },
    {
     "name": "stderr",
     "output_type": "stream",
     "text": [
      "2024-02-13 18:13:19,842 - INFO - Database connection closed.\n",
      "2024-02-13 18:13:19,889 - INFO - Database connection successful (SQLAlchemy).\n"
     ]
    },
    {
     "name": "stdout",
     "output_type": "stream",
     "text": [
      "pricecatcher: Batch processed. Total records fetched: 18000000\n"
     ]
    },
    {
     "name": "stderr",
     "output_type": "stream",
     "text": [
      "2024-02-13 18:14:31,985 - INFO - Database connection closed.\n",
      "2024-02-13 18:14:32,032 - INFO - Database connection successful (SQLAlchemy).\n"
     ]
    },
    {
     "name": "stdout",
     "output_type": "stream",
     "text": [
      "pricecatcher: Batch processed. Total records fetched: 19500000\n"
     ]
    },
    {
     "name": "stderr",
     "output_type": "stream",
     "text": [
      "2024-02-13 18:15:44,894 - INFO - Database connection closed.\n",
      "2024-02-13 18:15:44,959 - INFO - Database connection successful (SQLAlchemy).\n"
     ]
    },
    {
     "name": "stdout",
     "output_type": "stream",
     "text": [
      "pricecatcher: Batch processed. Total records fetched: 21000000\n"
     ]
    },
    {
     "name": "stderr",
     "output_type": "stream",
     "text": [
      "2024-02-13 18:17:04,195 - INFO - Database connection closed.\n",
      "2024-02-13 18:17:04,244 - INFO - Database connection successful (SQLAlchemy).\n"
     ]
    },
    {
     "name": "stdout",
     "output_type": "stream",
     "text": [
      "pricecatcher: Batch processed. Total records fetched: 22500000\n"
     ]
    },
    {
     "name": "stderr",
     "output_type": "stream",
     "text": [
      "2024-02-13 18:18:14,081 - INFO - Database connection closed.\n",
      "2024-02-13 18:18:14,129 - INFO - Database connection successful (SQLAlchemy).\n"
     ]
    },
    {
     "name": "stdout",
     "output_type": "stream",
     "text": [
      "pricecatcher: Batch processed. Total records fetched: 24000000\n"
     ]
    },
    {
     "name": "stderr",
     "output_type": "stream",
     "text": [
      "2024-02-13 18:19:25,177 - INFO - Database connection closed.\n",
      "2024-02-13 18:19:25,223 - INFO - Database connection successful (SQLAlchemy).\n"
     ]
    },
    {
     "name": "stdout",
     "output_type": "stream",
     "text": [
      "pricecatcher: Batch processed. Total records fetched: 25500000\n"
     ]
    },
    {
     "name": "stderr",
     "output_type": "stream",
     "text": [
      "2024-02-13 18:20:45,352 - INFO - Database connection closed.\n",
      "2024-02-13 18:20:45,420 - INFO - Database connection successful (SQLAlchemy).\n"
     ]
    },
    {
     "name": "stdout",
     "output_type": "stream",
     "text": [
      "pricecatcher: Batch processed. Total records fetched: 27000000\n"
     ]
    },
    {
     "name": "stderr",
     "output_type": "stream",
     "text": [
      "2024-02-13 18:22:00,594 - INFO - Database connection closed.\n",
      "2024-02-13 18:22:00,657 - INFO - Database connection successful (SQLAlchemy).\n"
     ]
    },
    {
     "name": "stdout",
     "output_type": "stream",
     "text": [
      "pricecatcher: Batch processed. Total records fetched: 28500000\n"
     ]
    },
    {
     "name": "stderr",
     "output_type": "stream",
     "text": [
      "2024-02-13 18:23:22,786 - INFO - Database connection closed.\n",
      "2024-02-13 18:23:22,830 - INFO - Database connection successful (SQLAlchemy).\n"
     ]
    },
    {
     "name": "stdout",
     "output_type": "stream",
     "text": [
      "pricecatcher: Batch processed. Total records fetched: 30000000\n"
     ]
    },
    {
     "name": "stderr",
     "output_type": "stream",
     "text": [
      "2024-02-13 18:25:02,920 - INFO - Database connection closed.\n",
      "2024-02-13 18:25:02,983 - INFO - Database connection successful (SQLAlchemy).\n"
     ]
    },
    {
     "name": "stdout",
     "output_type": "stream",
     "text": [
      "pricecatcher: Batch processed. Total records fetched: 31500000\n"
     ]
    },
    {
     "name": "stderr",
     "output_type": "stream",
     "text": [
      "2024-02-13 18:26:32,178 - INFO - Database connection closed.\n",
      "2024-02-13 18:26:32,232 - INFO - Database connection successful (SQLAlchemy).\n"
     ]
    },
    {
     "name": "stdout",
     "output_type": "stream",
     "text": [
      "pricecatcher: Batch processed. Total records fetched: 33000000\n"
     ]
    },
    {
     "name": "stderr",
     "output_type": "stream",
     "text": [
      "2024-02-13 18:28:02,822 - INFO - Database connection closed.\n",
      "2024-02-13 18:28:02,884 - INFO - Database connection successful (SQLAlchemy).\n"
     ]
    },
    {
     "name": "stdout",
     "output_type": "stream",
     "text": [
      "pricecatcher: Batch processed. Total records fetched: 34500000\n"
     ]
    },
    {
     "name": "stderr",
     "output_type": "stream",
     "text": [
      "2024-02-13 18:29:37,893 - INFO - Database connection closed.\n",
      "2024-02-13 18:29:37,947 - INFO - Database connection successful (SQLAlchemy).\n"
     ]
    },
    {
     "name": "stdout",
     "output_type": "stream",
     "text": [
      "pricecatcher: Batch processed. Total records fetched: 36000000\n"
     ]
    },
    {
     "name": "stderr",
     "output_type": "stream",
     "text": [
      "2024-02-13 18:31:18,768 - INFO - Database connection closed.\n",
      "2024-02-13 18:31:18,845 - INFO - Database connection successful (SQLAlchemy).\n"
     ]
    },
    {
     "name": "stdout",
     "output_type": "stream",
     "text": [
      "pricecatcher: Batch processed. Total records fetched: 37500000\n"
     ]
    },
    {
     "name": "stderr",
     "output_type": "stream",
     "text": [
      "2024-02-13 18:33:02,999 - INFO - Database connection closed.\n",
      "2024-02-13 18:33:03,062 - INFO - Database connection successful (SQLAlchemy).\n"
     ]
    },
    {
     "name": "stdout",
     "output_type": "stream",
     "text": [
      "pricecatcher: Batch processed. Total records fetched: 39000000\n"
     ]
    },
    {
     "name": "stderr",
     "output_type": "stream",
     "text": [
      "2024-02-13 18:34:46,464 - INFO - Database connection closed.\n",
      "2024-02-13 18:34:46,528 - INFO - Database connection successful (SQLAlchemy).\n"
     ]
    },
    {
     "name": "stdout",
     "output_type": "stream",
     "text": [
      "pricecatcher: Batch processed. Total records fetched: 40500000\n"
     ]
    },
    {
     "name": "stderr",
     "output_type": "stream",
     "text": [
      "2024-02-13 18:36:34,995 - INFO - Database connection closed.\n",
      "2024-02-13 18:36:35,042 - INFO - Database connection successful (SQLAlchemy).\n"
     ]
    },
    {
     "name": "stdout",
     "output_type": "stream",
     "text": [
      "pricecatcher: Batch processed. Total records fetched: 42000000\n"
     ]
    },
    {
     "name": "stderr",
     "output_type": "stream",
     "text": [
      "2024-02-13 18:38:29,130 - INFO - Database connection closed.\n",
      "2024-02-13 18:38:29,200 - INFO - Database connection successful (SQLAlchemy).\n"
     ]
    },
    {
     "name": "stdout",
     "output_type": "stream",
     "text": [
      "pricecatcher: Batch processed. Total records fetched: 43500000\n"
     ]
    },
    {
     "name": "stderr",
     "output_type": "stream",
     "text": [
      "2024-02-13 18:40:25,044 - INFO - Database connection closed.\n",
      "2024-02-13 18:40:25,095 - INFO - Database connection successful (SQLAlchemy).\n"
     ]
    },
    {
     "name": "stdout",
     "output_type": "stream",
     "text": [
      "pricecatcher: Batch processed. Total records fetched: 45000000\n"
     ]
    },
    {
     "name": "stderr",
     "output_type": "stream",
     "text": [
      "2024-02-13 18:42:25,787 - INFO - Database connection closed.\n",
      "2024-02-13 18:42:25,860 - INFO - Database connection successful (SQLAlchemy).\n"
     ]
    },
    {
     "name": "stdout",
     "output_type": "stream",
     "text": [
      "pricecatcher: Batch processed. Total records fetched: 46500000\n"
     ]
    },
    {
     "name": "stderr",
     "output_type": "stream",
     "text": [
      "2024-02-13 18:44:31,624 - INFO - Database connection closed.\n",
      "2024-02-13 18:44:31,671 - INFO - Database connection successful (SQLAlchemy).\n"
     ]
    },
    {
     "name": "stdout",
     "output_type": "stream",
     "text": [
      "pricecatcher: Batch processed. Total records fetched: 48000000\n"
     ]
    },
    {
     "name": "stderr",
     "output_type": "stream",
     "text": [
      "2024-02-13 18:46:40,809 - INFO - Database connection closed.\n",
      "2024-02-13 18:46:40,855 - INFO - Database connection successful (SQLAlchemy).\n"
     ]
    },
    {
     "name": "stdout",
     "output_type": "stream",
     "text": [
      "pricecatcher: Batch processed. Total records fetched: 49500000\n"
     ]
    },
    {
     "name": "stderr",
     "output_type": "stream",
     "text": [
      "2024-02-13 18:48:46,146 - INFO - Database connection closed.\n",
      "2024-02-13 18:48:46,191 - INFO - Database connection successful (SQLAlchemy).\n"
     ]
    },
    {
     "name": "stdout",
     "output_type": "stream",
     "text": [
      "pricecatcher: Batch processed. Total records fetched: 50666976\n"
     ]
    },
    {
     "name": "stderr",
     "output_type": "stream",
     "text": [
      "2024-02-13 18:50:41,362 - INFO - Database connection closed.\n"
     ]
    }
   ],
   "source": [
    "import pandas as pd\n",
    "import gc  # Python's garbage collection module\n",
    "\n",
    "def fetch_data(args, batch_size, offset):\n",
    "    table, base_query = args\n",
    "    # Initialize db_connector outside the try block to access it in finally\n",
    "    db_connector = None\n",
    "    try:\n",
    "        # Assuming DatabaseConnector and config are defined and handle connection setup using SQLAlchemy or similar\n",
    "        db_connector = DatabaseConnector(config, use_sqlalchemy=True)\n",
    "        db_connector.connect()\n",
    "        \n",
    "        # Modify the query to include LIMIT and OFFSET for batch processing\n",
    "        batch_query = f\"{base_query} LIMIT {batch_size} OFFSET {offset}\"\n",
    "        \n",
    "        # Execute the batch query and fetch data into a pandas DataFrame\n",
    "        data = pd.read_sql_query(batch_query, db_connector.connection)\n",
    "        \n",
    "        # Optionally optimize DataFrame memory usage here\n",
    "        \n",
    "        return table, data\n",
    "    finally:\n",
    "        # Ensure the database connection is closed even if an error occurs\n",
    "        if db_connector:\n",
    "            db_connector.close_connection()\n",
    "        gc.collect()  # Optional: Trigger garbage collection after each batch\n",
    "\n",
    "# Example usage\n",
    "if __name__ == \"__main__\":\n",
    "    queries = {\n",
    "        \"fuelprice\": \"SELECT * FROM fuelprice\",\n",
    "        \"pricecatcher\": \"SELECT pc.date, pc.item_code,li.item,li.unit,pc.price, lp.premise, lp.address, lp.premise_type, lp.state, lp.district FROM pricecatcher pc left join lookup_item li on li.item_code = pc.item_code left join lookup_premise lp on lp.premise_code = pc.premise_code\"\n",
    "    }\n",
    "    \n",
    "    batch_size = 1500000  # Adjusted batch size for memory efficiency\n",
    "    \n",
    "    all_data = {}  # Dictionary to store combined data frames of all batches\n",
    "    \n",
    "    for table, query in queries.items():\n",
    "        total_records_fetched = 0\n",
    "        offset = 0\n",
    "        table_data = []  # List to store data frames of all batches for this table\n",
    "        \n",
    "        while True:\n",
    "            _, batch_data = fetch_data((table, query), batch_size, offset)\n",
    "            if batch_data.empty:\n",
    "                break  # No more data to fetch\n",
    "            table_data.append(batch_data)\n",
    "            total_records_fetched += len(batch_data)\n",
    "            offset += batch_size\n",
    "            print(f\"{table}: Batch processed. Total records fetched: {total_records_fetched}\")\n",
    "            \n",
    "        # Combine all DataFrames for this table, if needed\n",
    "        if table_data:  # Check if there's any data to avoid errors\n",
    "            all_data[table] = pd.concat(table_data, ignore_index=True)\n"
   ],
   "metadata": {
    "collapsed": false,
    "ExecuteTime": {
     "end_time": "2024-02-13T10:54:08.588371600Z",
     "start_time": "2024-02-13T10:04:59.127631600Z"
    }
   },
   "execution_count": 4
  },
  {
   "cell_type": "code",
   "outputs": [
    {
     "ename": "AttributeError",
     "evalue": "'list' object has no attribute 'head'",
     "output_type": "error",
     "traceback": [
      "\u001B[1;31m---------------------------------------------------------------------------\u001B[0m",
      "\u001B[1;31mAttributeError\u001B[0m                            Traceback (most recent call last)",
      "Cell \u001B[1;32mIn[7], line 1\u001B[0m\n\u001B[1;32m----> 1\u001B[0m table_data\u001B[38;5;241m.\u001B[39mhead()\n",
      "\u001B[1;31mAttributeError\u001B[0m: 'list' object has no attribute 'head'"
     ]
    }
   ],
   "source": [
    "table_data.head()"
   ],
   "metadata": {
    "collapsed": false,
    "ExecuteTime": {
     "end_time": "2024-02-13T11:07:13.178904100Z",
     "start_time": "2024-02-13T11:07:13.168171400Z"
    }
   },
   "execution_count": 7
  },
  {
   "cell_type": "code",
   "outputs": [],
   "source": [],
   "metadata": {
    "collapsed": false
   },
   "execution_count": null
  },
  {
   "cell_type": "code",
   "outputs": [],
   "source": [],
   "metadata": {
    "collapsed": false
   },
   "execution_count": null
  },
  {
   "cell_type": "code",
   "outputs": [],
   "source": [],
   "metadata": {
    "collapsed": false
   },
   "execution_count": null
  },
  {
   "cell_type": "code",
   "outputs": [],
   "source": [],
   "metadata": {
    "collapsed": false
   },
   "execution_count": null
  },
  {
   "cell_type": "code",
   "outputs": [],
   "source": [
    "queries = {\n",
    "    \"fuelprice\": \"SELECT * FROM fuelprice\",\n",
    "    \"pricecatcher\": \"SELECT  pc.date, pc.item_code,li.item,li.unit,pc.price, lp.premise, lp.address, lp.premise_type, lp.state, lp.district FROM pricecatcher pc left join lookup_item li on li.item_code = pc.item_code left join lookup_premise lp on lp.premise_code = pc.premise_code limit 1000;\"\n",
    "}\n",
    "\n",
    "# Prepare the arguments for starmap\n",
    "args = [(table, query) for table, query in queries.items()]\n",
    "\n",
    "# Execute queries in parallel\n",
    "with Pool(processes=len(queries)) as pool:\n",
    "    results = pool.map(fetch_data, args)\n",
    "\n",
    "# Convert list of tuples back into a dictionary {table_name: dataframe}\n",
    "dataframes = {table: df for table, df in results}\n"
   ],
   "metadata": {
    "collapsed": false
   },
   "execution_count": null
  },
  {
   "cell_type": "code",
   "outputs": [],
   "source": [],
   "metadata": {
    "collapsed": false
   },
   "execution_count": null
  },
  {
   "cell_type": "code",
   "outputs": [],
   "source": [],
   "metadata": {
    "collapsed": false
   },
   "execution_count": null
  },
  {
   "cell_type": "code",
   "outputs": [],
   "source": [],
   "metadata": {
    "collapsed": false
   },
   "execution_count": null
  },
  {
   "cell_type": "code",
   "outputs": [],
   "source": [],
   "metadata": {
    "collapsed": false
   },
   "execution_count": null
  },
  {
   "cell_type": "markdown",
   "source": [
    "## Data Preprocessing\n",
    "\n",
    "After performing EDA, proceed with data preprocessing tasks as needed."
   ],
   "metadata": {}
  },
  {
   "cell_type": "code",
   "outputs": [],
   "source": [],
   "metadata": {
    "collapsed": false
   },
   "execution_count": null
  },
  {
   "cell_type": "code",
   "outputs": [],
   "source": [],
   "metadata": {
    "collapsed": false
   },
   "execution_count": null
  },
  {
   "cell_type": "code",
   "outputs": [],
   "source": [],
   "metadata": {
    "collapsed": false
   },
   "execution_count": null
  },
  {
   "cell_type": "code",
   "execution_count": null,
   "metadata": {},
   "outputs": [],
   "source": [
    "# Define your SQL queries\n",
    "# Customized queries for your specific tables\n",
    "queries = {\n",
    "    \"fuelprice\": \"SELECT * FROM fuelprice\",\n",
    "    \"lookup_item\": \"SELECT * FROM lookup_item\",\n",
    "    \"lookup_premise\": \"SELECT * FROM lookup_premise\",\n",
    "    \"pricecatcher\": \"SELECT * FROM pricecatcher\",\n",
    "    # Add as many queries as needed for different tables test\n",
    "}\n",
    "\n",
    "# Function to execute a query and fetch data\n",
    "def fetch_data(query, connector):\n",
    "    connector.connect()  # Ensure the connection is open\n",
    "    data = pd.read_sql_query(query, connector.connection)\n",
    "    connector.close_connection()  # Close the connection after fetching data\n",
    "    return data\n",
    "\n",
    "# Execute queries and store results in a dictionary\n",
    "dataframes = {table: fetch_data(query, db_connector) for table, query in queries.items()}\n",
    "\n",
    "# Example of how to access and display the first 5 rows of the fetched data for each table in a tidy format\n",
    "for table, df in dataframes.items():\n",
    "    display(f\"Data from {table}:\")  # This will print the table name in a neat format\n",
    "    display(df.head())  # This will display the first 5 rows of the DataFrame in a neat, table-like format\n",
    "\n",
    "    print(\"\\n\")  # Just to add a space between tables for better readability\n"
   ]
  },
  {
   "cell_type": "code",
   "outputs": [],
   "source": [
    "for table_name, df in dataframes.items():\n",
    "    print(f\"--- {table_name.upper()} ---\")\n",
    "    print(\"Structure:\\n\", df.info())\n",
    "    print(\"Summary Statistics:\\n\", df.describe())\n",
    "    print(\"First Few Rows:\\n\", df.head(), \"\\n\\n\")\n"
   ],
   "metadata": {
    "collapsed": false
   },
   "execution_count": null
  },
  {
   "cell_type": "code",
   "outputs": [],
   "source": [
    "# Further processing, integration, and exploratory data analysis can proceed from here\n",
    "# For example, you can use the dataframes dictionary to access the data for each table and perform operations such as joining tables, filtering, aggregating, etc.  \n",
    "# You can also use visualization libraries such as Matplotlib, Seaborn, or Plotly to create visualizations for the data.\n",
    "\n",
    "# Example: Joining two tables\n",
    "# merged_data = pd.merge(dataframes[\"fuelprice\"], dataframes[\"pricecatcher\"], on=\"id\", how=\"inner\")"
   ],
   "metadata": {
    "collapsed": false
   },
   "execution_count": null
  },
  {
   "cell_type": "markdown",
   "metadata": {},
   "source": [
    "## Close Database Connection\n",
    "\n",
    "It's important to close the database connection after the operations are complete to prevent memory leaks."
   ]
  },
  {
   "cell_type": "code",
   "execution_count": 8,
   "metadata": {
    "ExecuteTime": {
     "end_time": "2024-02-20T05:09:32.217215500Z",
     "start_time": "2024-02-20T05:09:32.211387500Z"
    }
   },
   "outputs": [
    {
     "name": "stderr",
     "output_type": "stream",
     "text": [
      "2024-02-20 13:09:32,211 - INFO - Database connection closed.\n"
     ]
    }
   ],
   "source": [
    "# Close the database connection\n",
    "db_connector.close_connection()\n"
   ]
  }
 ],
 "metadata": {
  "kernelspec": {
   "display_name": "Python 3",
   "language": "python",
   "name": "python3"
  },
  "language_info": {
   "codemirror_mode": {
    "name": "ipython",
    "version": 3
   },
   "file_extension": ".py",
   "mimetype": "text/x-python",
   "name": "python",
   "nbconvert_exporter": "python",
   "pygments_lexer": "ipython3",
   "version": "3.8.5"
  }
 },
 "nbformat": 4,
 "nbformat_minor": 2
}
