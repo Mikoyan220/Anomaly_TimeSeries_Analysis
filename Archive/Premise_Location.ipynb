{
 "cells": [
  {
   "cell_type": "raw",
   "source": [
    "\n"
   ],
   "metadata": {
    "collapsed": false
   },
   "id": "bed6834f7900b78f"
  },
  {
   "cell_type": "code",
   "outputs": [],
   "source": [
    "# Database connector\n",
    "from db_connector import DatabaseConnector\n",
    "# from urllib.parse import quote_plus # URL encode the password\n",
    "\n",
    "# Data manipulation\n",
    "import pandas as pd \n",
    "# import numpy as np\n",
    "# import geopandas as gpd"
   ],
   "metadata": {
    "collapsed": false,
    "ExecuteTime": {
     "end_time": "2024-03-18T07:31:35.985971Z",
     "start_time": "2024-03-18T07:31:35.982098Z"
    }
   },
   "id": "1f2b66dbdcc2c6ac",
   "execution_count": 31
  },
  {
   "cell_type": "code",
   "outputs": [
    {
     "name": "stderr",
     "output_type": "stream",
     "text": [
      "2024-03-18 15:31:38,050 - INFO - Database connection successful (SQLAlchemy).\n"
     ]
    }
   ],
   "source": [
    "# to retrieve login credential from defined config file\n",
    "from config import DB_CONFIG\n",
    "\n",
    "# Assuming DatabaseConnector is a class you've defined or imported\n",
    "db_connector = DatabaseConnector(DB_CONFIG, use_sqlalchemy=True)\n",
    "db_connector.connect()"
   ],
   "metadata": {
    "collapsed": false,
    "ExecuteTime": {
     "end_time": "2024-03-18T07:31:38.052783Z",
     "start_time": "2024-03-18T07:31:38.043305Z"
    }
   },
   "id": "f626f5c0738f7221",
   "execution_count": 32
  },
  {
   "cell_type": "code",
   "outputs": [
    {
     "name": "stderr",
     "output_type": "stream",
     "text": [
      "2024-03-18 15:31:40,240 - INFO - Database connection closed.\n"
     ]
    },
    {
     "data": {
      "text/plain": "   premise_code                            premise  \\\n0            -1                                      \n1             2                   PASAR BESAR IPOH   \n2             3                   JUSCO AYER KEROH   \n3             6  KEDAI RUNCIT TAFAZ MAJU PRESINT 9   \n4             7   KEDAI RUNCIT SYAZ MAJU PRESINT 9   \n\n                                             address  \\\n0                                                  ,   \n1    JALAN LAKSAMANA,TAMAN JUBILEE,30300 IPOH, PERAK   \n2  LOT 4991,MUKIM BUKIT BARU,75450 LEBUH AYER KER...   \n3        NO.5, JALAN P9B/1,PRESINT 9,62250 PUTRAJAYA   \n4        NO.5, JALAN P9E/1,PRESINT 9,62250 PUTRAJAYA   \n\n               premise_type           state       district  \n0                                                           \n1              Pasar Basah            Perak          Kinta  \n2  Pasar Raya / Supermarket          Melaka  Melaka Tengah  \n3              Kedai Runcit  W.P. Putrajaya   Wp Putrajaya  \n4              Kedai Runcit  W.P. Putrajaya   Wp Putrajaya  ",
      "text/html": "<div>\n<style scoped>\n    .dataframe tbody tr th:only-of-type {\n        vertical-align: middle;\n    }\n\n    .dataframe tbody tr th {\n        vertical-align: top;\n    }\n\n    .dataframe thead th {\n        text-align: right;\n    }\n</style>\n<table border=\"1\" class=\"dataframe\">\n  <thead>\n    <tr style=\"text-align: right;\">\n      <th></th>\n      <th>premise_code</th>\n      <th>premise</th>\n      <th>address</th>\n      <th>premise_type</th>\n      <th>state</th>\n      <th>district</th>\n    </tr>\n  </thead>\n  <tbody>\n    <tr>\n      <th>0</th>\n      <td>-1</td>\n      <td></td>\n      <td>,</td>\n      <td></td>\n      <td></td>\n      <td></td>\n    </tr>\n    <tr>\n      <th>1</th>\n      <td>2</td>\n      <td>PASAR BESAR IPOH</td>\n      <td>JALAN LAKSAMANA,TAMAN JUBILEE,30300 IPOH, PERAK</td>\n      <td>Pasar Basah</td>\n      <td>Perak</td>\n      <td>Kinta</td>\n    </tr>\n    <tr>\n      <th>2</th>\n      <td>3</td>\n      <td>JUSCO AYER KEROH</td>\n      <td>LOT 4991,MUKIM BUKIT BARU,75450 LEBUH AYER KER...</td>\n      <td>Pasar Raya / Supermarket</td>\n      <td>Melaka</td>\n      <td>Melaka Tengah</td>\n    </tr>\n    <tr>\n      <th>3</th>\n      <td>6</td>\n      <td>KEDAI RUNCIT TAFAZ MAJU PRESINT 9</td>\n      <td>NO.5, JALAN P9B/1,PRESINT 9,62250 PUTRAJAYA</td>\n      <td>Kedai Runcit</td>\n      <td>W.P. Putrajaya</td>\n      <td>Wp Putrajaya</td>\n    </tr>\n    <tr>\n      <th>4</th>\n      <td>7</td>\n      <td>KEDAI RUNCIT SYAZ MAJU PRESINT 9</td>\n      <td>NO.5, JALAN P9E/1,PRESINT 9,62250 PUTRAJAYA</td>\n      <td>Kedai Runcit</td>\n      <td>W.P. Putrajaya</td>\n      <td>Wp Putrajaya</td>\n    </tr>\n  </tbody>\n</table>\n</div>"
     },
     "execution_count": 33,
     "metadata": {},
     "output_type": "execute_result"
    }
   ],
   "source": [
    "# Read the data from the database\n",
    "query = \"SELECT * FROM lookup_premise\"\n",
    "\n",
    "# Read the data from the database\n",
    "df = pd.read_sql_query(query, db_connector.engine)\n",
    "\n",
    "# Close the connection\n",
    "db_connector.close_connection()\n",
    "\n",
    "# Display the first few rows of the dataframe\n",
    "df.head()"
   ],
   "metadata": {
    "collapsed": false,
    "ExecuteTime": {
     "end_time": "2024-03-18T07:31:40.246007Z",
     "start_time": "2024-03-18T07:31:40.214647Z"
    }
   },
   "id": "f4a750d473ca8879",
   "execution_count": 33
  },
  {
   "cell_type": "code",
   "outputs": [
    {
     "data": {
      "text/plain": "   premise_code                            premise  \\\n0            -1                                      \n1             2                   PASAR BESAR IPOH   \n2             3                   JUSCO AYER KEROH   \n3             6  KEDAI RUNCIT TAFAZ MAJU PRESINT 9   \n4             7   KEDAI RUNCIT SYAZ MAJU PRESINT 9   \n5             8        PASAR MINI D'MART PRESINT 8   \n6            15                   PASAR MINI KARIM   \n\n                                             address  \\\n0                                                  ,   \n1    JALAN LAKSAMANA,TAMAN JUBILEE,30300 IPOH, PERAK   \n2  LOT 4991,MUKIM BUKIT BARU,75450 LEBUH AYER KER...   \n3        NO.5, JALAN P9B/1,PRESINT 9,62250 PUTRAJAYA   \n4        NO.5, JALAN P9E/1,PRESINT 9,62250 PUTRAJAYA   \n5  BLOK A T00/U01,JALAN P8/D,PRESINT 8, 62000 PUT...   \n6  NO, 7A,KAWASAN PASAR UTAN AJI,01000 KANGAR, PE...   \n\n               premise_type           state       district  \n0                                                           \n1              Pasar Basah            Perak          Kinta  \n2  Pasar Raya / Supermarket          Melaka  Melaka Tengah  \n3              Kedai Runcit  W.P. Putrajaya   Wp Putrajaya  \n4              Kedai Runcit  W.P. Putrajaya   Wp Putrajaya  \n5                Pasar Mini  W.P. Putrajaya   Wp Putrajaya  \n6              Kedai Runcit          Perlis         Kangar  ",
      "text/html": "<div>\n<style scoped>\n    .dataframe tbody tr th:only-of-type {\n        vertical-align: middle;\n    }\n\n    .dataframe tbody tr th {\n        vertical-align: top;\n    }\n\n    .dataframe thead th {\n        text-align: right;\n    }\n</style>\n<table border=\"1\" class=\"dataframe\">\n  <thead>\n    <tr style=\"text-align: right;\">\n      <th></th>\n      <th>premise_code</th>\n      <th>premise</th>\n      <th>address</th>\n      <th>premise_type</th>\n      <th>state</th>\n      <th>district</th>\n    </tr>\n  </thead>\n  <tbody>\n    <tr>\n      <th>0</th>\n      <td>-1</td>\n      <td></td>\n      <td>,</td>\n      <td></td>\n      <td></td>\n      <td></td>\n    </tr>\n    <tr>\n      <th>1</th>\n      <td>2</td>\n      <td>PASAR BESAR IPOH</td>\n      <td>JALAN LAKSAMANA,TAMAN JUBILEE,30300 IPOH, PERAK</td>\n      <td>Pasar Basah</td>\n      <td>Perak</td>\n      <td>Kinta</td>\n    </tr>\n    <tr>\n      <th>2</th>\n      <td>3</td>\n      <td>JUSCO AYER KEROH</td>\n      <td>LOT 4991,MUKIM BUKIT BARU,75450 LEBUH AYER KER...</td>\n      <td>Pasar Raya / Supermarket</td>\n      <td>Melaka</td>\n      <td>Melaka Tengah</td>\n    </tr>\n    <tr>\n      <th>3</th>\n      <td>6</td>\n      <td>KEDAI RUNCIT TAFAZ MAJU PRESINT 9</td>\n      <td>NO.5, JALAN P9B/1,PRESINT 9,62250 PUTRAJAYA</td>\n      <td>Kedai Runcit</td>\n      <td>W.P. Putrajaya</td>\n      <td>Wp Putrajaya</td>\n    </tr>\n    <tr>\n      <th>4</th>\n      <td>7</td>\n      <td>KEDAI RUNCIT SYAZ MAJU PRESINT 9</td>\n      <td>NO.5, JALAN P9E/1,PRESINT 9,62250 PUTRAJAYA</td>\n      <td>Kedai Runcit</td>\n      <td>W.P. Putrajaya</td>\n      <td>Wp Putrajaya</td>\n    </tr>\n    <tr>\n      <th>5</th>\n      <td>8</td>\n      <td>PASAR MINI D'MART PRESINT 8</td>\n      <td>BLOK A T00/U01,JALAN P8/D,PRESINT 8, 62000 PUT...</td>\n      <td>Pasar Mini</td>\n      <td>W.P. Putrajaya</td>\n      <td>Wp Putrajaya</td>\n    </tr>\n    <tr>\n      <th>6</th>\n      <td>15</td>\n      <td>PASAR MINI KARIM</td>\n      <td>NO, 7A,KAWASAN PASAR UTAN AJI,01000 KANGAR, PE...</td>\n      <td>Kedai Runcit</td>\n      <td>Perlis</td>\n      <td>Kangar</td>\n    </tr>\n  </tbody>\n</table>\n</div>"
     },
     "execution_count": 34,
     "metadata": {},
     "output_type": "execute_result"
    }
   ],
   "source": [
    "# Read the data from the database\n",
    "df.head(7)"
   ],
   "metadata": {
    "collapsed": false,
    "ExecuteTime": {
     "end_time": "2024-03-18T07:31:46.582426Z",
     "start_time": "2024-03-18T07:31:46.574059Z"
    }
   },
   "id": "2493df78b8c190d",
   "execution_count": 34
  },
  {
   "cell_type": "code",
   "outputs": [
    {
     "data": {
      "text/plain": "   premise_code                            premise  \\\n0            -1                                      \n1             2                   PASAR BESAR IPOH   \n2             3                   JUSCO AYER KEROH   \n3             6  KEDAI RUNCIT TAFAZ MAJU PRESINT 9   \n4             7   KEDAI RUNCIT SYAZ MAJU PRESINT 9   \n\n                                             address  \\\n0                                                  ,   \n1    JALAN LAKSAMANA,TAMAN JUBILEE,30300 IPOH, PERAK   \n2  LOT 4991,MUKIM BUKIT BARU,75450 LEBUH AYER KER...   \n3        NO.5, JALAN P9B/1,PRESINT 9,62250 PUTRAJAYA   \n4        NO.5, JALAN P9E/1,PRESINT 9,62250 PUTRAJAYA   \n\n               premise_type           state       district latitude longitude  \n0                                                                              \n1              Pasar Basah            Perak          Kinta                     \n2  Pasar Raya / Supermarket          Melaka  Melaka Tengah                     \n3              Kedai Runcit  W.P. Putrajaya   Wp Putrajaya                     \n4              Kedai Runcit  W.P. Putrajaya   Wp Putrajaya                     ",
      "text/html": "<div>\n<style scoped>\n    .dataframe tbody tr th:only-of-type {\n        vertical-align: middle;\n    }\n\n    .dataframe tbody tr th {\n        vertical-align: top;\n    }\n\n    .dataframe thead th {\n        text-align: right;\n    }\n</style>\n<table border=\"1\" class=\"dataframe\">\n  <thead>\n    <tr style=\"text-align: right;\">\n      <th></th>\n      <th>premise_code</th>\n      <th>premise</th>\n      <th>address</th>\n      <th>premise_type</th>\n      <th>state</th>\n      <th>district</th>\n      <th>latitude</th>\n      <th>longitude</th>\n    </tr>\n  </thead>\n  <tbody>\n    <tr>\n      <th>0</th>\n      <td>-1</td>\n      <td></td>\n      <td>,</td>\n      <td></td>\n      <td></td>\n      <td></td>\n      <td></td>\n      <td></td>\n    </tr>\n    <tr>\n      <th>1</th>\n      <td>2</td>\n      <td>PASAR BESAR IPOH</td>\n      <td>JALAN LAKSAMANA,TAMAN JUBILEE,30300 IPOH, PERAK</td>\n      <td>Pasar Basah</td>\n      <td>Perak</td>\n      <td>Kinta</td>\n      <td></td>\n      <td></td>\n    </tr>\n    <tr>\n      <th>2</th>\n      <td>3</td>\n      <td>JUSCO AYER KEROH</td>\n      <td>LOT 4991,MUKIM BUKIT BARU,75450 LEBUH AYER KER...</td>\n      <td>Pasar Raya / Supermarket</td>\n      <td>Melaka</td>\n      <td>Melaka Tengah</td>\n      <td></td>\n      <td></td>\n    </tr>\n    <tr>\n      <th>3</th>\n      <td>6</td>\n      <td>KEDAI RUNCIT TAFAZ MAJU PRESINT 9</td>\n      <td>NO.5, JALAN P9B/1,PRESINT 9,62250 PUTRAJAYA</td>\n      <td>Kedai Runcit</td>\n      <td>W.P. Putrajaya</td>\n      <td>Wp Putrajaya</td>\n      <td></td>\n      <td></td>\n    </tr>\n    <tr>\n      <th>4</th>\n      <td>7</td>\n      <td>KEDAI RUNCIT SYAZ MAJU PRESINT 9</td>\n      <td>NO.5, JALAN P9E/1,PRESINT 9,62250 PUTRAJAYA</td>\n      <td>Kedai Runcit</td>\n      <td>W.P. Putrajaya</td>\n      <td>Wp Putrajaya</td>\n      <td></td>\n      <td></td>\n    </tr>\n  </tbody>\n</table>\n</div>"
     },
     "execution_count": 35,
     "metadata": {},
     "output_type": "execute_result"
    }
   ],
   "source": [
    "df[\"latitude\"] = \"\"\n",
    "df[\"longitude\"] = \"\"\n",
    "df.head(5)"
   ],
   "metadata": {
    "collapsed": false,
    "ExecuteTime": {
     "end_time": "2024-03-18T07:31:53.214237Z",
     "start_time": "2024-03-18T07:31:53.206114Z"
    }
   },
   "id": "7f0646facfd70e69",
   "execution_count": 35
  },
  {
   "cell_type": "code",
   "outputs": [
    {
     "name": "stdout",
     "output_type": "stream",
     "text": [
      "Updated 500 rows with coordinates.\n",
      "Updated 1000 rows with coordinates.\n",
      "Updated 1500 rows with coordinates.\n",
      "Updated 2000 rows with coordinates.\n",
      "Updated 2500 rows with coordinates.\n",
      "Finished updating coordinates for all rows.\n",
      "   premise_code                            premise  \\\n",
      "0            -1                                      \n",
      "1             2                   PASAR BESAR IPOH   \n",
      "2             3                   JUSCO AYER KEROH   \n",
      "3             6  KEDAI RUNCIT TAFAZ MAJU PRESINT 9   \n",
      "4             7   KEDAI RUNCIT SYAZ MAJU PRESINT 9   \n",
      "\n",
      "                                             address  \\\n",
      "0                                                  ,   \n",
      "1    JALAN LAKSAMANA,TAMAN JUBILEE,30300 IPOH, PERAK   \n",
      "2  LOT 4991,MUKIM BUKIT BARU,75450 LEBUH AYER KER...   \n",
      "3        NO.5, JALAN P9B/1,PRESINT 9,62250 PUTRAJAYA   \n",
      "4        NO.5, JALAN P9E/1,PRESINT 9,62250 PUTRAJAYA   \n",
      "\n",
      "               premise_type           state       district  latitude  \\\n",
      "0                                                               None   \n",
      "1              Pasar Basah            Perak          Kinta  4.592759   \n",
      "2  Pasar Raya / Supermarket          Melaka  Melaka Tengah  2.242987   \n",
      "3              Kedai Runcit  W.P. Putrajaya   Wp Putrajaya  2.944309   \n",
      "4              Kedai Runcit  W.P. Putrajaya   Wp Putrajaya  2.941244   \n",
      "\n",
      "    longitude  \n",
      "0        None  \n",
      "1  101.083988  \n",
      "2  102.290511  \n",
      "3  101.675805  \n",
      "4  101.675183  \n"
     ]
    }
   ],
   "source": [
    "import pandas as pd\n",
    "import requests\n",
    "import config\n",
    "\n",
    "# Assuming df is your DataFrame loaded with data\n",
    "# Google Maps API key\n",
    "Google_Maps_API_KEY = config.Google_Maps_API_KEY  # to remove/replace this later on!! \n",
    "\n",
    "def fetch_coordinates(api_key, address):\n",
    "    \"\"\"Fetch coordinates (latitude, longitude) for the given address using Google Maps Geocoding API.\"\"\"\n",
    "    base_url = \"https://maps.googleapis.com/maps/api/geocode/json\"\n",
    "    response = requests.get(base_url, params={'address': address, 'key': api_key})\n",
    "    if response.status_code == 200:\n",
    "        data = response.json()\n",
    "        if data['results']:\n",
    "            latitude = data['results'][0]['geometry']['location']['lat']\n",
    "            longitude = data['results'][0]['geometry']['location']['lng']\n",
    "            return latitude, longitude\n",
    "    return None, None\n",
    "\n",
    "# Loop through the DataFrame and update with coordinates\n",
    "for index, row in df.iterrows():\n",
    "    if row['address'].strip():  # Skip empty addresses\n",
    "        lat, lon = fetch_coordinates(api_key, row['address'])\n",
    "        df.at[index, 'latitude'] = lat\n",
    "        df.at[index, 'longitude'] = lon\n",
    "        \n",
    "    if (index + 1) % 500 == 0:  # Print update every 500 rows\n",
    "        print(f\"Updated {index + 1} rows with coordinates.\")\n",
    "\n",
    "# Final update status\n",
    "print(f\"Finished updating coordinates for all rows.\")\n",
    "\n",
    "# Optionally, print or inspect the first few rows to check updates\n",
    "print(df.head())"
   ],
   "metadata": {
    "collapsed": false,
    "ExecuteTime": {
     "end_time": "2024-03-18T07:53:30.613435Z",
     "start_time": "2024-03-18T07:32:07.558300Z"
    }
   },
   "id": "8e391e52ef3bb1de",
   "execution_count": 36
  },
  {
   "cell_type": "code",
   "outputs": [
    {
     "name": "stdout",
     "output_type": "stream",
     "text": [
      "First few rows of the processed DataFrame:\n",
      "   latitude   longitude\n",
      "0      None        None\n",
      "1  4.592759  101.083988\n",
      "2  2.242987  102.290511\n",
      "3  2.944309  101.675805\n",
      "4  2.941244  101.675183\n"
     ]
    }
   ],
   "source": [
    "# Display the first few rows of the DataFrame to check the new columns\n",
    "print(\"First few rows of the processed DataFrame:\")\n",
    "print(df[['latitude', 'longitude']].head())"
   ],
   "metadata": {
    "collapsed": false,
    "ExecuteTime": {
     "end_time": "2024-03-18T08:42:08.528869Z",
     "start_time": "2024-03-18T08:42:08.524753Z"
    }
   },
   "id": "dd528cfd7a53bca9",
   "execution_count": 66
  },
  {
   "cell_type": "code",
   "outputs": [
    {
     "name": "stdout",
     "output_type": "stream",
     "text": [
      "Last few rows of the processed DataFrame:\n",
      "      latitude   longitude\n",
      "2705   3.14701  101.737343\n",
      "2706  2.798548  103.485467\n",
      "2707  2.821091  101.817199\n",
      "2708  3.110393  101.636942\n",
      "2709  3.075532  101.633965\n"
     ]
    }
   ],
   "source": [
    "# Display the last few rows of the DataFrame to check the new columns\n",
    "print(\"Last few rows of the processed DataFrame:\")\n",
    "print(df[['latitude', 'longitude']].tail())"
   ],
   "metadata": {
    "collapsed": false,
    "ExecuteTime": {
     "end_time": "2024-03-18T08:42:18.118204Z",
     "start_time": "2024-03-18T08:42:18.113731Z"
    }
   },
   "id": "e6ef299c6a4bd09",
   "execution_count": 67
  },
  {
   "cell_type": "code",
   "outputs": [
    {
     "name": "stdout",
     "output_type": "stream",
     "text": [
      "Unique latitudes: 2314\n",
      "Unique longitude: 2311\n"
     ]
    }
   ],
   "source": [
    "# Check the number of unique place IDs\n",
    "print(f\"Unique latitudes: {df['latitude'].nunique()}\")\n",
    "\n",
    "# Check the number of unique formatted addresses\n",
    "print(f\"Unique longitude: {df['longitude'].nunique()}\")"
   ],
   "metadata": {
    "collapsed": false,
    "ExecuteTime": {
     "end_time": "2024-03-18T08:34:40.852714Z",
     "start_time": "2024-03-18T08:34:40.847425Z"
    }
   },
   "id": "a162658edc34169a",
   "execution_count": 53
  },
  {
   "cell_type": "code",
   "outputs": [
    {
     "name": "stdout",
     "output_type": "stream",
     "text": [
      "latitude     61\n",
      "longitude    61\n",
      "dtype: int64\n"
     ]
    }
   ],
   "source": [
    "# Check for missing data in the new columns\n",
    "print(df[['latitude', 'longitude']].isnull().sum())\n"
   ],
   "metadata": {
    "collapsed": false,
    "ExecuteTime": {
     "end_time": "2024-03-18T08:35:50.200602Z",
     "start_time": "2024-03-18T08:35:50.195753Z"
    }
   },
   "id": "eaa55ad866fac472",
   "execution_count": 54
  },
  {
   "cell_type": "code",
   "outputs": [
    {
     "data": {
      "text/plain": "      premise_code                                  premise  \\\n0               -1                                            \n44             382                PASARAYA PKT PASIR TUMBOH   \n56             480  PASARAYA PANTAI TIMUR (BACHOK) SDN. BHD   \n141            920                         PASAR AWAM GEMAS   \n237           1511                          PASAR MINI BUDI   \n...            ...                                      ...   \n2587         20772                    MARI-MARI SUPERMARKET   \n2633         20819                 KEDAI RUNCIT HJ. IBRAHIM   \n2634         20820                    79 FRESH MART SDN BHD   \n2684         20871                       KITAI MART SDN BHD   \n2687         20874                   CCK FRESH MART SDN BHD   \n\n                                                address  \\\n0                                                     ,   \n44                     G6582,LOT 11,KEDAI PASIR TUMBOH,   \n56                  LOT 2076, MUKIM TEPUS,GUNUNG TIMUR,   \n141                            NO. 1,PASAR BESAR GEMAS,   \n237                                    NO. 24,KG. BUDI,   \n...                                                 ...   \n2587  NO 7,8 & 9, JALAN SRI MERSING 11,PUSAT PERDAGA...   \n2633                            NO  208,PTG. TOK MAHAT,   \n2634                                LOT 2526,TAMAN ROD,   \n2684  LOT 1273,SUBLOT 17-22,BLOCK 13,MENUAN LAND DIS...   \n2687  GROUND & 2ND FLOOR,LOT 248,SONG TOWN,GROUND & ...   \n\n                  premise_type            state     district latitude  \\\n0                                                                None   \n44    Pasar Raya / Supermarket         Kelantan   Kota Bharu     None   \n56    Pasar Raya / Supermarket         Kelantan       Bachok     None   \n141               Pasar Basah   Negeri Sembilan        Gemas     None   \n237                 Pasar Mini         Kelantan       Bachok     None   \n...                        ...              ...          ...      ...   \n2587  Pasar Raya / Supermarket            Johor      Mersing     None   \n2633              Kedai Runcit            Perak       Kerian     None   \n2634              Kedai Runcit            Perak  Hilir Perak     None   \n2684                Pasar Mini          Sarawak        Kapit     None   \n2687              Pasar Basah           Sarawak         Song     None   \n\n     longitude  \n0         None  \n44        None  \n56        None  \n141       None  \n237       None  \n...        ...  \n2587      None  \n2633      None  \n2634      None  \n2684      None  \n2687      None  \n\n[61 rows x 8 columns]",
      "text/html": "<div>\n<style scoped>\n    .dataframe tbody tr th:only-of-type {\n        vertical-align: middle;\n    }\n\n    .dataframe tbody tr th {\n        vertical-align: top;\n    }\n\n    .dataframe thead th {\n        text-align: right;\n    }\n</style>\n<table border=\"1\" class=\"dataframe\">\n  <thead>\n    <tr style=\"text-align: right;\">\n      <th></th>\n      <th>premise_code</th>\n      <th>premise</th>\n      <th>address</th>\n      <th>premise_type</th>\n      <th>state</th>\n      <th>district</th>\n      <th>latitude</th>\n      <th>longitude</th>\n    </tr>\n  </thead>\n  <tbody>\n    <tr>\n      <th>0</th>\n      <td>-1</td>\n      <td></td>\n      <td>,</td>\n      <td></td>\n      <td></td>\n      <td></td>\n      <td>None</td>\n      <td>None</td>\n    </tr>\n    <tr>\n      <th>44</th>\n      <td>382</td>\n      <td>PASARAYA PKT PASIR TUMBOH</td>\n      <td>G6582,LOT 11,KEDAI PASIR TUMBOH,</td>\n      <td>Pasar Raya / Supermarket</td>\n      <td>Kelantan</td>\n      <td>Kota Bharu</td>\n      <td>None</td>\n      <td>None</td>\n    </tr>\n    <tr>\n      <th>56</th>\n      <td>480</td>\n      <td>PASARAYA PANTAI TIMUR (BACHOK) SDN. BHD</td>\n      <td>LOT 2076, MUKIM TEPUS,GUNUNG TIMUR,</td>\n      <td>Pasar Raya / Supermarket</td>\n      <td>Kelantan</td>\n      <td>Bachok</td>\n      <td>None</td>\n      <td>None</td>\n    </tr>\n    <tr>\n      <th>141</th>\n      <td>920</td>\n      <td>PASAR AWAM GEMAS</td>\n      <td>NO. 1,PASAR BESAR GEMAS,</td>\n      <td>Pasar Basah</td>\n      <td>Negeri Sembilan</td>\n      <td>Gemas</td>\n      <td>None</td>\n      <td>None</td>\n    </tr>\n    <tr>\n      <th>237</th>\n      <td>1511</td>\n      <td>PASAR MINI BUDI</td>\n      <td>NO. 24,KG. BUDI,</td>\n      <td>Pasar Mini</td>\n      <td>Kelantan</td>\n      <td>Bachok</td>\n      <td>None</td>\n      <td>None</td>\n    </tr>\n    <tr>\n      <th>...</th>\n      <td>...</td>\n      <td>...</td>\n      <td>...</td>\n      <td>...</td>\n      <td>...</td>\n      <td>...</td>\n      <td>...</td>\n      <td>...</td>\n    </tr>\n    <tr>\n      <th>2587</th>\n      <td>20772</td>\n      <td>MARI-MARI SUPERMARKET</td>\n      <td>NO 7,8 &amp; 9, JALAN SRI MERSING 11,PUSAT PERDAGA...</td>\n      <td>Pasar Raya / Supermarket</td>\n      <td>Johor</td>\n      <td>Mersing</td>\n      <td>None</td>\n      <td>None</td>\n    </tr>\n    <tr>\n      <th>2633</th>\n      <td>20819</td>\n      <td>KEDAI RUNCIT HJ. IBRAHIM</td>\n      <td>NO  208,PTG. TOK MAHAT,</td>\n      <td>Kedai Runcit</td>\n      <td>Perak</td>\n      <td>Kerian</td>\n      <td>None</td>\n      <td>None</td>\n    </tr>\n    <tr>\n      <th>2634</th>\n      <td>20820</td>\n      <td>79 FRESH MART SDN BHD</td>\n      <td>LOT 2526,TAMAN ROD,</td>\n      <td>Kedai Runcit</td>\n      <td>Perak</td>\n      <td>Hilir Perak</td>\n      <td>None</td>\n      <td>None</td>\n    </tr>\n    <tr>\n      <th>2684</th>\n      <td>20871</td>\n      <td>KITAI MART SDN BHD</td>\n      <td>LOT 1273,SUBLOT 17-22,BLOCK 13,MENUAN LAND DIS...</td>\n      <td>Pasar Mini</td>\n      <td>Sarawak</td>\n      <td>Kapit</td>\n      <td>None</td>\n      <td>None</td>\n    </tr>\n    <tr>\n      <th>2687</th>\n      <td>20874</td>\n      <td>CCK FRESH MART SDN BHD</td>\n      <td>GROUND &amp; 2ND FLOOR,LOT 248,SONG TOWN,GROUND &amp; ...</td>\n      <td>Pasar Basah</td>\n      <td>Sarawak</td>\n      <td>Song</td>\n      <td>None</td>\n      <td>None</td>\n    </tr>\n  </tbody>\n</table>\n<p>61 rows × 8 columns</p>\n</div>"
     },
     "execution_count": 61,
     "metadata": {},
     "output_type": "execute_result"
    }
   ],
   "source": [
    "# Assuming 'df' is your DataFrame\n",
    "filtered_df = df[df['latitude'].isnull() & df['longitude'].isnull()]\n",
    "\n",
    "# Now, 'filtered_df' contains only the rows where both 'latitude' and 'longitude' have null values.\n",
    "filtered_df"
   ],
   "metadata": {
    "collapsed": false,
    "ExecuteTime": {
     "end_time": "2024-03-18T08:40:25.875196Z",
     "start_time": "2024-03-18T08:40:25.864124Z"
    }
   },
   "id": "afb1e2f3d5f777a5",
   "execution_count": 61
  },
  {
   "cell_type": "code",
   "outputs": [
    {
     "data": {
      "text/plain": "   premise_code premise address premise_type state district latitude longitude\n0            -1               ,                                 None      None",
      "text/html": "<div>\n<style scoped>\n    .dataframe tbody tr th:only-of-type {\n        vertical-align: middle;\n    }\n\n    .dataframe tbody tr th {\n        vertical-align: top;\n    }\n\n    .dataframe thead th {\n        text-align: right;\n    }\n</style>\n<table border=\"1\" class=\"dataframe\">\n  <thead>\n    <tr style=\"text-align: right;\">\n      <th></th>\n      <th>premise_code</th>\n      <th>premise</th>\n      <th>address</th>\n      <th>premise_type</th>\n      <th>state</th>\n      <th>district</th>\n      <th>latitude</th>\n      <th>longitude</th>\n    </tr>\n  </thead>\n  <tbody>\n    <tr>\n      <th>0</th>\n      <td>-1</td>\n      <td></td>\n      <td>,</td>\n      <td></td>\n      <td></td>\n      <td></td>\n      <td>None</td>\n      <td>None</td>\n    </tr>\n  </tbody>\n</table>\n</div>"
     },
     "execution_count": 74,
     "metadata": {},
     "output_type": "execute_result"
    }
   ],
   "source": [
    "filtered_df.head()"
   ],
   "metadata": {
    "collapsed": false,
    "ExecuteTime": {
     "end_time": "2024-03-18T10:08:46.998126Z",
     "start_time": "2024-03-18T10:08:46.991541Z"
    }
   },
   "id": "c5e9677fefcd2134",
   "execution_count": 74
  },
  {
   "cell_type": "code",
   "outputs": [],
   "source": [
    "# save the updated data frame to a new file to a directory named \"lookup_premise_geocoded\" on desktop \n",
    "filtered_df.to_csv('C://Users//user//Documents//WQD7002 - FYP//Datasets//lookup_premise_geocode_challege.csv', index=True)"
   ],
   "metadata": {
    "collapsed": false,
    "ExecuteTime": {
     "end_time": "2024-03-18T10:08:14.637187Z",
     "start_time": "2024-03-18T10:08:14.630945Z"
    }
   },
   "id": "19a643157447e0c1",
   "execution_count": 73
  },
  {
   "cell_type": "code",
   "outputs": [
    {
     "name": "stdout",
     "output_type": "stream",
     "text": [
      "Updated coordinates for row 44.\n",
      "Updated coordinates for row 56.\n",
      "Updated coordinates for row 141.\n",
      "Updated coordinates for row 237.\n",
      "Updated coordinates for row 261.\n",
      "Updated coordinates for row 363.\n",
      "Updated coordinates for row 408.\n",
      "Updated coordinates for row 439.\n",
      "Updated coordinates for row 445.\n",
      "Updated 500 rows with coordinates.\n",
      "Updated coordinates for row 549.\n",
      "Updated coordinates for row 691.\n",
      "Updated coordinates for row 823.\n",
      "Updated coordinates for row 894.\n",
      "Updated coordinates for row 904.\n",
      "Updated coordinates for row 921.\n",
      "Updated 1000 rows with coordinates.\n",
      "Updated coordinates for row 1005.\n",
      "Updated coordinates for row 1045.\n",
      "Updated coordinates for row 1133.\n",
      "Updated coordinates for row 1145.\n",
      "Updated coordinates for row 1184.\n",
      "Updated coordinates for row 1196.\n",
      "Updated coordinates for row 1267.\n",
      "Updated coordinates for row 1298.\n",
      "Updated coordinates for row 1331.\n",
      "Updated coordinates for row 1359.\n",
      "Updated 1500 rows with coordinates.\n",
      "Updated coordinates for row 1538.\n",
      "Updated coordinates for row 1598.\n",
      "Updated coordinates for row 1629.\n",
      "Updated coordinates for row 1698.\n",
      "Updated coordinates for row 1728.\n",
      "Updated coordinates for row 1777.\n",
      "Updated coordinates for row 1798.\n",
      "Updated coordinates for row 1829.\n",
      "Updated coordinates for row 1996.\n",
      "Updated 2000 rows with coordinates.\n",
      "Updated coordinates for row 2002.\n",
      "Updated coordinates for row 2013.\n",
      "Updated coordinates for row 2050.\n",
      "Updated coordinates for row 2051.\n",
      "Updated coordinates for row 2068.\n",
      "Updated coordinates for row 2190.\n",
      "Updated coordinates for row 2203.\n",
      "Updated coordinates for row 2319.\n",
      "Updated coordinates for row 2381.\n",
      "Updated coordinates for row 2384.\n",
      "Updated coordinates for row 2458.\n",
      "Updated coordinates for row 2499.\n",
      "Updated 2500 rows with coordinates.\n",
      "Updated coordinates for row 2507.\n",
      "Updated coordinates for row 2508.\n",
      "Updated coordinates for row 2528.\n",
      "Updated coordinates for row 2531.\n",
      "Updated coordinates for row 2549.\n",
      "Updated coordinates for row 2559.\n",
      "Updated coordinates for row 2564.\n",
      "Updated coordinates for row 2569.\n",
      "Updated coordinates for row 2583.\n",
      "Updated coordinates for row 2587.\n",
      "Updated coordinates for row 2633.\n",
      "Updated coordinates for row 2634.\n",
      "Updated coordinates for row 2684.\n",
      "Updated coordinates for row 2687.\n",
      "Finished updating coordinates for all rows.\n",
      "   premise_code                            premise  \\\n",
      "0            -1                                      \n",
      "1             2                   PASAR BESAR IPOH   \n",
      "2             3                   JUSCO AYER KEROH   \n",
      "3             6  KEDAI RUNCIT TAFAZ MAJU PRESINT 9   \n",
      "4             7   KEDAI RUNCIT SYAZ MAJU PRESINT 9   \n",
      "\n",
      "                                             address  \\\n",
      "0                                                  ,   \n",
      "1    JALAN LAKSAMANA,TAMAN JUBILEE,30300 IPOH, PERAK   \n",
      "2  LOT 4991,MUKIM BUKIT BARU,75450 LEBUH AYER KER...   \n",
      "3        NO.5, JALAN P9B/1,PRESINT 9,62250 PUTRAJAYA   \n",
      "4        NO.5, JALAN P9E/1,PRESINT 9,62250 PUTRAJAYA   \n",
      "\n",
      "               premise_type           state       district  latitude  \\\n",
      "0                                                               None   \n",
      "1              Pasar Basah            Perak          Kinta  4.592759   \n",
      "2  Pasar Raya / Supermarket          Melaka  Melaka Tengah  2.242987   \n",
      "3              Kedai Runcit  W.P. Putrajaya   Wp Putrajaya  2.944309   \n",
      "4              Kedai Runcit  W.P. Putrajaya   Wp Putrajaya  2.941244   \n",
      "\n",
      "    longitude  \n",
      "0        None  \n",
      "1  101.083988  \n",
      "2  102.290511  \n",
      "3  101.675805  \n",
      "4  101.675183  \n"
     ]
    }
   ],
   "source": [
    "import pandas as pd\n",
    "import requests\n",
    "\n",
    "# Assuming df is your DataFrame loaded with data\n",
    "\n",
    "Google_Maps_API_KEY = config.Google_Maps_API_KEY   # Replace 'abcdeY' with your actual Google Maps API key\n",
    "\n",
    "def fetch_coordinates(api_key, premise, address, state, district):\n",
    "    \"\"\"\n",
    "    Fetch coordinates (latitude, longitude) for the given address using Google Maps Geocoding API.\n",
    "    Enhance search accuracy by including premise name, state, and district in the search query.\n",
    "    \"\"\"\n",
    "    # Construct a more detailed address by including premise, state, and district if available\n",
    "    detailed_address = f\"{premise}, {address}, {district}, {state}\"\n",
    "    base_url = \"https://maps.googleapis.com/maps/api/geocode/json\"\n",
    "    response = requests.get(base_url, params={'address': detailed_address.strip(), 'key': Google_Maps_API_KEY})\n",
    "    if response.status_code == 200:\n",
    "        data = response.json()\n",
    "        if data['results']:\n",
    "            latitude = data['results'][0]['geometry']['location']['lat']\n",
    "            longitude = data['results'][0]['geometry']['location']['lng']\n",
    "            return latitude, longitude\n",
    "    return None, None\n",
    "\n",
    "# Loop through the DataFrame and update with coordinates\n",
    "for index, row in df.iterrows():\n",
    "    # Check for rows with missing or empty latitude and longitude values\n",
    "    if pd.isnull(row['latitude']) or row['latitude'] == '' or pd.isnull(row['longitude']) or row['longitude'] == '':\n",
    "        # Use premise, address, state, and district for enhanced geocoding accuracy\n",
    "        lat, lon = fetch_coordinates(Google_Maps_API_KEY, row['premise'], row['address'], row['state'], row['district'])\n",
    "        if lat is not None and lon is not None:\n",
    "            df.at[index, 'latitude'] = lat\n",
    "            df.at[index, 'longitude'] = lon\n",
    "            print(f\"Updated coordinates for row {index}.\")\n",
    "        \n",
    "    if (index + 1) % 500 == 0:  # Print update every 500 rows\n",
    "        print(f\"Updated {index + 1} rows with coordinates.\")\n",
    "\n",
    "# Final update status\n",
    "print(f\"Finished updating coordinates for all rows.\")\n",
    "\n",
    "# Optionally, print or inspect the first few rows to check updates\n",
    "print(df.head())"
   ],
   "metadata": {
    "collapsed": false,
    "ExecuteTime": {
     "end_time": "2024-03-18T09:08:58.137057Z",
     "start_time": "2024-03-18T09:08:30.566873Z"
    }
   },
   "id": "5bdd47d3bc6d90a3",
   "execution_count": 68
  },
  {
   "cell_type": "code",
   "outputs": [
    {
     "name": "stdout",
     "output_type": "stream",
     "text": [
      "latitude     1\n",
      "longitude    1\n",
      "dtype: int64\n"
     ]
    }
   ],
   "source": [
    "# Check for missing data in the new columns\n",
    "print(df[['latitude', 'longitude']].isnull().sum())"
   ],
   "metadata": {
    "collapsed": false,
    "ExecuteTime": {
     "end_time": "2024-03-18T09:09:19.729871Z",
     "start_time": "2024-03-18T09:09:19.725117Z"
    }
   },
   "id": "973a62fe9e0563c3",
   "execution_count": 69
  },
  {
   "cell_type": "code",
   "outputs": [
    {
     "data": {
      "text/plain": "   premise_code premise address premise_type state district latitude longitude\n0            -1               ,                                 None      None",
      "text/html": "<div>\n<style scoped>\n    .dataframe tbody tr th:only-of-type {\n        vertical-align: middle;\n    }\n\n    .dataframe tbody tr th {\n        vertical-align: top;\n    }\n\n    .dataframe thead th {\n        text-align: right;\n    }\n</style>\n<table border=\"1\" class=\"dataframe\">\n  <thead>\n    <tr style=\"text-align: right;\">\n      <th></th>\n      <th>premise_code</th>\n      <th>premise</th>\n      <th>address</th>\n      <th>premise_type</th>\n      <th>state</th>\n      <th>district</th>\n      <th>latitude</th>\n      <th>longitude</th>\n    </tr>\n  </thead>\n  <tbody>\n    <tr>\n      <th>0</th>\n      <td>-1</td>\n      <td></td>\n      <td>,</td>\n      <td></td>\n      <td></td>\n      <td></td>\n      <td>None</td>\n      <td>None</td>\n    </tr>\n  </tbody>\n</table>\n</div>"
     },
     "execution_count": 70,
     "metadata": {},
     "output_type": "execute_result"
    }
   ],
   "source": [
    "# Assuming 'df' is your DataFrame\n",
    "filtered_df = df[df['latitude'].isnull() & df['longitude'].isnull()]\n",
    "\n",
    "# Now, 'filtered_df' contains only the rows where both 'latitude' and 'longitude' have null values.\n",
    "filtered_df"
   ],
   "metadata": {
    "collapsed": false,
    "ExecuteTime": {
     "end_time": "2024-03-18T09:09:35.742740Z",
     "start_time": "2024-03-18T09:09:35.734864Z"
    }
   },
   "id": "6ae6b8314cb37eba",
   "execution_count": 70
  },
  {
   "cell_type": "code",
   "outputs": [
    {
     "name": "stdout",
     "output_type": "stream",
     "text": [
      "Unique latitudes: 2360\n",
      "Unique longitude: 2357\n"
     ]
    }
   ],
   "source": [
    "# Check the number of unique place IDs\n",
    "print(f\"Unique latitudes: {df['latitude'].nunique()}\")\n",
    "\n",
    "# Check the number of unique formatted addresses\n",
    "print(f\"Unique longitude: {df['longitude'].nunique()}\")"
   ],
   "metadata": {
    "collapsed": false,
    "ExecuteTime": {
     "end_time": "2024-03-18T09:10:09.178685Z",
     "start_time": "2024-03-18T09:10:09.174907Z"
    }
   },
   "id": "fc6202fa6c8761de",
   "execution_count": 71
  },
  {
   "cell_type": "code",
   "outputs": [],
   "source": [
    "# save the updated data frame to a new file to a directory named \"lookup_premise_geocoded\" on desktop \n",
    "df.to_csv('C://Users//user//Documents//WQD7002 - FYP//Datasets//lookup_premise_geocoded.csv', index=True)"
   ],
   "metadata": {
    "collapsed": false,
    "ExecuteTime": {
     "end_time": "2024-03-18T09:10:54.774297Z",
     "start_time": "2024-03-18T09:10:54.755740Z"
    }
   },
   "id": "b02c00cb489620d2",
   "execution_count": 72
  },
  {
   "cell_type": "code",
   "outputs": [],
   "source": [],
   "metadata": {
    "collapsed": false
   },
   "id": "d8dd9c5ddb8cb9a",
   "execution_count": null
  },
  {
   "cell_type": "code",
   "outputs": [],
   "source": [],
   "metadata": {
    "collapsed": false
   },
   "id": "90acdeea94de1f2d",
   "execution_count": null
  },
  {
   "cell_type": "code",
   "outputs": [],
   "source": [],
   "metadata": {
    "collapsed": false
   },
   "id": "d2a4d212031b5b77",
   "execution_count": null
  },
  {
   "cell_type": "code",
   "outputs": [],
   "source": [],
   "metadata": {
    "collapsed": false
   },
   "id": "6050730f11463479",
   "execution_count": null
  },
  {
   "cell_type": "code",
   "outputs": [],
   "source": [],
   "metadata": {
    "collapsed": false
   },
   "id": "71d148818a8762aa",
   "execution_count": null
  },
  {
   "cell_type": "code",
   "outputs": [],
   "source": [],
   "metadata": {
    "collapsed": false
   },
   "id": "b95c599f3c49f915",
   "execution_count": null
  }
 ],
 "metadata": {
  "kernelspec": {
   "display_name": "Python 3",
   "language": "python",
   "name": "python3"
  },
  "language_info": {
   "codemirror_mode": {
    "name": "ipython",
    "version": 2
   },
   "file_extension": ".py",
   "mimetype": "text/x-python",
   "name": "python",
   "nbconvert_exporter": "python",
   "pygments_lexer": "ipython2",
   "version": "2.7.6"
  }
 },
 "nbformat": 4,
 "nbformat_minor": 5
}
